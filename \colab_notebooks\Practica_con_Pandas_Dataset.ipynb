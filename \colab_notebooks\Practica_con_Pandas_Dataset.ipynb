{
  "nbformat": 4,
  "nbformat_minor": 0,
  "metadata": {
    "colab": {
      "provenance": [],
      "mount_file_id": "1oRG4bbZDkt73SsZYhdFCes6qnoCcX0bk",
      "authorship_tag": "ABX9TyOO0Vg89SbB+11GZNpmEGmp",
      "include_colab_link": true
    },
    "kernelspec": {
      "name": "python3",
      "display_name": "Python 3"
    },
    "language_info": {
      "name": "python"
    }
  },
  "cells": [
    {
      "cell_type": "markdown",
      "metadata": {
        "id": "view-in-github",
        "colab_type": "text"
      },
      "source": [
        "<a href=\"https://colab.research.google.com/github/Legodark/Learning-Data-Science/blob/main/%5Ccolab_notebooks%5CPractica_con_Pandas_Dataset.ipynb\" target=\"_parent\"><img src=\"https://colab.research.google.com/assets/colab-badge.svg\" alt=\"Open In Colab\"/></a>"
      ]
    },
    {
      "cell_type": "markdown",
      "source": [
        "# Libro de prácticas con Pandas\n",
        "\n",
        "Pandas significa **Panel Data**\n",
        "\n",
        "## Importación "
      ],
      "metadata": {
        "id": "Ppl7usmhnprw"
      }
    },
    {
      "cell_type": "code",
      "execution_count": null,
      "metadata": {
        "id": "csuUS0gD6Lgx"
      },
      "outputs": [],
      "source": [
        "import pandas as pd"
      ]
    },
    {
      "cell_type": "markdown",
      "source": [
        "## Lectura de dataset\n",
        "\n",
        "[Kaggle Dataset](https://www.kaggle.com/datasets/jeanrada/virtual-mode?select=ModalidadVirtual.csv)\n",
        "\n",
        "Usamos .read_csv en este caso para leer el daraset y lo guardamos en la variable df.\n",
        "> df(dataframe), es el nombre de la variable que le he puesto yo, pero se puede llamar como queramos."
      ],
      "metadata": {
        "id": "LsrqwZY3oyfy"
      }
    },
    {
      "cell_type": "code",
      "source": [
        "df = pd.read_csv('/content/drive/MyDrive/Colab Notebooks/Curso_IA_BIGDATA/IA/Pandas/datasets/ModalidadVirtual.csv')"
      ],
      "metadata": {
        "id": "D-jTuTHYo3N0"
      },
      "execution_count": null,
      "outputs": []
    },
    {
      "cell_type": "markdown",
      "source": [
        "## Funciones esenciales\n",
        "\n",
        "Empezando por *.describe()*\n",
        "\n",
        "  - Con .describe lo que podemos sacar calculos basicos sobre el Dataframe para ver a vista de pájaro algunos cálculos."
      ],
      "metadata": {
        "id": "7DGAnUG9qOy8"
      }
    },
    {
      "cell_type": "code",
      "source": [
        "# Ejemplo de describe sobre df\n",
        "\n",
        "df.describe()"
      ],
      "metadata": {
        "colab": {
          "base_uri": "https://localhost:8080/",
          "height": 300
        },
        "id": "jH2FEBiGqV2c",
        "outputId": "01558659-899f-4dba-c52b-2ec79437fbe9"
      },
      "execution_count": null,
      "outputs": [
        {
          "output_type": "execute_result",
          "data": {
            "text/plain": [
              "       Unnamed: 0        edad\n",
              "count  222.000000  222.000000\n",
              "mean   119.896396   28.166667\n",
              "std     67.424522    7.556374\n",
              "min      0.000000   17.000000\n",
              "25%     63.250000   22.000000\n",
              "50%    121.500000   27.000000\n",
              "75%    177.750000   33.000000\n",
              "max    234.000000   54.000000"
            ],
            "text/html": [
              "\n",
              "  <div id=\"df-96fd28ba-b294-47b0-813e-4cacc110da22\">\n",
              "    <div class=\"colab-df-container\">\n",
              "      <div>\n",
              "<style scoped>\n",
              "    .dataframe tbody tr th:only-of-type {\n",
              "        vertical-align: middle;\n",
              "    }\n",
              "\n",
              "    .dataframe tbody tr th {\n",
              "        vertical-align: top;\n",
              "    }\n",
              "\n",
              "    .dataframe thead th {\n",
              "        text-align: right;\n",
              "    }\n",
              "</style>\n",
              "<table border=\"1\" class=\"dataframe\">\n",
              "  <thead>\n",
              "    <tr style=\"text-align: right;\">\n",
              "      <th></th>\n",
              "      <th>Unnamed: 0</th>\n",
              "      <th>edad</th>\n",
              "    </tr>\n",
              "  </thead>\n",
              "  <tbody>\n",
              "    <tr>\n",
              "      <th>count</th>\n",
              "      <td>222.000000</td>\n",
              "      <td>222.000000</td>\n",
              "    </tr>\n",
              "    <tr>\n",
              "      <th>mean</th>\n",
              "      <td>119.896396</td>\n",
              "      <td>28.166667</td>\n",
              "    </tr>\n",
              "    <tr>\n",
              "      <th>std</th>\n",
              "      <td>67.424522</td>\n",
              "      <td>7.556374</td>\n",
              "    </tr>\n",
              "    <tr>\n",
              "      <th>min</th>\n",
              "      <td>0.000000</td>\n",
              "      <td>17.000000</td>\n",
              "    </tr>\n",
              "    <tr>\n",
              "      <th>25%</th>\n",
              "      <td>63.250000</td>\n",
              "      <td>22.000000</td>\n",
              "    </tr>\n",
              "    <tr>\n",
              "      <th>50%</th>\n",
              "      <td>121.500000</td>\n",
              "      <td>27.000000</td>\n",
              "    </tr>\n",
              "    <tr>\n",
              "      <th>75%</th>\n",
              "      <td>177.750000</td>\n",
              "      <td>33.000000</td>\n",
              "    </tr>\n",
              "    <tr>\n",
              "      <th>max</th>\n",
              "      <td>234.000000</td>\n",
              "      <td>54.000000</td>\n",
              "    </tr>\n",
              "  </tbody>\n",
              "</table>\n",
              "</div>\n",
              "      <button class=\"colab-df-convert\" onclick=\"convertToInteractive('df-96fd28ba-b294-47b0-813e-4cacc110da22')\"\n",
              "              title=\"Convert this dataframe to an interactive table.\"\n",
              "              style=\"display:none;\">\n",
              "        \n",
              "  <svg xmlns=\"http://www.w3.org/2000/svg\" height=\"24px\"viewBox=\"0 0 24 24\"\n",
              "       width=\"24px\">\n",
              "    <path d=\"M0 0h24v24H0V0z\" fill=\"none\"/>\n",
              "    <path d=\"M18.56 5.44l.94 2.06.94-2.06 2.06-.94-2.06-.94-.94-2.06-.94 2.06-2.06.94zm-11 1L8.5 8.5l.94-2.06 2.06-.94-2.06-.94L8.5 2.5l-.94 2.06-2.06.94zm10 10l.94 2.06.94-2.06 2.06-.94-2.06-.94-.94-2.06-.94 2.06-2.06.94z\"/><path d=\"M17.41 7.96l-1.37-1.37c-.4-.4-.92-.59-1.43-.59-.52 0-1.04.2-1.43.59L10.3 9.45l-7.72 7.72c-.78.78-.78 2.05 0 2.83L4 21.41c.39.39.9.59 1.41.59.51 0 1.02-.2 1.41-.59l7.78-7.78 2.81-2.81c.8-.78.8-2.07 0-2.86zM5.41 20L4 18.59l7.72-7.72 1.47 1.35L5.41 20z\"/>\n",
              "  </svg>\n",
              "      </button>\n",
              "      \n",
              "  <style>\n",
              "    .colab-df-container {\n",
              "      display:flex;\n",
              "      flex-wrap:wrap;\n",
              "      gap: 12px;\n",
              "    }\n",
              "\n",
              "    .colab-df-convert {\n",
              "      background-color: #E8F0FE;\n",
              "      border: none;\n",
              "      border-radius: 50%;\n",
              "      cursor: pointer;\n",
              "      display: none;\n",
              "      fill: #1967D2;\n",
              "      height: 32px;\n",
              "      padding: 0 0 0 0;\n",
              "      width: 32px;\n",
              "    }\n",
              "\n",
              "    .colab-df-convert:hover {\n",
              "      background-color: #E2EBFA;\n",
              "      box-shadow: 0px 1px 2px rgba(60, 64, 67, 0.3), 0px 1px 3px 1px rgba(60, 64, 67, 0.15);\n",
              "      fill: #174EA6;\n",
              "    }\n",
              "\n",
              "    [theme=dark] .colab-df-convert {\n",
              "      background-color: #3B4455;\n",
              "      fill: #D2E3FC;\n",
              "    }\n",
              "\n",
              "    [theme=dark] .colab-df-convert:hover {\n",
              "      background-color: #434B5C;\n",
              "      box-shadow: 0px 1px 3px 1px rgba(0, 0, 0, 0.15);\n",
              "      filter: drop-shadow(0px 1px 2px rgba(0, 0, 0, 0.3));\n",
              "      fill: #FFFFFF;\n",
              "    }\n",
              "  </style>\n",
              "\n",
              "      <script>\n",
              "        const buttonEl =\n",
              "          document.querySelector('#df-96fd28ba-b294-47b0-813e-4cacc110da22 button.colab-df-convert');\n",
              "        buttonEl.style.display =\n",
              "          google.colab.kernel.accessAllowed ? 'block' : 'none';\n",
              "\n",
              "        async function convertToInteractive(key) {\n",
              "          const element = document.querySelector('#df-96fd28ba-b294-47b0-813e-4cacc110da22');\n",
              "          const dataTable =\n",
              "            await google.colab.kernel.invokeFunction('convertToInteractive',\n",
              "                                                     [key], {});\n",
              "          if (!dataTable) return;\n",
              "\n",
              "          const docLinkHtml = 'Like what you see? Visit the ' +\n",
              "            '<a target=\"_blank\" href=https://colab.research.google.com/notebooks/data_table.ipynb>data table notebook</a>'\n",
              "            + ' to learn more about interactive tables.';\n",
              "          element.innerHTML = '';\n",
              "          dataTable['output_type'] = 'display_data';\n",
              "          await google.colab.output.renderOutput(dataTable, element);\n",
              "          const docLink = document.createElement('div');\n",
              "          docLink.innerHTML = docLinkHtml;\n",
              "          element.appendChild(docLink);\n",
              "        }\n",
              "      </script>\n",
              "    </div>\n",
              "  </div>\n",
              "  "
            ]
          },
          "metadata": {},
          "execution_count": 6
        }
      ]
    },
    {
      "cell_type": "markdown",
      "source": [
        "También podemos usar *.head()*\n",
        "\n",
        "  - Con .head lo que sacamos lineas de la parte superior de nuestro dataframe, por defecto nos saca las 5 primeras lineas"
      ],
      "metadata": {
        "id": "3d2FwXmZsPQ_"
      }
    },
    {
      "cell_type": "code",
      "source": [
        "df.head()"
      ],
      "metadata": {
        "colab": {
          "base_uri": "https://localhost:8080/",
          "height": 206
        },
        "id": "PDIXIR0RsMtP",
        "outputId": "cdfeb51e-2770-496d-ec4a-a93d3d99d246"
      },
      "execution_count": null,
      "outputs": [
        {
          "output_type": "execute_result",
          "data": {
            "text/plain": [
              "   Unnamed: 0        time                 carrera acepta  \\\n",
              "0           0  2020-11-08  Ingeniería de Sistemas     Si   \n",
              "1           1  2020-11-08              Psicología     Si   \n",
              "2           2  2020-11-08  Ingeniería de Sistemas     Si   \n",
              "3           3  2020-11-08  Ingeniería de Sistemas     Si   \n",
              "4           4  2020-11-08  Ingeniería de Sistemas     Si   \n",
              "\n",
              "                        positivo  \\\n",
              "0              Horario flexible.   \n",
              "1  Acceso desde cualquier lugar.   \n",
              "2              Horario flexible.   \n",
              "3              Horario flexible.   \n",
              "4  Acceso desde cualquier lugar.   \n",
              "\n",
              "                                            negativo  edad    sexo   trabajo  \n",
              "0             Contacto Personal Docente-Estudiantil.    20  Hombre  Eventual  \n",
              "1             Contacto Personal Docente-Estudiantil.    26  Hombre  Eventual  \n",
              "2  Falta de recursos de calidad(plataformas, doce...    20   Mujer        Sí  \n",
              "3                               Conexión a internet.    18   Mujer        No  \n",
              "4             Contacto Personal Docente-Estudiantil.    39  Hombre        Sí  "
            ],
            "text/html": [
              "\n",
              "  <div id=\"df-881ce7a1-a4c4-4beb-beb2-63cc901470eb\">\n",
              "    <div class=\"colab-df-container\">\n",
              "      <div>\n",
              "<style scoped>\n",
              "    .dataframe tbody tr th:only-of-type {\n",
              "        vertical-align: middle;\n",
              "    }\n",
              "\n",
              "    .dataframe tbody tr th {\n",
              "        vertical-align: top;\n",
              "    }\n",
              "\n",
              "    .dataframe thead th {\n",
              "        text-align: right;\n",
              "    }\n",
              "</style>\n",
              "<table border=\"1\" class=\"dataframe\">\n",
              "  <thead>\n",
              "    <tr style=\"text-align: right;\">\n",
              "      <th></th>\n",
              "      <th>Unnamed: 0</th>\n",
              "      <th>time</th>\n",
              "      <th>carrera</th>\n",
              "      <th>acepta</th>\n",
              "      <th>positivo</th>\n",
              "      <th>negativo</th>\n",
              "      <th>edad</th>\n",
              "      <th>sexo</th>\n",
              "      <th>trabajo</th>\n",
              "    </tr>\n",
              "  </thead>\n",
              "  <tbody>\n",
              "    <tr>\n",
              "      <th>0</th>\n",
              "      <td>0</td>\n",
              "      <td>2020-11-08</td>\n",
              "      <td>Ingeniería de Sistemas</td>\n",
              "      <td>Si</td>\n",
              "      <td>Horario flexible.</td>\n",
              "      <td>Contacto Personal Docente-Estudiantil.</td>\n",
              "      <td>20</td>\n",
              "      <td>Hombre</td>\n",
              "      <td>Eventual</td>\n",
              "    </tr>\n",
              "    <tr>\n",
              "      <th>1</th>\n",
              "      <td>1</td>\n",
              "      <td>2020-11-08</td>\n",
              "      <td>Psicología</td>\n",
              "      <td>Si</td>\n",
              "      <td>Acceso desde cualquier lugar.</td>\n",
              "      <td>Contacto Personal Docente-Estudiantil.</td>\n",
              "      <td>26</td>\n",
              "      <td>Hombre</td>\n",
              "      <td>Eventual</td>\n",
              "    </tr>\n",
              "    <tr>\n",
              "      <th>2</th>\n",
              "      <td>2</td>\n",
              "      <td>2020-11-08</td>\n",
              "      <td>Ingeniería de Sistemas</td>\n",
              "      <td>Si</td>\n",
              "      <td>Horario flexible.</td>\n",
              "      <td>Falta de recursos de calidad(plataformas, doce...</td>\n",
              "      <td>20</td>\n",
              "      <td>Mujer</td>\n",
              "      <td>Sí</td>\n",
              "    </tr>\n",
              "    <tr>\n",
              "      <th>3</th>\n",
              "      <td>3</td>\n",
              "      <td>2020-11-08</td>\n",
              "      <td>Ingeniería de Sistemas</td>\n",
              "      <td>Si</td>\n",
              "      <td>Horario flexible.</td>\n",
              "      <td>Conexión a internet.</td>\n",
              "      <td>18</td>\n",
              "      <td>Mujer</td>\n",
              "      <td>No</td>\n",
              "    </tr>\n",
              "    <tr>\n",
              "      <th>4</th>\n",
              "      <td>4</td>\n",
              "      <td>2020-11-08</td>\n",
              "      <td>Ingeniería de Sistemas</td>\n",
              "      <td>Si</td>\n",
              "      <td>Acceso desde cualquier lugar.</td>\n",
              "      <td>Contacto Personal Docente-Estudiantil.</td>\n",
              "      <td>39</td>\n",
              "      <td>Hombre</td>\n",
              "      <td>Sí</td>\n",
              "    </tr>\n",
              "  </tbody>\n",
              "</table>\n",
              "</div>\n",
              "      <button class=\"colab-df-convert\" onclick=\"convertToInteractive('df-881ce7a1-a4c4-4beb-beb2-63cc901470eb')\"\n",
              "              title=\"Convert this dataframe to an interactive table.\"\n",
              "              style=\"display:none;\">\n",
              "        \n",
              "  <svg xmlns=\"http://www.w3.org/2000/svg\" height=\"24px\"viewBox=\"0 0 24 24\"\n",
              "       width=\"24px\">\n",
              "    <path d=\"M0 0h24v24H0V0z\" fill=\"none\"/>\n",
              "    <path d=\"M18.56 5.44l.94 2.06.94-2.06 2.06-.94-2.06-.94-.94-2.06-.94 2.06-2.06.94zm-11 1L8.5 8.5l.94-2.06 2.06-.94-2.06-.94L8.5 2.5l-.94 2.06-2.06.94zm10 10l.94 2.06.94-2.06 2.06-.94-2.06-.94-.94-2.06-.94 2.06-2.06.94z\"/><path d=\"M17.41 7.96l-1.37-1.37c-.4-.4-.92-.59-1.43-.59-.52 0-1.04.2-1.43.59L10.3 9.45l-7.72 7.72c-.78.78-.78 2.05 0 2.83L4 21.41c.39.39.9.59 1.41.59.51 0 1.02-.2 1.41-.59l7.78-7.78 2.81-2.81c.8-.78.8-2.07 0-2.86zM5.41 20L4 18.59l7.72-7.72 1.47 1.35L5.41 20z\"/>\n",
              "  </svg>\n",
              "      </button>\n",
              "      \n",
              "  <style>\n",
              "    .colab-df-container {\n",
              "      display:flex;\n",
              "      flex-wrap:wrap;\n",
              "      gap: 12px;\n",
              "    }\n",
              "\n",
              "    .colab-df-convert {\n",
              "      background-color: #E8F0FE;\n",
              "      border: none;\n",
              "      border-radius: 50%;\n",
              "      cursor: pointer;\n",
              "      display: none;\n",
              "      fill: #1967D2;\n",
              "      height: 32px;\n",
              "      padding: 0 0 0 0;\n",
              "      width: 32px;\n",
              "    }\n",
              "\n",
              "    .colab-df-convert:hover {\n",
              "      background-color: #E2EBFA;\n",
              "      box-shadow: 0px 1px 2px rgba(60, 64, 67, 0.3), 0px 1px 3px 1px rgba(60, 64, 67, 0.15);\n",
              "      fill: #174EA6;\n",
              "    }\n",
              "\n",
              "    [theme=dark] .colab-df-convert {\n",
              "      background-color: #3B4455;\n",
              "      fill: #D2E3FC;\n",
              "    }\n",
              "\n",
              "    [theme=dark] .colab-df-convert:hover {\n",
              "      background-color: #434B5C;\n",
              "      box-shadow: 0px 1px 3px 1px rgba(0, 0, 0, 0.15);\n",
              "      filter: drop-shadow(0px 1px 2px rgba(0, 0, 0, 0.3));\n",
              "      fill: #FFFFFF;\n",
              "    }\n",
              "  </style>\n",
              "\n",
              "      <script>\n",
              "        const buttonEl =\n",
              "          document.querySelector('#df-881ce7a1-a4c4-4beb-beb2-63cc901470eb button.colab-df-convert');\n",
              "        buttonEl.style.display =\n",
              "          google.colab.kernel.accessAllowed ? 'block' : 'none';\n",
              "\n",
              "        async function convertToInteractive(key) {\n",
              "          const element = document.querySelector('#df-881ce7a1-a4c4-4beb-beb2-63cc901470eb');\n",
              "          const dataTable =\n",
              "            await google.colab.kernel.invokeFunction('convertToInteractive',\n",
              "                                                     [key], {});\n",
              "          if (!dataTable) return;\n",
              "\n",
              "          const docLinkHtml = 'Like what you see? Visit the ' +\n",
              "            '<a target=\"_blank\" href=https://colab.research.google.com/notebooks/data_table.ipynb>data table notebook</a>'\n",
              "            + ' to learn more about interactive tables.';\n",
              "          element.innerHTML = '';\n",
              "          dataTable['output_type'] = 'display_data';\n",
              "          await google.colab.output.renderOutput(dataTable, element);\n",
              "          const docLink = document.createElement('div');\n",
              "          docLink.innerHTML = docLinkHtml;\n",
              "          element.appendChild(docLink);\n",
              "        }\n",
              "      </script>\n",
              "    </div>\n",
              "  </div>\n",
              "  "
            ]
          },
          "metadata": {},
          "execution_count": 64
        }
      ]
    },
    {
      "cell_type": "markdown",
      "source": [
        "Podemos usar *.tail()*\n",
        "\n",
        "  - Con .tail sacamos las 5 últimas filas del dataset y al igual que pasa con .head() si indicamos como parametro otra cantidad, nos sacara esa cantidad"
      ],
      "metadata": {
        "id": "O09n3gHZsvsC"
      }
    },
    {
      "cell_type": "code",
      "source": [
        "df.tail()"
      ],
      "metadata": {
        "colab": {
          "base_uri": "https://localhost:8080/",
          "height": 206
        },
        "id": "D91XK1zwse08",
        "outputId": "c6940f2a-b8c1-4c02-fc99-bb2e2dfb4669"
      },
      "execution_count": null,
      "outputs": [
        {
          "output_type": "execute_result",
          "data": {
            "text/plain": [
              "     Unnamed: 0        time                       carrera acepta  \\\n",
              "217         230  2020-12-10  Gestión Turística y Hotelera     Si   \n",
              "218         231  2020-12-11        Ingeniería de Sistemas     No   \n",
              "219         232  2020-12-11  Gestión Turística y Hotelera     No   \n",
              "220         233  2020-12-11         Ingeniería Agronómica     Si   \n",
              "221         234  2020-12-12        Comercio Internacional     Si   \n",
              "\n",
              "                          positivo  \\\n",
              "217              Horario flexible.   \n",
              "218  Acceso desde cualquier lugar.   \n",
              "219              Horario flexible.   \n",
              "220  Acceso desde cualquier lugar.   \n",
              "221              Horario flexible.   \n",
              "\n",
              "                                              negativo  edad    sexo trabajo  \n",
              "217                               Conexión a internet.    19   Mujer      Sí  \n",
              "218  Falta de recursos de calidad(plataformas, doce...    23   Mujer      No  \n",
              "219  Falta de recursos de calidad(plataformas, doce...    25  Hombre      Sí  \n",
              "220             Contacto Personal Docente-Estudiantil.    20   Mujer      Sí  \n",
              "221  Falta de recursos de calidad(plataformas, doce...    23  Hombre      Sí  "
            ],
            "text/html": [
              "\n",
              "  <div id=\"df-ecfe2f2d-ae5d-4931-bd95-e5d181120e49\">\n",
              "    <div class=\"colab-df-container\">\n",
              "      <div>\n",
              "<style scoped>\n",
              "    .dataframe tbody tr th:only-of-type {\n",
              "        vertical-align: middle;\n",
              "    }\n",
              "\n",
              "    .dataframe tbody tr th {\n",
              "        vertical-align: top;\n",
              "    }\n",
              "\n",
              "    .dataframe thead th {\n",
              "        text-align: right;\n",
              "    }\n",
              "</style>\n",
              "<table border=\"1\" class=\"dataframe\">\n",
              "  <thead>\n",
              "    <tr style=\"text-align: right;\">\n",
              "      <th></th>\n",
              "      <th>Unnamed: 0</th>\n",
              "      <th>time</th>\n",
              "      <th>carrera</th>\n",
              "      <th>acepta</th>\n",
              "      <th>positivo</th>\n",
              "      <th>negativo</th>\n",
              "      <th>edad</th>\n",
              "      <th>sexo</th>\n",
              "      <th>trabajo</th>\n",
              "    </tr>\n",
              "  </thead>\n",
              "  <tbody>\n",
              "    <tr>\n",
              "      <th>217</th>\n",
              "      <td>230</td>\n",
              "      <td>2020-12-10</td>\n",
              "      <td>Gestión Turística y Hotelera</td>\n",
              "      <td>Si</td>\n",
              "      <td>Horario flexible.</td>\n",
              "      <td>Conexión a internet.</td>\n",
              "      <td>19</td>\n",
              "      <td>Mujer</td>\n",
              "      <td>Sí</td>\n",
              "    </tr>\n",
              "    <tr>\n",
              "      <th>218</th>\n",
              "      <td>231</td>\n",
              "      <td>2020-12-11</td>\n",
              "      <td>Ingeniería de Sistemas</td>\n",
              "      <td>No</td>\n",
              "      <td>Acceso desde cualquier lugar.</td>\n",
              "      <td>Falta de recursos de calidad(plataformas, doce...</td>\n",
              "      <td>23</td>\n",
              "      <td>Mujer</td>\n",
              "      <td>No</td>\n",
              "    </tr>\n",
              "    <tr>\n",
              "      <th>219</th>\n",
              "      <td>232</td>\n",
              "      <td>2020-12-11</td>\n",
              "      <td>Gestión Turística y Hotelera</td>\n",
              "      <td>No</td>\n",
              "      <td>Horario flexible.</td>\n",
              "      <td>Falta de recursos de calidad(plataformas, doce...</td>\n",
              "      <td>25</td>\n",
              "      <td>Hombre</td>\n",
              "      <td>Sí</td>\n",
              "    </tr>\n",
              "    <tr>\n",
              "      <th>220</th>\n",
              "      <td>233</td>\n",
              "      <td>2020-12-11</td>\n",
              "      <td>Ingeniería Agronómica</td>\n",
              "      <td>Si</td>\n",
              "      <td>Acceso desde cualquier lugar.</td>\n",
              "      <td>Contacto Personal Docente-Estudiantil.</td>\n",
              "      <td>20</td>\n",
              "      <td>Mujer</td>\n",
              "      <td>Sí</td>\n",
              "    </tr>\n",
              "    <tr>\n",
              "      <th>221</th>\n",
              "      <td>234</td>\n",
              "      <td>2020-12-12</td>\n",
              "      <td>Comercio Internacional</td>\n",
              "      <td>Si</td>\n",
              "      <td>Horario flexible.</td>\n",
              "      <td>Falta de recursos de calidad(plataformas, doce...</td>\n",
              "      <td>23</td>\n",
              "      <td>Hombre</td>\n",
              "      <td>Sí</td>\n",
              "    </tr>\n",
              "  </tbody>\n",
              "</table>\n",
              "</div>\n",
              "      <button class=\"colab-df-convert\" onclick=\"convertToInteractive('df-ecfe2f2d-ae5d-4931-bd95-e5d181120e49')\"\n",
              "              title=\"Convert this dataframe to an interactive table.\"\n",
              "              style=\"display:none;\">\n",
              "        \n",
              "  <svg xmlns=\"http://www.w3.org/2000/svg\" height=\"24px\"viewBox=\"0 0 24 24\"\n",
              "       width=\"24px\">\n",
              "    <path d=\"M0 0h24v24H0V0z\" fill=\"none\"/>\n",
              "    <path d=\"M18.56 5.44l.94 2.06.94-2.06 2.06-.94-2.06-.94-.94-2.06-.94 2.06-2.06.94zm-11 1L8.5 8.5l.94-2.06 2.06-.94-2.06-.94L8.5 2.5l-.94 2.06-2.06.94zm10 10l.94 2.06.94-2.06 2.06-.94-2.06-.94-.94-2.06-.94 2.06-2.06.94z\"/><path d=\"M17.41 7.96l-1.37-1.37c-.4-.4-.92-.59-1.43-.59-.52 0-1.04.2-1.43.59L10.3 9.45l-7.72 7.72c-.78.78-.78 2.05 0 2.83L4 21.41c.39.39.9.59 1.41.59.51 0 1.02-.2 1.41-.59l7.78-7.78 2.81-2.81c.8-.78.8-2.07 0-2.86zM5.41 20L4 18.59l7.72-7.72 1.47 1.35L5.41 20z\"/>\n",
              "  </svg>\n",
              "      </button>\n",
              "      \n",
              "  <style>\n",
              "    .colab-df-container {\n",
              "      display:flex;\n",
              "      flex-wrap:wrap;\n",
              "      gap: 12px;\n",
              "    }\n",
              "\n",
              "    .colab-df-convert {\n",
              "      background-color: #E8F0FE;\n",
              "      border: none;\n",
              "      border-radius: 50%;\n",
              "      cursor: pointer;\n",
              "      display: none;\n",
              "      fill: #1967D2;\n",
              "      height: 32px;\n",
              "      padding: 0 0 0 0;\n",
              "      width: 32px;\n",
              "    }\n",
              "\n",
              "    .colab-df-convert:hover {\n",
              "      background-color: #E2EBFA;\n",
              "      box-shadow: 0px 1px 2px rgba(60, 64, 67, 0.3), 0px 1px 3px 1px rgba(60, 64, 67, 0.15);\n",
              "      fill: #174EA6;\n",
              "    }\n",
              "\n",
              "    [theme=dark] .colab-df-convert {\n",
              "      background-color: #3B4455;\n",
              "      fill: #D2E3FC;\n",
              "    }\n",
              "\n",
              "    [theme=dark] .colab-df-convert:hover {\n",
              "      background-color: #434B5C;\n",
              "      box-shadow: 0px 1px 3px 1px rgba(0, 0, 0, 0.15);\n",
              "      filter: drop-shadow(0px 1px 2px rgba(0, 0, 0, 0.3));\n",
              "      fill: #FFFFFF;\n",
              "    }\n",
              "  </style>\n",
              "\n",
              "      <script>\n",
              "        const buttonEl =\n",
              "          document.querySelector('#df-ecfe2f2d-ae5d-4931-bd95-e5d181120e49 button.colab-df-convert');\n",
              "        buttonEl.style.display =\n",
              "          google.colab.kernel.accessAllowed ? 'block' : 'none';\n",
              "\n",
              "        async function convertToInteractive(key) {\n",
              "          const element = document.querySelector('#df-ecfe2f2d-ae5d-4931-bd95-e5d181120e49');\n",
              "          const dataTable =\n",
              "            await google.colab.kernel.invokeFunction('convertToInteractive',\n",
              "                                                     [key], {});\n",
              "          if (!dataTable) return;\n",
              "\n",
              "          const docLinkHtml = 'Like what you see? Visit the ' +\n",
              "            '<a target=\"_blank\" href=https://colab.research.google.com/notebooks/data_table.ipynb>data table notebook</a>'\n",
              "            + ' to learn more about interactive tables.';\n",
              "          element.innerHTML = '';\n",
              "          dataTable['output_type'] = 'display_data';\n",
              "          await google.colab.output.renderOutput(dataTable, element);\n",
              "          const docLink = document.createElement('div');\n",
              "          docLink.innerHTML = docLinkHtml;\n",
              "          element.appendChild(docLink);\n",
              "        }\n",
              "      </script>\n",
              "    </div>\n",
              "  </div>\n",
              "  "
            ]
          },
          "metadata": {},
          "execution_count": 8
        }
      ]
    },
    {
      "cell_type": "markdown",
      "source": [
        "## Propiedades\n",
        "\n",
        "Empezando con *.index*\n",
        "\n",
        "  - La propiedad .index lo que nos saca es la cantidad de filas que tiene nuestro dataframe, tambien se usa en las Series"
      ],
      "metadata": {
        "id": "omQxZpabtf4e"
      }
    },
    {
      "cell_type": "code",
      "source": [
        "df.index"
      ],
      "metadata": {
        "colab": {
          "base_uri": "https://localhost:8080/"
        },
        "id": "8KSNK2BztzDr",
        "outputId": "2a74ffa1-5595-47e6-e00c-1acc6ef4a37a"
      },
      "execution_count": null,
      "outputs": [
        {
          "output_type": "execute_result",
          "data": {
            "text/plain": [
              "RangeIndex(start=0, stop=222, step=1)"
            ]
          },
          "metadata": {},
          "execution_count": 15
        }
      ]
    },
    {
      "cell_type": "markdown",
      "source": [
        "Con *.size* \n",
        "\n",
        "  - Lo que sacamos con .size son el total de valores que hay dentro del dataframe(de cada celda)"
      ],
      "metadata": {
        "id": "N_SgbMSivt_h"
      }
    },
    {
      "cell_type": "code",
      "source": [
        "df.size"
      ],
      "metadata": {
        "colab": {
          "base_uri": "https://localhost:8080/"
        },
        "id": "5qBq2k2Ut0Ok",
        "outputId": "31ad897a-c30d-4e35-9f53-047af92d2842"
      },
      "execution_count": null,
      "outputs": [
        {
          "output_type": "execute_result",
          "data": {
            "text/plain": [
              "1998"
            ]
          },
          "metadata": {},
          "execution_count": 16
        }
      ]
    },
    {
      "cell_type": "markdown",
      "source": [
        "Propiedad *dtypes*\n",
        "\n",
        "  - Con .dtypes sacamos los tipos de cada columna del Dataframe."
      ],
      "metadata": {
        "id": "AeOXueyIwEQr"
      }
    },
    {
      "cell_type": "code",
      "source": [
        "df.dtypes"
      ],
      "metadata": {
        "colab": {
          "base_uri": "https://localhost:8080/"
        },
        "id": "gY3zH-ccvnQo",
        "outputId": "560576e9-48f0-4518-d181-3041c0f979af"
      },
      "execution_count": null,
      "outputs": [
        {
          "output_type": "execute_result",
          "data": {
            "text/plain": [
              "Unnamed: 0     int64\n",
              "time          object\n",
              "carrera       object\n",
              "acepta        object\n",
              "positivo      object\n",
              "negativo      object\n",
              "edad           int64\n",
              "sexo          object\n",
              "trabajo       object\n",
              "dtype: object"
            ]
          },
          "metadata": {},
          "execution_count": 17
        }
      ]
    },
    {
      "cell_type": "code",
      "source": [],
      "metadata": {
        "id": "8KkG0LIWwCjs"
      },
      "execution_count": null,
      "outputs": []
    },
    {
      "cell_type": "markdown",
      "source": [
        "## Ejemplos de Series\n",
        "\n",
        "Una Serie no es mas que  exponer o trabajar con una única columna, ya sea sola o dentro de un dataframe\n",
        "\n",
        "En esta primera prueba vamos a crear una Serie con una lista"
      ],
      "metadata": {
        "id": "VxhP8Ph6x4aW"
      }
    },
    {
      "cell_type": "code",
      "source": [
        "# Para probar dtype dentro de .Series voy a importar Numpy\n",
        "\n",
        "import numpy as np\n",
        "\n",
        "# Ahora vamos a crear una Serie\n",
        "\n",
        "\"\"\"\n",
        "\n",
        "  En este ejemplo, estoy poniendo un index que empiece por 1 en vez de por 0,\n",
        "  le estoy indicando que el nombre de la Serie va a ser coches y que el tipo\n",
        "  va a ser string, este último se lo estoy indicando a través de Numpy\n",
        "\n",
        "\n",
        "\"\"\"\n",
        "\n",
        "hello_serie = pd.Series([\"Audi\", \"Peugeot\", \"Citroen\"], index = [1, 2, 3], name = \"Coches\", dtype = np.str_)\n",
        "print(hello_serie, \"\\n\")\n",
        "\n",
        "# Por último vamos a sacar de que tipo es pj.\"Audi\"\n",
        "\n",
        "print(type(hello_serie[1]))"
      ],
      "metadata": {
        "colab": {
          "base_uri": "https://localhost:8080/"
        },
        "id": "5P6YZ9jTyh-8",
        "outputId": "457c93ab-d00b-4122-9288-e229bd95da91"
      },
      "execution_count": null,
      "outputs": [
        {
          "output_type": "stream",
          "name": "stdout",
          "text": [
            "1       Audi\n",
            "2    Peugeot\n",
            "3    Citroen\n",
            "Name: Coches, dtype: object \n",
            "\n",
            "<class 'str'>\n"
          ]
        }
      ]
    },
    {
      "cell_type": "markdown",
      "source": [
        "En este apartado vamos a sacar Series a partir del dataframe *df*\n",
        "\n",
        "La primera Serie que vamos son las fechas y la carrera del dataframe"
      ],
      "metadata": {
        "id": "KdYPuZa8KXgQ"
      }
    },
    {
      "cell_type": "code",
      "source": [
        "carrier_time = pd.Series(df.time, name = \"Filtrado\")\n",
        "carrier_time"
      ],
      "metadata": {
        "colab": {
          "base_uri": "https://localhost:8080/"
        },
        "id": "lmgCvqoEz3NN",
        "outputId": "03f8afb8-9ab1-44f7-bc6f-cf4aa21ce102"
      },
      "execution_count": null,
      "outputs": [
        {
          "output_type": "execute_result",
          "data": {
            "text/plain": [
              "0      2020-11-08\n",
              "1      2020-11-08\n",
              "2      2020-11-08\n",
              "3      2020-11-08\n",
              "4      2020-11-08\n",
              "          ...    \n",
              "217    2020-12-10\n",
              "218    2020-12-11\n",
              "219    2020-12-11\n",
              "220    2020-12-11\n",
              "221    2020-12-12\n",
              "Name: Filtrado, Length: 222, dtype: object"
            ]
          },
          "metadata": {},
          "execution_count": 112
        }
      ]
    },
    {
      "cell_type": "markdown",
      "source": [
        "Ahora el filtrado anterior lo vamos a exportar a un archivo csv"
      ],
      "metadata": {
        "id": "Gld_ecbLSxE1"
      }
    },
    {
      "cell_type": "code",
      "source": [
        "# Exportamos la Serie que hemos llamado como Filtrado\n",
        "\n",
        "carrier_time.to_csv(\"/content/drive/MyDrive/Colab Notebooks/Curso_IA_BIGDATA/IA/Pandas/datasets/Filtrado_Serie.csv\")"
      ],
      "metadata": {
        "id": "B-h1euCNKsvb"
      },
      "execution_count": null,
      "outputs": []
    },
    {
      "cell_type": "markdown",
      "source": [
        "## Busqueda dentro del Dataframe\n"
      ],
      "metadata": {
        "id": "Lo-Y3CH2JN77"
      }
    },
    {
      "cell_type": "code",
      "source": [
        "df.head(3)"
      ],
      "metadata": {
        "colab": {
          "base_uri": "https://localhost:8080/",
          "height": 143
        },
        "id": "etcR-Ua01IQ-",
        "outputId": "cf850a6f-9c9e-49e0-dd17-aeb72e87bdae"
      },
      "execution_count": null,
      "outputs": [
        {
          "output_type": "execute_result",
          "data": {
            "text/plain": [
              "   Unnamed: 0        time                 carrera acepta  \\\n",
              "0           0  2020-11-08  Ingeniería de Sistemas     Si   \n",
              "1           1  2020-11-08              Psicología     Si   \n",
              "2           2  2020-11-08  Ingeniería de Sistemas     Si   \n",
              "\n",
              "                        positivo  \\\n",
              "0              Horario flexible.   \n",
              "1  Acceso desde cualquier lugar.   \n",
              "2              Horario flexible.   \n",
              "\n",
              "                                            negativo  edad    sexo   trabajo  \n",
              "0             Contacto Personal Docente-Estudiantil.    20  Hombre  Eventual  \n",
              "1             Contacto Personal Docente-Estudiantil.    26  Hombre  Eventual  \n",
              "2  Falta de recursos de calidad(plataformas, doce...    20   Mujer        Sí  "
            ],
            "text/html": [
              "\n",
              "  <div id=\"df-d70ff309-750f-483a-80c0-5cf486dc3eb1\">\n",
              "    <div class=\"colab-df-container\">\n",
              "      <div>\n",
              "<style scoped>\n",
              "    .dataframe tbody tr th:only-of-type {\n",
              "        vertical-align: middle;\n",
              "    }\n",
              "\n",
              "    .dataframe tbody tr th {\n",
              "        vertical-align: top;\n",
              "    }\n",
              "\n",
              "    .dataframe thead th {\n",
              "        text-align: right;\n",
              "    }\n",
              "</style>\n",
              "<table border=\"1\" class=\"dataframe\">\n",
              "  <thead>\n",
              "    <tr style=\"text-align: right;\">\n",
              "      <th></th>\n",
              "      <th>Unnamed: 0</th>\n",
              "      <th>time</th>\n",
              "      <th>carrera</th>\n",
              "      <th>acepta</th>\n",
              "      <th>positivo</th>\n",
              "      <th>negativo</th>\n",
              "      <th>edad</th>\n",
              "      <th>sexo</th>\n",
              "      <th>trabajo</th>\n",
              "    </tr>\n",
              "  </thead>\n",
              "  <tbody>\n",
              "    <tr>\n",
              "      <th>0</th>\n",
              "      <td>0</td>\n",
              "      <td>2020-11-08</td>\n",
              "      <td>Ingeniería de Sistemas</td>\n",
              "      <td>Si</td>\n",
              "      <td>Horario flexible.</td>\n",
              "      <td>Contacto Personal Docente-Estudiantil.</td>\n",
              "      <td>20</td>\n",
              "      <td>Hombre</td>\n",
              "      <td>Eventual</td>\n",
              "    </tr>\n",
              "    <tr>\n",
              "      <th>1</th>\n",
              "      <td>1</td>\n",
              "      <td>2020-11-08</td>\n",
              "      <td>Psicología</td>\n",
              "      <td>Si</td>\n",
              "      <td>Acceso desde cualquier lugar.</td>\n",
              "      <td>Contacto Personal Docente-Estudiantil.</td>\n",
              "      <td>26</td>\n",
              "      <td>Hombre</td>\n",
              "      <td>Eventual</td>\n",
              "    </tr>\n",
              "    <tr>\n",
              "      <th>2</th>\n",
              "      <td>2</td>\n",
              "      <td>2020-11-08</td>\n",
              "      <td>Ingeniería de Sistemas</td>\n",
              "      <td>Si</td>\n",
              "      <td>Horario flexible.</td>\n",
              "      <td>Falta de recursos de calidad(plataformas, doce...</td>\n",
              "      <td>20</td>\n",
              "      <td>Mujer</td>\n",
              "      <td>Sí</td>\n",
              "    </tr>\n",
              "  </tbody>\n",
              "</table>\n",
              "</div>\n",
              "      <button class=\"colab-df-convert\" onclick=\"convertToInteractive('df-d70ff309-750f-483a-80c0-5cf486dc3eb1')\"\n",
              "              title=\"Convert this dataframe to an interactive table.\"\n",
              "              style=\"display:none;\">\n",
              "        \n",
              "  <svg xmlns=\"http://www.w3.org/2000/svg\" height=\"24px\"viewBox=\"0 0 24 24\"\n",
              "       width=\"24px\">\n",
              "    <path d=\"M0 0h24v24H0V0z\" fill=\"none\"/>\n",
              "    <path d=\"M18.56 5.44l.94 2.06.94-2.06 2.06-.94-2.06-.94-.94-2.06-.94 2.06-2.06.94zm-11 1L8.5 8.5l.94-2.06 2.06-.94-2.06-.94L8.5 2.5l-.94 2.06-2.06.94zm10 10l.94 2.06.94-2.06 2.06-.94-2.06-.94-.94-2.06-.94 2.06-2.06.94z\"/><path d=\"M17.41 7.96l-1.37-1.37c-.4-.4-.92-.59-1.43-.59-.52 0-1.04.2-1.43.59L10.3 9.45l-7.72 7.72c-.78.78-.78 2.05 0 2.83L4 21.41c.39.39.9.59 1.41.59.51 0 1.02-.2 1.41-.59l7.78-7.78 2.81-2.81c.8-.78.8-2.07 0-2.86zM5.41 20L4 18.59l7.72-7.72 1.47 1.35L5.41 20z\"/>\n",
              "  </svg>\n",
              "      </button>\n",
              "      \n",
              "  <style>\n",
              "    .colab-df-container {\n",
              "      display:flex;\n",
              "      flex-wrap:wrap;\n",
              "      gap: 12px;\n",
              "    }\n",
              "\n",
              "    .colab-df-convert {\n",
              "      background-color: #E8F0FE;\n",
              "      border: none;\n",
              "      border-radius: 50%;\n",
              "      cursor: pointer;\n",
              "      display: none;\n",
              "      fill: #1967D2;\n",
              "      height: 32px;\n",
              "      padding: 0 0 0 0;\n",
              "      width: 32px;\n",
              "    }\n",
              "\n",
              "    .colab-df-convert:hover {\n",
              "      background-color: #E2EBFA;\n",
              "      box-shadow: 0px 1px 2px rgba(60, 64, 67, 0.3), 0px 1px 3px 1px rgba(60, 64, 67, 0.15);\n",
              "      fill: #174EA6;\n",
              "    }\n",
              "\n",
              "    [theme=dark] .colab-df-convert {\n",
              "      background-color: #3B4455;\n",
              "      fill: #D2E3FC;\n",
              "    }\n",
              "\n",
              "    [theme=dark] .colab-df-convert:hover {\n",
              "      background-color: #434B5C;\n",
              "      box-shadow: 0px 1px 3px 1px rgba(0, 0, 0, 0.15);\n",
              "      filter: drop-shadow(0px 1px 2px rgba(0, 0, 0, 0.3));\n",
              "      fill: #FFFFFF;\n",
              "    }\n",
              "  </style>\n",
              "\n",
              "      <script>\n",
              "        const buttonEl =\n",
              "          document.querySelector('#df-d70ff309-750f-483a-80c0-5cf486dc3eb1 button.colab-df-convert');\n",
              "        buttonEl.style.display =\n",
              "          google.colab.kernel.accessAllowed ? 'block' : 'none';\n",
              "\n",
              "        async function convertToInteractive(key) {\n",
              "          const element = document.querySelector('#df-d70ff309-750f-483a-80c0-5cf486dc3eb1');\n",
              "          const dataTable =\n",
              "            await google.colab.kernel.invokeFunction('convertToInteractive',\n",
              "                                                     [key], {});\n",
              "          if (!dataTable) return;\n",
              "\n",
              "          const docLinkHtml = 'Like what you see? Visit the ' +\n",
              "            '<a target=\"_blank\" href=https://colab.research.google.com/notebooks/data_table.ipynb>data table notebook</a>'\n",
              "            + ' to learn more about interactive tables.';\n",
              "          element.innerHTML = '';\n",
              "          dataTable['output_type'] = 'display_data';\n",
              "          await google.colab.output.renderOutput(dataTable, element);\n",
              "          const docLink = document.createElement('div');\n",
              "          docLink.innerHTML = docLinkHtml;\n",
              "          element.appendChild(docLink);\n",
              "        }\n",
              "      </script>\n",
              "    </div>\n",
              "  </div>\n",
              "  "
            ]
          },
          "metadata": {},
          "execution_count": 67
        }
      ]
    },
    {
      "cell_type": "code",
      "source": [
        "# Aquí estamos sacando un dato a través de nombres\n",
        "df.loc[1, \"positivo\"]"
      ],
      "metadata": {
        "colab": {
          "base_uri": "https://localhost:8080/",
          "height": 35
        },
        "id": "P6CYJW6EIPQd",
        "outputId": "6a8da200-2f82-4f8a-f0f7-25594bcb986c"
      },
      "execution_count": null,
      "outputs": [
        {
          "output_type": "execute_result",
          "data": {
            "text/plain": [
              "'Acceso desde cualquier lugar.'"
            ],
            "application/vnd.google.colaboratory.intrinsic+json": {
              "type": "string"
            }
          },
          "metadata": {},
          "execution_count": 68
        }
      ]
    },
    {
      "cell_type": "code",
      "source": [
        "# Aquí estamos sacando un dato a través de las posiciones\n",
        "df.iloc[2, 6]"
      ],
      "metadata": {
        "colab": {
          "base_uri": "https://localhost:8080/"
        },
        "id": "7USchaPUIibR",
        "outputId": "d444f08d-fe48-4a89-ec38-415df5dd1314"
      },
      "execution_count": null,
      "outputs": [
        {
          "output_type": "execute_result",
          "data": {
            "text/plain": [
              "20"
            ]
          },
          "metadata": {},
          "execution_count": 7
        }
      ]
    },
    {
      "cell_type": "code",
      "source": [],
      "metadata": {
        "id": "jDCGm6AWMy9U"
      },
      "execution_count": null,
      "outputs": []
    }
  ]
}