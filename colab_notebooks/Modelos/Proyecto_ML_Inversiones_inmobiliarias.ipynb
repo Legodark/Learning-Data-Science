{
  "nbformat": 4,
  "nbformat_minor": 0,
  "metadata": {
    "colab": {
      "provenance": [],
      "collapsed_sections": [],
      "authorship_tag": "ABX9TyOGNzNSH+ausR8/zZqtjsXL",
      "include_colab_link": true
    },
    "kernelspec": {
      "name": "python3",
      "display_name": "Python 3"
    },
    "language_info": {
      "name": "python"
    }
  },
  "cells": [
    {
      "cell_type": "markdown",
      "metadata": {
        "id": "view-in-github",
        "colab_type": "text"
      },
      "source": [
        "<a href=\"https://colab.research.google.com/github/Legodark/Learning-Data-Science/blob/import_colab/colab_notebooks/Modelos/Proyecto_ML_Inversiones_inmobiliarias.ipynb\" target=\"_parent\"><img src=\"https://colab.research.google.com/assets/colab-badge.svg\" alt=\"Open In Colab\"/></a>"
      ]
    },
    {
      "cell_type": "markdown",
      "source": [
        "# Proyecto de ML - Inversiones Inmobiliarias\n",
        "\n",
        "[Objetivos](https://educacionadistancia.juntadeandalucia.es/centros/malaga/pluginfile.php/646096/mod_resource/content/2/proyecto_completo_tareas.pdf)\n",
        "\n",
        "## Imagen general / problema a resolver\n",
        "\n",
        "La empresa **ML Tech Park Inversiones** nos a contratado para construir un modelo de los precios de las casas de California.\n",
        "\n",
        "Este modelo debe de predecir el precio medio de las casas de un distrito en función de los datos que tenemos de él.\n",
        "\n",
        "La finalidad es encontrar oportunidades de inversión.\n",
        "\n",
        "<img width=\"400px\" src=\"https://drive.google.com/uc?export=view&id=1r_gFZl8oUClBm8QPNBG8MAEgd5jK9mRG\">\n",
        "\n",
        "Vamos a tener los siguientes datos sobre los distritos:\n",
        "\n",
        "- Longitud\n",
        "- Latitud\n",
        "- Edad media de los inmuebles\n",
        "- Número total de habitaciones\n",
        "- Número total de dormitorios\n",
        "- Población\n",
        "- Media de ingresos\n",
        "\n",
        "1. Look at the big picture\n"
      ],
      "metadata": {
        "id": "va_a5QqUkppI"
      }
    },
    {
      "cell_type": "markdown",
      "source": [],
      "metadata": {
        "id": "qDpJ4qbAkxNY"
      }
    }
  ]
}