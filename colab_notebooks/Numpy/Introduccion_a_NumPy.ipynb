{
  "nbformat": 4,
  "nbformat_minor": 0,
  "metadata": {
    "colab": {
      "provenance": [],
      "collapsed_sections": [],
      "authorship_tag": "ABX9TyM5mQQnWaMwQi4r3HsDFk50",
      "include_colab_link": true
    },
    "kernelspec": {
      "name": "python3",
      "display_name": "Python 3"
    },
    "language_info": {
      "name": "python"
    }
  },
  "cells": [
    {
      "cell_type": "markdown",
      "metadata": {
        "id": "view-in-github",
        "colab_type": "text"
      },
      "source": [
        "<a href=\"https://colab.research.google.com/github/Legodark/Learning-Data-Science/blob/import_colab/colab_notebooks/Numpy/Introduccion_a_NumPy.ipynb\" target=\"_parent\"><img src=\"https://colab.research.google.com/assets/colab-badge.svg\" alt=\"Open In Colab\"/></a>"
      ]
    },
    {
      "cell_type": "markdown",
      "source": [
        "# Numpy\n",
        "\n",
        "Numpy\n",
        "\n",
        "Numpy (Numerical Python) es un paquete estándar para trabajar con arrays (matrices y vectores)"
      ],
      "metadata": {
        "id": "XhtS_m3fGJwb"
      }
    },
    {
      "cell_type": "code",
      "source": [
        "# Importación\n",
        "\n",
        "import numpy as np # np es un alias para llamar más rápido a NumPy"
      ],
      "metadata": {
        "id": "J9Y6SkcNGXwC"
      },
      "execution_count": null,
      "outputs": []
    },
    {
      "cell_type": "markdown",
      "source": [
        "## NumPy vs list\n",
        "\n",
        "Lista de Python\n",
        "\n",
        "- Puede contener elementos de de distinto tipo\n",
        "\n",
        "Array de Numpy\n",
        "- Muy eficiente\n",
        "- Ocupa menos memoria\n",
        "- Permite muchas operacinoes matematicas\n"
      ],
      "metadata": {
        "id": "4eue9KDRGoEN"
      }
    },
    {
      "cell_type": "code",
      "source": [
        "# Diferencias entre NumPy y las listas\n",
        "\n",
        "my_list = [5, \"seven\", 20, True]\n",
        "\n",
        "print(my_list)\n",
        "print(my_list[0])\n",
        "print(my_list[1])\n",
        "print(my_list[3])\n",
        "\n",
        "my_array_1 = np.array([5, \"seven\", 20, True]) # Es importante saber que numpy solo permite un único tipo de dato dentro del array, por lo que si tenemos varios tipos diferentes los convertira en string\n",
        "print(my_array_1)\n",
        "\n",
        "my_array_2 = np.array([5, 10, 20, 5.2]) # Si mezclamos enteros con decimales, numpy lo pasara todos a decimales\n",
        "print(my_array_2)\n",
        "\n",
        "my_array_3 = np.array([5, 10, 20, 4]) # Aquí todos los numeros serán de tipo entero\n",
        "print(my_array_3)\n"
      ],
      "metadata": {
        "colab": {
          "base_uri": "https://localhost:8080/"
        },
        "id": "u3JkUXCOHLMG",
        "outputId": "993b8b29-a846-4d2f-f299-a241d8592e21"
      },
      "execution_count": null,
      "outputs": [
        {
          "output_type": "stream",
          "name": "stdout",
          "text": [
            "[5, 'seven', 20, True]\n",
            "5\n",
            "seven\n",
            "True\n",
            "['5' 'seven' '20' 'True']\n",
            "[ 5.  10.  20.   5.2]\n",
            "[ 5 10 20  4]\n"
          ]
        }
      ]
    },
    {
      "cell_type": "code",
      "source": [
        "# Ahora vamos a imprimir cada typo de los emplemos anteriores\n",
        "\n",
        "print(type(my_array_1))\n",
        "print(type(my_array_2))\n",
        "print(type(my_array_3))\n",
        "\n",
        "# Para saber cuanto ocupa cada tipo (string, int, floot) en memoria\n",
        "print(my_array_1.dtype)\n",
        "print(my_array_2.dtype)\n",
        "print(my_array_3.dtype)\n"
      ],
      "metadata": {
        "colab": {
          "base_uri": "https://localhost:8080/"
        },
        "id": "yVP3vCbSI3YC",
        "outputId": "e03c69e9-6253-46ce-e429-b92c77eb1e0d"
      },
      "execution_count": null,
      "outputs": [
        {
          "output_type": "stream",
          "name": "stdout",
          "text": [
            "<class 'numpy.ndarray'>\n",
            "<class 'numpy.ndarray'>\n",
            "<class 'numpy.ndarray'>\n",
            "<U21\n",
            "float64\n",
            "int64\n"
          ]
        }
      ]
    },
    {
      "cell_type": "markdown",
      "source": [
        "# Arrays de una dimensión"
      ],
      "metadata": {
        "id": "KX3wL609KGnt"
      }
    },
    {
      "cell_type": "code",
      "source": [
        "a = np.array([1, 2, 3, 4, 5, 6])\n",
        "print(a)\n",
        "print(a[0])\n",
        "print(a[1])\n",
        "print(a[-1])"
      ],
      "metadata": {
        "colab": {
          "base_uri": "https://localhost:8080/"
        },
        "id": "DrICf_qjKLez",
        "outputId": "ff9540b0-16ee-4483-a67f-5c0167caebe6"
      },
      "execution_count": null,
      "outputs": [
        {
          "output_type": "stream",
          "name": "stdout",
          "text": [
            "[1 2 3 4 5 6]\n",
            "1\n",
            "2\n",
            "6\n"
          ]
        }
      ]
    },
    {
      "cell_type": "markdown",
      "source": [],
      "metadata": {
        "id": "JIwmcxi6Kknl"
      }
    },
    {
      "cell_type": "markdown",
      "source": [
        "## Arrays de dos dimensiones"
      ],
      "metadata": {
        "id": "8U8U0nE-KlCR"
      }
    },
    {
      "cell_type": "code",
      "source": [
        "b = np.array([[1, 2, 3, 4], [5, 6, 7, 8], [9, 10, 11, 12]]) # Es importante que nunca falte un dato, es decir, si tenemos 3 array con 4 datos en cada uno, debe de cumplirse esta condición en todos los array\n",
        "print(b)\n"
      ],
      "metadata": {
        "colab": {
          "base_uri": "https://localhost:8080/"
        },
        "id": "4FdzUlbEKnmG",
        "outputId": "ba082e44-edc5-4d91-df91-ea9cd9f6d4cd"
      },
      "execution_count": null,
      "outputs": [
        {
          "output_type": "stream",
          "name": "stdout",
          "text": [
            "(3, 4)\n"
          ]
        }
      ]
    },
    {
      "cell_type": "markdown",
      "source": [
        "## Dimensiones del array"
      ],
      "metadata": {
        "id": "DwKDdnFuLYy9"
      }
    },
    {
      "cell_type": "code",
      "source": [
        "array_3d = np.array([[[0,1,2,3],\n",
        "                      [4,5,6,7]],\n",
        "                     \n",
        "                     [[0,1,2,3],\n",
        "                      [4,5,6,7]],\n",
        "                     \n",
        "                     [[0,1,2,3],\n",
        "                      [4,5,6,7]]\n",
        "                    ])\n",
        "print(array_3d)\n",
        "print(array_3d.ndim)  # Con ndim podemos sacar el numero de dimensiones que tiene el array\n",
        "print(array_3d.size)  # Con size nos da la cantidad de datos que tenemos dentro del array\n",
        "print(array_3d.shape) # Con shape(forma) nos saca las filas, columnas y dimensiones que tiene el array"
      ],
      "metadata": {
        "colab": {
          "base_uri": "https://localhost:8080/"
        },
        "id": "sVgjHKtjLeYD",
        "outputId": "b449cdb0-0894-4149-d640-61d3646c69f2"
      },
      "execution_count": null,
      "outputs": [
        {
          "output_type": "stream",
          "name": "stdout",
          "text": [
            "[[[0 1 2 3]\n",
            "  [4 5 6 7]]\n",
            "\n",
            " [[0 1 2 3]\n",
            "  [4 5 6 7]]\n",
            "\n",
            " [[0 1 2 3]\n",
            "  [4 5 6 7]]]\n",
            "3\n",
            "24\n",
            "(3, 2, 4)\n"
          ]
        }
      ]
    },
    {
      "cell_type": "markdown",
      "source": [
        "## Creación de arrays básicos"
      ],
      "metadata": {
        "id": "pnTthSnlNBUX"
      }
    },
    {
      "cell_type": "code",
      "source": [
        "num_0 = np.zeros(10) # Esto crea un array con 10 ceros de tipo float\n",
        "print(num_0)\n",
        "\n",
        "num_0 = np.zeros(10, int) # Esto crea un array con 10 ceros de tipo entero\n",
        "print(num_0)\n",
        "\n",
        "num_1 = np.ones(10)  # Esto crea un array con 10 unos de tipo float\n",
        "print(num_1 )\n",
        "\n",
        "num_1 = np.ones(10, int)  # Esto crea un array con 10 unos de tipo entero\n",
        "print(num_1)"
      ],
      "metadata": {
        "colab": {
          "base_uri": "https://localhost:8080/"
        },
        "id": "UWB2OXeoNEpb",
        "outputId": "12ffc8bb-8050-44b0-a44d-69b5df5340ab"
      },
      "execution_count": null,
      "outputs": [
        {
          "output_type": "stream",
          "name": "stdout",
          "text": [
            "[0. 0. 0. 0. 0. 0. 0. 0. 0. 0.]\n",
            "[0 0 0 0 0 0 0 0 0 0]\n",
            "[1. 1. 1. 1. 1. 1. 1. 1. 1. 1.]\n",
            "[1 1 1 1 1 1 1 1 1 1]\n"
          ]
        }
      ]
    },
    {
      "cell_type": "code",
      "source": [
        "# Creación de array con cualquier numero que numpy decida\n",
        "\n",
        "a = np.empty(10)\n",
        "print(a)\n",
        "print(a.dtype)"
      ],
      "metadata": {
        "colab": {
          "base_uri": "https://localhost:8080/"
        },
        "id": "NBa-UArwN_Dn",
        "outputId": "310e195c-b231-4ee8-cf96-f314a32bcc67"
      },
      "execution_count": null,
      "outputs": [
        {
          "output_type": "stream",
          "name": "stdout",
          "text": [
            "[0. 0. 0. 0. 0. 0. 0. 0. 0. 0.]\n",
            "float64\n"
          ]
        }
      ]
    },
    {
      "cell_type": "code",
      "source": [
        "# Array de 2 dimensiones con np.empty\n",
        "\n",
        "np.empty([10, 3]) # Esto genera un array de 2 dimensiones con 3 array\n"
      ],
      "metadata": {
        "colab": {
          "base_uri": "https://localhost:8080/"
        },
        "id": "oYEifWpEPF2q",
        "outputId": "3fc6addc-c23c-41a4-dd75-d6f597f9e5d5"
      },
      "execution_count": null,
      "outputs": [
        {
          "output_type": "execute_result",
          "data": {
            "text/plain": [
              "array([[1.73131432e-316, 9.68368666e-322, 0.00000000e+000],\n",
              "       [0.00000000e+000, 8.48798316e-314, 3.16251369e+180],\n",
              "       [1.72132957e+243, 2.59042262e-144, 2.03890423e+180],\n",
              "       [7.11050780e-038, 7.37108894e+228, 1.04796651e-142],\n",
              "       [2.59032018e-144, 2.86530729e+161, 2.11329502e+214],\n",
              "       [7.49511203e+247, 1.12284826e+219, 1.94919754e-153],\n",
              "       [3.50896888e+151, 2.59903818e-144, 4.97750675e+151],\n",
              "       [9.08367206e+223, 1.48890323e+195, 2.59042349e-144],\n",
              "       [6.34910904e+151, 3.68777431e+180, 1.17146537e+214],\n",
              "       [8.76730942e+252, 2.59903831e-144, 6.91802220e-310]])"
            ]
          },
          "metadata": {},
          "execution_count": 36
        }
      ]
    },
    {
      "cell_type": "code",
      "source": [
        "# Bucles con Numpy\n",
        "\n",
        "np.arange(12) # Crea un array que empieza en el 0 y acaba en el 11\n"
      ],
      "metadata": {
        "colab": {
          "base_uri": "https://localhost:8080/"
        },
        "id": "1qG2Bd2LPdzM",
        "outputId": "2290d661-97ee-4fe2-c0dc-30250c1c4454"
      },
      "execution_count": null,
      "outputs": [
        {
          "output_type": "execute_result",
          "data": {
            "text/plain": [
              "array([ 0,  1,  2,  3,  4,  5,  6,  7,  8,  9, 10, 11])"
            ]
          },
          "metadata": {},
          "execution_count": 37
        }
      ]
    },
    {
      "cell_type": "code",
      "source": [
        "np.arange(10, 20) # Crea un array que empieza en el 10 y acaba en el 19"
      ],
      "metadata": {
        "colab": {
          "base_uri": "https://localhost:8080/"
        },
        "id": "37SPxzGzP4xt",
        "outputId": "3f370faf-ae04-4124-cbac-1c5b16d898e8"
      },
      "execution_count": null,
      "outputs": [
        {
          "output_type": "execute_result",
          "data": {
            "text/plain": [
              "array([10, 11, 12, 13, 14, 15, 16, 17, 18, 19])"
            ]
          },
          "metadata": {},
          "execution_count": 38
        }
      ]
    },
    {
      "cell_type": "code",
      "source": [
        "np.arange(10, 30, 2) # Crea un array que empieza en el 10 y acaba en el 28, y en cada salto lo hace *2"
      ],
      "metadata": {
        "colab": {
          "base_uri": "https://localhost:8080/"
        },
        "id": "beLv9jBtP-o7",
        "outputId": "01838340-22e9-43f0-ff06-cc60ebaf2d6f"
      },
      "execution_count": null,
      "outputs": [
        {
          "output_type": "execute_result",
          "data": {
            "text/plain": [
              "array([10, 12, 14, 16, 18, 20, 22, 24, 26, 28])"
            ]
          },
          "metadata": {},
          "execution_count": 39
        }
      ]
    },
    {
      "cell_type": "code",
      "source": [
        "# Devolver números espaciados uniformemente en un intervalo especificado\n",
        "\n",
        "np.linspace(-10, 10, num = 5)"
      ],
      "metadata": {
        "colab": {
          "base_uri": "https://localhost:8080/"
        },
        "id": "ZJGzaQgxQKfB",
        "outputId": "57ff5b80-c237-4f8d-e174-cb3312302c58"
      },
      "execution_count": null,
      "outputs": [
        {
          "output_type": "execute_result",
          "data": {
            "text/plain": [
              "array([-10.,  -5.,   0.,   5.,  10.])"
            ]
          },
          "metadata": {},
          "execution_count": 41
        }
      ]
    },
    {
      "cell_type": "code",
      "source": [
        "# Devolver números espaciados uniformemente en un intervalo especificado y con el tipo que deseemos\n",
        "\n",
        "np.linspace(-10, 10, num = 5, dtype = int) #(init, finish, interval, type)"
      ],
      "metadata": {
        "colab": {
          "base_uri": "https://localhost:8080/"
        },
        "id": "JCE54b-lQ-n_",
        "outputId": "984a093b-0b74-4d03-ec8b-b137bd61bee8"
      },
      "execution_count": null,
      "outputs": [
        {
          "output_type": "execute_result",
          "data": {
            "text/plain": [
              "array([-10,  -5,   0,   5,  10])"
            ]
          },
          "metadata": {},
          "execution_count": 43
        }
      ]
    },
    {
      "cell_type": "markdown",
      "source": [
        "## Ejercicio 1\n",
        "\n",
        "Crea una función equivalente a `ones` con la siguiente cabecera que rellene un array con unos\n",
        "\n",
        "```\n",
        "def my_ones(n):\n",
        "  pass\n",
        "```"
      ],
      "metadata": {
        "id": "UlTsV59CUJlu"
      }
    },
    {
      "cell_type": "code",
      "source": [
        "def my_ones(n):\n",
        "\n",
        "  ones_array = []\n",
        "\n",
        "  for i in range(n):\n",
        "    ones_array.append(float(1))\n",
        "  \n",
        "  ones_array = np.array(ones_array)\n",
        "  return ones_array\n",
        "\n",
        "print(my_ones(7))\n",
        "\n",
        "# Ejercicio Oscar\n",
        "\n",
        "def my_ones_oscar(n):\n",
        "  return np.array(1 for i in range(n))"
      ],
      "metadata": {
        "colab": {
          "base_uri": "https://localhost:8080/"
        },
        "id": "QYc28hJkUfiW",
        "outputId": "c699779e-719e-471c-d749-c7ed5bce23a1"
      },
      "execution_count": null,
      "outputs": [
        {
          "output_type": "stream",
          "name": "stdout",
          "text": [
            "[1. 1. 1. 1. 1. 1. 1.]\n"
          ]
        }
      ]
    },
    {
      "cell_type": "markdown",
      "source": [
        "## Ejercicio 2\n",
        "\n",
        "Crea una función con la siguiente cabecera que rellene un array con números consecutivos primos empezando por el 1.\n",
        "\n",
        "```\n",
        "def numpy_primes(n):\n",
        "  pass\n",
        "```"
      ],
      "metadata": {
        "id": "rTekovwQRWxm"
      }
    },
    {
      "cell_type": "code",
      "source": [
        "def numpy_primes(n):\n",
        "\n",
        "  mi_lista = []\n",
        "\n",
        "  def primo(numero):\n",
        "    if numero == 0 or numero == 1 or numero == 4:\n",
        "        return False\n",
        "    for x in range(2, int(numero/2)):\n",
        "        if numero % x == 0:\n",
        "            return False\n",
        "    return numero\n",
        "\n",
        "  for i in range(n):\n",
        "    is_prime = primo(i)\n",
        "    if is_prime != 0:\n",
        "      mi_lista.append(float(is_prime))\n",
        "\n",
        "  mi_lista = np.array(mi_lista)\n",
        "\n",
        "  return mi_lista\n",
        "\n",
        "print(numpy_primes(7))"
      ],
      "metadata": {
        "colab": {
          "base_uri": "https://localhost:8080/"
        },
        "id": "3p7erPBgRX4a",
        "outputId": "6b536c6f-b3aa-46d0-dd61-3136459f129c"
      },
      "execution_count": null,
      "outputs": [
        {
          "output_type": "stream",
          "name": "stdout",
          "text": [
            "[2. 3. 5.]\n"
          ]
        }
      ]
    },
    {
      "cell_type": "markdown",
      "source": [
        "## Ordenación "
      ],
      "metadata": {
        "id": "pW9QJgIilkzL"
      }
    },
    {
      "cell_type": "code",
      "source": [
        "# Ordena los numeros en c y los imprime como int\n",
        "c = np.array([2,1,5,3,7,6,4,8])\n",
        "np.sort(c)"
      ],
      "metadata": {
        "colab": {
          "base_uri": "https://localhost:8080/"
        },
        "id": "Ayo2lDVIloJV",
        "outputId": "9e238489-6c42-493c-ca1d-15dbdc8548db"
      },
      "execution_count": null,
      "outputs": [
        {
          "output_type": "execute_result",
          "data": {
            "text/plain": [
              "array([1, 2, 3, 4, 5, 6, 7, 8])"
            ]
          },
          "metadata": {},
          "execution_count": 81
        }
      ]
    },
    {
      "cell_type": "code",
      "source": [
        "# Ordena los strings en c y los imprime como string\n",
        "c = np.array([\"d\", \"c\", \"b\",\"a\"])\n",
        "np.sort(c)"
      ],
      "metadata": {
        "colab": {
          "base_uri": "https://localhost:8080/"
        },
        "id": "N_bUGJvZl1xh",
        "outputId": "01c4da71-0223-40d6-d21a-9a83e870803c"
      },
      "execution_count": null,
      "outputs": [
        {
          "output_type": "execute_result",
          "data": {
            "text/plain": [
              "array(['a', 'b', 'c', 'd'], dtype='<U1')"
            ]
          },
          "metadata": {},
          "execution_count": 83
        }
      ]
    },
    {
      "cell_type": "code",
      "source": [
        "# Ordena de forma inversa los numeros en c y los imprime como int\n",
        "c = np.array([2,1,5,3,7,6,4,8])\n",
        "np.sort(c)[::-1] # [init_position : last_position : salt_positions]"
      ],
      "metadata": {
        "colab": {
          "base_uri": "https://localhost:8080/"
        },
        "id": "YrlpMUCYmK4l",
        "outputId": "44de4d12-7bfb-4d14-e707-dc067fd60827"
      },
      "execution_count": null,
      "outputs": [
        {
          "output_type": "execute_result",
          "data": {
            "text/plain": [
              "array([8, 7, 6, 5, 4, 3, 2, 1])"
            ]
          },
          "metadata": {},
          "execution_count": 84
        }
      ]
    },
    {
      "cell_type": "markdown",
      "source": [
        "## Añadir y quitar trozos"
      ],
      "metadata": {
        "id": "Fm-xOtDAm4BQ"
      }
    },
    {
      "cell_type": "code",
      "source": [
        "a = np.array([1, 2, 3, 4])\n",
        "b = np.array([5, 6, 7, 8])\n",
        "np.concatenate((a, b))"
      ],
      "metadata": {
        "colab": {
          "base_uri": "https://localhost:8080/"
        },
        "id": "LUceo08ym6kx",
        "outputId": "52e799ef-0a40-4bf6-9ec7-146ac444d365"
      },
      "execution_count": null,
      "outputs": [
        {
          "output_type": "execute_result",
          "data": {
            "text/plain": [
              "array([1, 2, 3, 4, 5, 6, 7, 8])"
            ]
          },
          "metadata": {},
          "execution_count": 85
        }
      ]
    },
    {
      "cell_type": "code",
      "source": [
        "x = np.array(\n",
        "            [[1, 2], \n",
        "             [3, 4]]\n",
        ")\n",
        "\n",
        "y = np.array([[5, 6]]) # Arrya de 2 dimensiones\n",
        "\n",
        "print(x)\n",
        "print(y)\n",
        "\n",
        "# Ahora concatenamos\n",
        "z = np.concatenate((x, y))\n",
        "print(z)\n",
        "\n",
        "# También se puede hacer así\n",
        "z = x + y\n",
        "print(x + y)"
      ],
      "metadata": {
        "colab": {
          "base_uri": "https://localhost:8080/"
        },
        "id": "46Jj5UmtnIcf",
        "outputId": "db52248e-f618-4086-9832-6feda9be85aa"
      },
      "execution_count": null,
      "outputs": [
        {
          "output_type": "stream",
          "name": "stdout",
          "text": [
            "[[1 2]\n",
            " [3 4]]\n",
            "[[5 6]]\n",
            "[[1 2]\n",
            " [3 4]\n",
            " [5 6]]\n"
          ]
        }
      ]
    },
    {
      "cell_type": "code",
      "source": [
        "a = np.arange(16) # Crea un array desde el 0 hasta el 15\n",
        "print(a)"
      ],
      "metadata": {
        "colab": {
          "base_uri": "https://localhost:8080/"
        },
        "id": "f9ePG7wcoaQI",
        "outputId": "b74ce334-889b-4e79-e676-c2b5c38ce161"
      },
      "execution_count": null,
      "outputs": [
        {
          "output_type": "stream",
          "name": "stdout",
          "text": [
            "[ 0  1  2  3  4  5  6  7  8  9 10 11 12 13 14 15]\n"
          ]
        }
      ]
    },
    {
      "cell_type": "code",
      "source": [
        "print(a[2:]) # Saca desde la posición 2 hasta la \n",
        "print(a[:-4]) # Casa desde la posición 0 hasta la -4 sin incluir esta última\n",
        "print(a[-3:-7:-1]) # Saca de forma inversa de 1 en 1 desde la posición -3 hasta la posición -7 sin incluir esta última"
      ],
      "metadata": {
        "colab": {
          "base_uri": "https://localhost:8080/"
        },
        "id": "VA5EQvMNoq0D",
        "outputId": "0eab3aa9-2eb1-4c29-c2b4-e270d7ea308e"
      },
      "execution_count": null,
      "outputs": [
        {
          "output_type": "stream",
          "name": "stdout",
          "text": [
            "[ 2  3  4  5  6  7  8  9 10 11 12 13 14 15]\n",
            "[ 0  1  2  3  4  5  6  7  8  9 10 11]\n",
            "[13 12 11 10]\n"
          ]
        }
      ]
    },
    {
      "cell_type": "code",
      "source": [
        "data = np.array(\n",
        "    [[1,2],\n",
        "     [3,4],\n",
        "     [5, 6]]\n",
        ")\n",
        "\n",
        "print(data)"
      ],
      "metadata": {
        "colab": {
          "base_uri": "https://localhost:8080/"
        },
        "id": "5LTLSbY34fUF",
        "outputId": "74fd8d51-6fb3-4e3d-c972-7661dc1a391e"
      },
      "execution_count": null,
      "outputs": [
        {
          "output_type": "stream",
          "name": "stdout",
          "text": [
            "[[1 2]\n",
            " [3 4]\n",
            " [5 6]]\n"
          ]
        }
      ]
    },
    {
      "cell_type": "code",
      "source": [
        "# Sacamos el valor de la posición 1 del array en la posición 0\n",
        "data[0, 1]"
      ],
      "metadata": {
        "colab": {
          "base_uri": "https://localhost:8080/"
        },
        "id": "NEat1_KH44e7",
        "outputId": "86d21ef5-635a-4644-9f69-dba8a4867b94"
      },
      "execution_count": null,
      "outputs": [
        {
          "output_type": "execute_result",
          "data": {
            "text/plain": [
              "2"
            ]
          },
          "metadata": {},
          "execution_count": 105
        }
      ]
    },
    {
      "cell_type": "code",
      "source": [
        "# Sacamos los arrays de la posición 1 a la 3 sin incluir la 3\n",
        "data[1:3]"
      ],
      "metadata": {
        "colab": {
          "base_uri": "https://localhost:8080/"
        },
        "id": "OS56LpgG5GSG",
        "outputId": "fdc42222-b9f9-4f3e-8658-b0d7cbdd11a2"
      },
      "execution_count": null,
      "outputs": [
        {
          "output_type": "execute_result",
          "data": {
            "text/plain": [
              "array([[3, 4],\n",
              "       [5, 6]])"
            ]
          },
          "metadata": {},
          "execution_count": 106
        }
      ]
    },
    {
      "cell_type": "code",
      "source": [
        "# Sacamos los valores en la posición 1 de los 2 primeros arrays\n",
        "data[0:2, 1]"
      ],
      "metadata": {
        "colab": {
          "base_uri": "https://localhost:8080/"
        },
        "id": "WT6umSmE5JQP",
        "outputId": "18509b87-5b34-4a4b-e642-0afcc24ee931"
      },
      "execution_count": null,
      "outputs": [
        {
          "output_type": "execute_result",
          "data": {
            "text/plain": [
              "array([2, 4])"
            ]
          },
          "metadata": {},
          "execution_count": 107
        }
      ]
    },
    {
      "cell_type": "code",
      "source": [
        "a = np.arange(6)"
      ],
      "metadata": {
        "id": "cICX58hy58L9"
      },
      "execution_count": null,
      "outputs": []
    },
    {
      "cell_type": "code",
      "source": [
        "a"
      ],
      "metadata": {
        "colab": {
          "base_uri": "https://localhost:8080/"
        },
        "id": "t4aoMOEj6AyY",
        "outputId": "d46bbe7f-9b58-4753-8c29-1b1c659a6704"
      },
      "execution_count": null,
      "outputs": [
        {
          "output_type": "execute_result",
          "data": {
            "text/plain": [
              "array([0, 1, 2, 3, 4, 5])"
            ]
          },
          "metadata": {},
          "execution_count": 110
        }
      ]
    },
    {
      "cell_type": "code",
      "source": [
        "# Reshape crea subarrays de un array según las filas y las columnas que le pasemos\n",
        "b = a.reshape(3, 2)\n",
        "print(b)"
      ],
      "metadata": {
        "colab": {
          "base_uri": "https://localhost:8080/"
        },
        "id": "icGei4-Q6BIg",
        "outputId": "276916fb-4c33-4491-fa4c-3f76371a370b"
      },
      "execution_count": null,
      "outputs": [
        {
          "output_type": "stream",
          "name": "stdout",
          "text": [
            "[[0 1]\n",
            " [2 3]\n",
            " [4 5]]\n"
          ]
        }
      ]
    },
    {
      "cell_type": "code",
      "source": [
        "a = np.arange(100, 112)\n",
        "print(a)"
      ],
      "metadata": {
        "colab": {
          "base_uri": "https://localhost:8080/"
        },
        "id": "n5nQO8dI6XPI",
        "outputId": "de380e6e-bd48-44a8-a809-85989c3bf2b2"
      },
      "execution_count": null,
      "outputs": [
        {
          "output_type": "stream",
          "name": "stdout",
          "text": [
            "[100 101 102 103 104 105 106 107 108 109 110 111]\n"
          ]
        }
      ]
    },
    {
      "cell_type": "code",
      "source": [
        "# Aquí menos -1 hace el calculo automatico de columnas\n",
        "b = a.reshape(4, -1)\n",
        "print(b)"
      ],
      "metadata": {
        "colab": {
          "base_uri": "https://localhost:8080/"
        },
        "id": "kOZsyTcT6cXy",
        "outputId": "9a8dff3d-8049-471b-d084-932656c0c9d5"
      },
      "execution_count": null,
      "outputs": [
        {
          "output_type": "stream",
          "name": "stdout",
          "text": [
            "[[100 101 102]\n",
            " [103 104 105]\n",
            " [106 107 108]\n",
            " [109 110 111]]\n"
          ]
        }
      ]
    },
    {
      "cell_type": "markdown",
      "source": [
        "## Filtros"
      ],
      "metadata": {
        "id": "Yi8BDS516_dY"
      }
    },
    {
      "cell_type": "code",
      "source": [
        "a = np.array([[1, 2, 3, 4], [6, 7, 8, 9], [10, 11, 12, 13]])\n",
        "print(a)"
      ],
      "metadata": {
        "colab": {
          "base_uri": "https://localhost:8080/"
        },
        "id": "3IiT30JR6-Bl",
        "outputId": "ec4af4a0-66a4-4c0b-e96e-26d4f347fdd9"
      },
      "execution_count": null,
      "outputs": [
        {
          "output_type": "stream",
          "name": "stdout",
          "text": [
            "[[ 1  2  3  4]\n",
            " [ 6  7  8  9]\n",
            " [10 11 12 13]]\n"
          ]
        }
      ]
    },
    {
      "cell_type": "code",
      "source": [
        "# Con esta operación sacamos los valores menores de 5 que estan dentro del array\n",
        "\n",
        "print(a[a < 5])"
      ],
      "metadata": {
        "colab": {
          "base_uri": "https://localhost:8080/"
        },
        "id": "rwqMx1kM7ZD4",
        "outputId": "6e2d4119-d542-422c-fa3b-249ae3e574f5"
      },
      "execution_count": null,
      "outputs": [
        {
          "output_type": "stream",
          "name": "stdout",
          "text": [
            "[1 2 3 4]\n"
          ]
        }
      ]
    },
    {
      "cell_type": "code",
      "source": [
        "# Con esto sacamos todos los valores en booleano dentro del array que cumplen la condición\n",
        "\n",
        "print([a < 5])"
      ],
      "metadata": {
        "colab": {
          "base_uri": "https://localhost:8080/"
        },
        "id": "KAKRXFkv7q2K",
        "outputId": "b73d145d-d7eb-4f7d-f6c5-c984875dfdf3"
      },
      "execution_count": null,
      "outputs": [
        {
          "output_type": "stream",
          "name": "stdout",
          "text": [
            "[array([[ True,  True,  True,  True],\n",
            "       [False, False, False, False],\n",
            "       [False, False, False, False]])]\n"
          ]
        }
      ]
    },
    {
      "cell_type": "code",
      "source": [
        "five_up = (a >= 5)\n",
        "print(a[five_up])"
      ],
      "metadata": {
        "colab": {
          "base_uri": "https://localhost:8080/"
        },
        "id": "FIgsoUHv72B-",
        "outputId": "2be2fd0e-89ce-4e13-9b6a-08d5d0ac5be1"
      },
      "execution_count": null,
      "outputs": [
        {
          "output_type": "stream",
          "name": "stdout",
          "text": [
            "[ 6  7  8  9 10 11 12 13]\n"
          ]
        }
      ]
    },
    {
      "cell_type": "code",
      "source": [
        "import sympy as sp\n",
        "\n",
        "es_primo = sp.isprime(a) # INVESTIGAR!!!!!\n",
        "es_par = (a % 2 == 0)\n",
        "print(a[es_primo])"
      ],
      "metadata": {
        "colab": {
          "base_uri": "https://localhost:8080/"
        },
        "id": "oFK8siST7965",
        "outputId": "a8489b5d-2d98-42bf-8f15-0ac9d45dd951"
      },
      "execution_count": null,
      "outputs": [
        {
          "output_type": "stream",
          "name": "stdout",
          "text": [
            "[]\n"
          ]
        }
      ]
    },
    {
      "cell_type": "code",
      "source": [
        "c = a [(a > 2) & (a < 11)]\n",
        "print(c)\n",
        "\n",
        "c = a [((a % 2) == 0) & (a < 11)]\n",
        "print(c)"
      ],
      "metadata": {
        "colab": {
          "base_uri": "https://localhost:8080/"
        },
        "id": "CPkFv3yB-523",
        "outputId": "36a02f5f-dc6b-437e-d5dd-1f21288d75d6"
      },
      "execution_count": null,
      "outputs": [
        {
          "output_type": "stream",
          "name": "stdout",
          "text": [
            "[ 3  4  6  7  8  9 10]\n",
            "[ 2  4  6  8 10]\n"
          ]
        }
      ]
    },
    {
      "cell_type": "code",
      "source": [
        "# Aquí sacamos los que están suspensos y aprobados con booleans y despues sacamos el array solo con los aprobados\n",
        "marks = np.array([4, 7, 8, 5, 10, 3, 2])\n",
        "passed = marks >= 5\n",
        "print(passed)\n",
        "print(marks[passed])"
      ],
      "metadata": {
        "colab": {
          "base_uri": "https://localhost:8080/"
        },
        "id": "qYKtmc9__PAY",
        "outputId": "04769a4f-a20d-4605-9191-7e74b0731d62"
      },
      "execution_count": null,
      "outputs": [
        {
          "output_type": "stream",
          "name": "stdout",
          "text": [
            "[False  True  True  True  True False False]\n",
            "[ 7  8  5 10]\n"
          ]
        }
      ]
    },
    {
      "cell_type": "markdown",
      "source": [
        "## Mezcla de índices"
      ],
      "metadata": {
        "id": "9GYJNp0V_-Dt"
      }
    },
    {
      "cell_type": "code",
      "source": [
        "a = np.array([4, 8, 20, 21, 31, 44, 7, 9, 13])\n",
        "b = np.array([4, 2, 0, 3])\n",
        "print(a)\n",
        "print(b)"
      ],
      "metadata": {
        "colab": {
          "base_uri": "https://localhost:8080/"
        },
        "id": "lFSxjAmEAATL",
        "outputId": "550013a4-534c-430e-80ea-a9c27a428399"
      },
      "execution_count": null,
      "outputs": [
        {
          "output_type": "stream",
          "name": "stdout",
          "text": [
            "[ 4  8 20 21 31 44  7  9 13]\n",
            "[4 2 0 3]\n"
          ]
        }
      ]
    },
    {
      "cell_type": "code",
      "source": [
        "# Esto saca las posiciones del array a según las posiciones pasadas en el array b.\n",
        "print(a[b])"
      ],
      "metadata": {
        "colab": {
          "base_uri": "https://localhost:8080/"
        },
        "id": "MMOeZzQ4AVsc",
        "outputId": "4ca139cb-26ed-4e07-e52f-29ce34847f35"
      },
      "execution_count": null,
      "outputs": [
        {
          "output_type": "stream",
          "name": "stdout",
          "text": [
            "[31 20  4 21]\n"
          ]
        }
      ]
    },
    {
      "cell_type": "markdown",
      "source": [
        "## Operaciones con arrays"
      ],
      "metadata": {
        "id": "dDwWMCwXA4GP"
      }
    },
    {
      "cell_type": "code",
      "source": [
        "data = np.array([1, 2])\n",
        "ones = np.ones(2, dtype = int)"
      ],
      "metadata": {
        "id": "yxExHcGoBCTc"
      },
      "execution_count": null,
      "outputs": []
    },
    {
      "cell_type": "code",
      "source": [
        "data + ones"
      ],
      "metadata": {
        "colab": {
          "base_uri": "https://localhost:8080/"
        },
        "id": "rbitd5vGBNQc",
        "outputId": "0ce38e0f-8f24-4be7-951e-287a45f34306"
      },
      "execution_count": null,
      "outputs": [
        {
          "output_type": "execute_result",
          "data": {
            "text/plain": [
              "array([2, 3])"
            ]
          },
          "metadata": {},
          "execution_count": 136
        }
      ]
    },
    {
      "cell_type": "code",
      "source": [
        "data - ones"
      ],
      "metadata": {
        "colab": {
          "base_uri": "https://localhost:8080/"
        },
        "id": "BImUXhCrBa6B",
        "outputId": "4a4eff04-9cf5-49e0-d1f4-ec8d8dae71a1"
      },
      "execution_count": null,
      "outputs": [
        {
          "output_type": "execute_result",
          "data": {
            "text/plain": [
              "array([0, 1])"
            ]
          },
          "metadata": {},
          "execution_count": 138
        }
      ]
    },
    {
      "cell_type": "code",
      "source": [
        "data * ones"
      ],
      "metadata": {
        "colab": {
          "base_uri": "https://localhost:8080/"
        },
        "id": "FkgNSk9wBdv8",
        "outputId": "9c38fcc6-817d-464a-cac7-b0d1e2d78234"
      },
      "execution_count": null,
      "outputs": [
        {
          "output_type": "execute_result",
          "data": {
            "text/plain": [
              "array([1, 2])"
            ]
          },
          "metadata": {},
          "execution_count": 139
        }
      ]
    },
    {
      "cell_type": "code",
      "source": [
        "data * data\n"
      ],
      "metadata": {
        "colab": {
          "base_uri": "https://localhost:8080/"
        },
        "id": "jO0muqZHBfXQ",
        "outputId": "6e8943eb-a126-421f-e563-fe0fb0daf2fc"
      },
      "execution_count": null,
      "outputs": [
        {
          "output_type": "execute_result",
          "data": {
            "text/plain": [
              "array([1, 4])"
            ]
          },
          "metadata": {},
          "execution_count": 140
        }
      ]
    },
    {
      "cell_type": "code",
      "source": [
        "data / data "
      ],
      "metadata": {
        "colab": {
          "base_uri": "https://localhost:8080/"
        },
        "id": "yO1A5MFWB_Sm",
        "outputId": "4fff8297-e445-41ce-e22f-16aa04ff2ee2"
      },
      "execution_count": null,
      "outputs": [
        {
          "output_type": "execute_result",
          "data": {
            "text/plain": [
              "array([1., 1.])"
            ]
          },
          "metadata": {},
          "execution_count": 141
        }
      ]
    },
    {
      "cell_type": "code",
      "source": [
        "data // data"
      ],
      "metadata": {
        "colab": {
          "base_uri": "https://localhost:8080/"
        },
        "id": "0lvtHL0uCHTk",
        "outputId": "e799018b-06ef-43c3-fd4d-415b12502886"
      },
      "execution_count": null,
      "outputs": [
        {
          "output_type": "execute_result",
          "data": {
            "text/plain": [
              "array([1, 1])"
            ]
          },
          "metadata": {},
          "execution_count": 142
        }
      ]
    },
    {
      "cell_type": "code",
      "source": [
        "# Para ver el maximo, minimo y la suma total\n",
        "\n",
        "a = np.arange(5, 15)\n",
        "print(a.sum())\n",
        "print(a.min())\n",
        "print(a.max())"
      ],
      "metadata": {
        "colab": {
          "base_uri": "https://localhost:8080/"
        },
        "id": "fF4pJC2vCQSh",
        "outputId": "d1f13939-3d25-408d-ad1b-6c8a6645050b"
      },
      "execution_count": null,
      "outputs": [
        {
          "output_type": "stream",
          "name": "stdout",
          "text": [
            "95\n",
            "5\n",
            "14\n"
          ]
        }
      ]
    },
    {
      "cell_type": "code",
      "source": [
        "b = np.array([[1, 1],\n",
        "              [2, 2]])\n",
        "print(b)"
      ],
      "metadata": {
        "colab": {
          "base_uri": "https://localhost:8080/"
        },
        "id": "XeTRhdqcDA2J",
        "outputId": "1c8ba397-2200-4a68-b73e-4bf15eb989a9"
      },
      "execution_count": null,
      "outputs": [
        {
          "output_type": "stream",
          "name": "stdout",
          "text": [
            "[[1 1]\n",
            " [2 2]]\n"
          ]
        }
      ]
    },
    {
      "cell_type": "code",
      "source": [
        "# Aqui sumamos columnas\n",
        "print(b.sum(axis = 0))"
      ],
      "metadata": {
        "colab": {
          "base_uri": "https://localhost:8080/"
        },
        "id": "mBUksVQ6DSR-",
        "outputId": "ca203821-7af8-4db4-945c-b8dfabc7e8e2"
      },
      "execution_count": null,
      "outputs": [
        {
          "output_type": "stream",
          "name": "stdout",
          "text": [
            "[3 3]\n"
          ]
        }
      ]
    },
    {
      "cell_type": "code",
      "source": [
        "# Aquí sumamos filas\n",
        "print(b.sum(axis = 1))"
      ],
      "metadata": {
        "id": "iQYDVzRHDcMJ",
        "outputId": "107003b5-6f34-4dd5-c19f-d229571c08c1",
        "colab": {
          "base_uri": "https://localhost:8080/"
        }
      },
      "execution_count": null,
      "outputs": [
        {
          "output_type": "stream",
          "name": "stdout",
          "text": [
            "[2 4]\n"
          ]
        }
      ]
    },
    {
      "cell_type": "code",
      "source": [
        "# Aquí multiplicamos con decimales\n",
        "data = np.array([1., 2.])\n",
        "print(data * 1.6)"
      ],
      "metadata": {
        "id": "ZuaRs7LYDg_B",
        "colab": {
          "base_uri": "https://localhost:8080/"
        },
        "outputId": "9a5d8534-617a-4fe4-c589-903ce7c05bb3"
      },
      "execution_count": null,
      "outputs": [
        {
          "output_type": "stream",
          "name": "stdout",
          "text": [
            "[1.6 3.2]\n"
          ]
        }
      ]
    },
    {
      "cell_type": "code",
      "source": [
        "np.set_printoptions(suppress = True)\n",
        "np.array([0.01, 0.004])"
      ],
      "metadata": {
        "colab": {
          "base_uri": "https://localhost:8080/"
        },
        "id": "8f4ZZSW90_P2",
        "outputId": "6affce65-73c4-4238-824a-4cfd6dcf54ef"
      },
      "execution_count": null,
      "outputs": [
        {
          "output_type": "execute_result",
          "data": {
            "text/plain": [
              "array([0.01 , 0.004])"
            ]
          },
          "metadata": {},
          "execution_count": 10
        }
      ]
    },
    {
      "cell_type": "markdown",
      "source": [
        "## Arrays aleatorios"
      ],
      "metadata": {
        "id": "knnF4lym2V01"
      }
    },
    {
      "cell_type": "code",
      "source": [
        "# con np.random.default_rng generamos numeros aleatorios, si dentro del parentesis () indicamos un numero lo hara desde ese numero\n",
        "rng = np.random.default_rng()"
      ],
      "metadata": {
        "id": "6nev5vd82gR8"
      },
      "execution_count": null,
      "outputs": []
    },
    {
      "cell_type": "code",
      "source": [
        "# Aquí generamos un array de 3 filas por 4 columnas con numeros aleatorios\n",
        "a = rng.integers(11, size = (3, 4))\n",
        "print(a)"
      ],
      "metadata": {
        "colab": {
          "base_uri": "https://localhost:8080/"
        },
        "id": "AzEZtKyo264d",
        "outputId": "24748245-58dd-4a40-ecaf-54b5c59b60ce"
      },
      "execution_count": null,
      "outputs": [
        {
          "output_type": "stream",
          "name": "stdout",
          "text": [
            "[[ 8 10  6  4]\n",
            " [ 0  0  7  5]\n",
            " [ 1  1  6  1]]\n"
          ]
        }
      ]
    },
    {
      "cell_type": "code",
      "source": [
        "a = rng.random((3, 4))\n",
        "print(a)"
      ],
      "metadata": {
        "colab": {
          "base_uri": "https://localhost:8080/"
        },
        "id": "cRvQksjZ2-U5",
        "outputId": "95a2548e-68aa-41a1-e021-ae69f86019a0"
      },
      "execution_count": null,
      "outputs": [
        {
          "output_type": "stream",
          "name": "stdout",
          "text": [
            "[[0.84887153 0.60551402 0.29525264 0.81959391]\n",
            " [0.09960427 0.22972647 0.99906763 0.79169301]\n",
            " [0.71548842 0.42578372 0.92763661 0.68758441]]\n"
          ]
        }
      ]
    },
    {
      "cell_type": "code",
      "source": [
        "a = np.random.randint(100, 201, size = 20)\n",
        "print(a)"
      ],
      "metadata": {
        "colab": {
          "base_uri": "https://localhost:8080/"
        },
        "id": "j6FS9-9Q3fGF",
        "outputId": "76666e45-82b7-4552-eb77-affd78edf090"
      },
      "execution_count": null,
      "outputs": [
        {
          "output_type": "stream",
          "name": "stdout",
          "text": [
            "[127 116 125 175 126 136 109 170 115 198 187 160 118 117 148 150 123 191\n",
            " 103 150]\n"
          ]
        }
      ]
    }
  ]
}