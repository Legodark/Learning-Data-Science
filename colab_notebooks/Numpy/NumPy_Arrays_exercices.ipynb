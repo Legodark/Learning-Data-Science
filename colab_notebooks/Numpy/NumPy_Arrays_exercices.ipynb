{
  "nbformat": 4,
  "nbformat_minor": 0,
  "metadata": {
    "colab": {
      "provenance": [],
      "collapsed_sections": [],
      "authorship_tag": "ABX9TyN0E3qSz5BDXPb81BJMgd3k",
      "include_colab_link": true
    },
    "kernelspec": {
      "name": "python3",
      "display_name": "Python 3"
    },
    "language_info": {
      "name": "python"
    }
  },
  "cells": [
    {
      "cell_type": "markdown",
      "metadata": {
        "id": "view-in-github",
        "colab_type": "text"
      },
      "source": [
        "<a href=\"https://colab.research.google.com/github/Legodark/Learning-Data-Science/blob/import_colab/colab_notebooks/Numpy/NumPy_Arrays_exercices.ipynb\" target=\"_parent\"><img src=\"https://colab.research.google.com/assets/colab-badge.svg\" alt=\"Open In Colab\"/></a>"
      ]
    },
    {
      "cell_type": "code",
      "source": [
        "import numpy as np"
      ],
      "metadata": {
        "id": "PpObl4gDGxgF"
      },
      "execution_count": null,
      "outputs": []
    },
    {
      "cell_type": "markdown",
      "source": [
        "# NumPy Arrays Exercices\n",
        "\n",
        "## Exercices 1\n",
        "\n",
        "Write a NumPy program to print the NumPy version in your system"
      ],
      "metadata": {
        "id": "yVmskm56FK0O"
      }
    },
    {
      "cell_type": "code",
      "execution_count": null,
      "metadata": {
        "colab": {
          "base_uri": "https://localhost:8080/"
        },
        "id": "_uZnbMelE-gS",
        "outputId": "5947a275-0210-45ab-dbe4-43a2e356a44a"
      },
      "outputs": [
        {
          "output_type": "stream",
          "name": "stdout",
          "text": [
            "La versión de Numpy es la 1.21.6\n"
          ]
        }
      ],
      "source": [
        "# Imprimos la version de Numpy\n",
        "\n",
        "version = np.__version__\n",
        "print(f\"La versión de Numpy es la {version}\")"
      ]
    },
    {
      "cell_type": "markdown",
      "source": [
        "## Exercices 2\n",
        "\n",
        "Write a NumPy program to convert a list of numeric value into a one-dimensional NumPy array. \n",
        "\n",
        "Expected Output:\n",
        "\n",
        "Original List: `[12.23, 13.32, 100, 36.32]`\n",
        "\n",
        "One-dimensional NumPy array: `[ 12.23 13.32 100. 36.32]`"
      ],
      "metadata": {
        "id": "dRD12nNUFWf5"
      }
    },
    {
      "cell_type": "code",
      "source": [
        "list_exercices_2 = [12.23, 13.32, 100, 36.32]\n",
        "\n",
        "# Creamos el array con np.array\n",
        "\n",
        "\"\"\"\n",
        "  NOTA: le he metido no.float16 para ir acostumbrandome a escribir codigo efi-\n",
        "  ciente, con float16 usamos menos memoria que la dada por defecto.\n",
        "\n",
        "\"\"\"\n",
        "\n",
        "new_array = np.array(list_exercices_2, dtype = np.float16)\n",
        "\n",
        "print(new_array)"
      ],
      "metadata": {
        "colab": {
          "base_uri": "https://localhost:8080/"
        },
        "id": "CPyBb5D-FZDB",
        "outputId": "5bcb4b4b-0aa9-46f5-bc4c-34b367650fbb"
      },
      "execution_count": null,
      "outputs": [
        {
          "output_type": "stream",
          "name": "stdout",
          "text": [
            "[ 12.23  13.32 100.    36.3 ]\n"
          ]
        }
      ]
    },
    {
      "cell_type": "markdown",
      "source": [
        "## Exercices 3\n",
        "\n",
        "Write a NumPy program to create a 3x3 matrix with values ranging from 2 to 10.\n",
        "\n",
        "Expected Output:\n",
        "\n",
        "`[[ 2 3 4]\n",
        "\n",
        "[ 5 6 7]\n",
        "\n",
        "[ 8 9 10]]`"
      ],
      "metadata": {
        "id": "SH1j0pWiFZO5"
      }
    },
    {
      "cell_type": "code",
      "source": [
        "# Aquí vamos a usar una concatenación de dos modulos, arange y reshape\n",
        "\n",
        "\"\"\"\n",
        "  1. con np.range(2, 11) generamos el array con los numeros del 2 al 10, \n",
        "  siempre hay que tener en cuenta que el útlimo numero no se incluye en laç\n",
        "  generación\n",
        "\n",
        "  2. Con reshape le decimos que queremos una matriz de 3 x 3 \n",
        "\n",
        "\"\"\"\n",
        "\n",
        "new_array = np.arange(2, 11).reshape(3, 3)\n",
        "\n",
        "print(new_array)"
      ],
      "metadata": {
        "colab": {
          "base_uri": "https://localhost:8080/"
        },
        "id": "Mmn6qa2uFasn",
        "outputId": "b3aa766a-3c3f-4136-acd0-50f40499d4fd"
      },
      "execution_count": null,
      "outputs": [
        {
          "output_type": "stream",
          "name": "stdout",
          "text": [
            "[[ 2  3  4]\n",
            " [ 5  6  7]\n",
            " [ 8  9 10]]\n"
          ]
        }
      ]
    },
    {
      "cell_type": "markdown",
      "source": [
        "## Exercices 4\n",
        "\n",
        "Write a NumPy program to create a null vector of size 10 and update sixth value to 11.\n",
        "\n",
        "`[ 0. 0. 0. 0. 0. 0. 0. 0. 0. 0.]`\n",
        "\n",
        "Update sixth value to 11\n",
        "\n",
        "`[ 0. 0. 0. 0. 0. 0. 11. 0. 0. 0.]`"
      ],
      "metadata": {
        "id": "e_mc6rcYFbH4"
      }
    },
    {
      "cell_type": "code",
      "source": [
        "# Primero creamos un array con 10 ceros, por defecto siempre son float\n",
        "\n",
        "vector_null = np.zeros(10, dtype = np.float16)\n",
        "\n",
        "print(vector_null)\n",
        "\n",
        "# A continuación sustituimos la sexta posición por un 11\n",
        "\n",
        "vector_null[6] = 11\n",
        "\n",
        "print(vector_null)\n",
        "\n",
        "# Otra forma de hacerlo, pero mas complejo y que puede producir perdida de datos\n",
        "\n",
        "vector_null_2 = np.zeros(10, dtype = np.float16)\n",
        "\n",
        "rewrite_vector = np.insert(vector_null_2, [6], 11)\n",
        "rewrite_vector = np.delete(rewrite_vector, [7])\n",
        "\n",
        "print(rewrite_vector)"
      ],
      "metadata": {
        "colab": {
          "base_uri": "https://localhost:8080/"
        },
        "id": "vh7512NwFerq",
        "outputId": "16721485-39ae-4ca6-a527-94b8e689b1a2"
      },
      "execution_count": null,
      "outputs": [
        {
          "output_type": "stream",
          "name": "stdout",
          "text": [
            "[0. 0. 0. 0. 0. 0. 0. 0. 0. 0.]\n",
            "[ 0.  0.  0.  0.  0.  0. 11.  0.  0.  0.]\n",
            "[ 0.  0.  0.  0.  0.  0. 11.  0.  0.  0.]\n"
          ]
        }
      ]
    },
    {
      "cell_type": "markdown",
      "source": [
        "## Exercices 5\n",
        "Write a NumPy program to create an array with values ranging from 12 to 38.\n",
        "\n",
        "Expected Output:\n",
        "`[12 13 14 15 16 17 18 19 20 21 22 23 24 25 26 27 28 29 30 31 32 33 34 35 36 37]`"
      ],
      "metadata": {
        "id": "3gj0AvnaFfNf"
      }
    },
    {
      "cell_type": "code",
      "source": [
        "# Aquí usaremos el modulo de arange\n",
        "\n",
        "rang_array = np.arange(12, 38, dtype = np.int8)\n",
        "\n",
        "print(rang_array)"
      ],
      "metadata": {
        "colab": {
          "base_uri": "https://localhost:8080/"
        },
        "id": "eN28QxbYFhf1",
        "outputId": "01a301aa-2af8-4262-a258-e9de0e1fd7f0"
      },
      "execution_count": null,
      "outputs": [
        {
          "output_type": "stream",
          "name": "stdout",
          "text": [
            "[12 13 14 15 16 17 18 19 20 21 22 23 24 25 26 27 28 29 30 31 32 33 34 35\n",
            " 36 37]\n"
          ]
        }
      ]
    },
    {
      "cell_type": "markdown",
      "source": [
        "## Exercices 6\n",
        "Write a NumPy program to reverse an array (first element becomes last). \n",
        "Original array:\n",
        "\n",
        "`[12 13 14 15 16 17 18 19 20 21 22 23 24 25 26 27 28 29 30 31 32 33 34 35 36 37]`\n",
        "\n",
        "Reverse array:\n",
        "\n",
        "`[37 36 35 34 33 32 31 30 29 28 27 26 25 24 23 22 21 20 19 18 17 16 15 14 13 12]`"
      ],
      "metadata": {
        "id": "bwVOHpwEFh0y"
      }
    },
    {
      "cell_type": "code",
      "source": [
        "# Aqui usaremos [:: -1] para darle la vuelta al array\n",
        "\n",
        "rang_array = rang_array[:: -1]\n",
        "\n",
        "print(rang_array)\n"
      ],
      "metadata": {
        "colab": {
          "base_uri": "https://localhost:8080/"
        },
        "id": "JEXf8zkeFkFU",
        "outputId": "0cf34405-99bc-41fb-bc0a-e89eb456ec88"
      },
      "execution_count": null,
      "outputs": [
        {
          "output_type": "stream",
          "name": "stdout",
          "text": [
            "[37 36 35 34 33 32 31 30 29 28 27 26 25 24 23 22 21 20 19 18 17 16 15 14\n",
            " 13 12]\n"
          ]
        }
      ]
    },
    {
      "cell_type": "markdown",
      "source": [
        "## Exercices 7\n",
        "\n",
        "Write a NumPy program to convert an array to a float type.\n",
        "\n",
        "Sample output:\n",
        "\n",
        "Original array\n",
        "\n",
        "`[1, 2, 3, 4]`\n",
        "\n",
        "Array converted to a float type:\n",
        "\n",
        "`[ 1. 2. 3. 4.]`"
      ],
      "metadata": {
        "id": "cTiCPIVxFnHb"
      }
    },
    {
      "cell_type": "code",
      "source": [
        "from numpy.core.getlimits import array\n",
        "# Creamos el array tipo int\n",
        "\n",
        "array_int = np.arange(1, 5, dtype = np.int8)\n",
        "\n",
        "print(array_int)\n",
        "\n",
        "# Ahora lo pasamos a float\n",
        "\n",
        "array_float = np.array(array_int, dtype = np.float16)\n",
        "\n",
        "print(array_float)"
      ],
      "metadata": {
        "colab": {
          "base_uri": "https://localhost:8080/"
        },
        "id": "cA8I3MjWFpHR",
        "outputId": "2c54e337-b1cb-4cd0-e296-793514c7c908"
      },
      "execution_count": null,
      "outputs": [
        {
          "output_type": "stream",
          "name": "stdout",
          "text": [
            "[1 2 3 4]\n",
            "[1. 2. 3. 4.]\n"
          ]
        }
      ]
    },
    {
      "cell_type": "markdown",
      "source": [
        "## Exercices 8\n",
        "\n",
        "Write a NumPy program to create a 2d array with 1 on the border and 0 inside. \n",
        "Expected Output:\n",
        "\n",
        "Original array:\n",
        "\n",
        "```\n",
        "[[ 1.  1.  1.  1.  1.] \n",
        "\n",
        " [ 1.  1.  1.  1.  1.]\n",
        "\n",
        " [ 1.  1.  1.  1.  1.]\n",
        "\n",
        " [ 1.  1.  1.  1.  1.]\n",
        "\n",
        " [ 1.  1.  1.  1.  1.]]\n",
        " ```                                                 \n",
        "\n",
        "1 on the border and 0 inside in the array\n",
        "\n",
        "```\n",
        "[[ 1.  1.  1.  1.  1.]\n",
        "\n",
        " [ 1.  0.  0.  0.  1.]                                                  \n",
        "\n",
        " [ 1.  0.  0.  0.  1.]                                                  \n",
        "\n",
        " [ 1.  0.  0.  0.  1.]                                                  \n",
        "\n",
        " [ 1.  1.  1.  1.  1.]]\n",
        "```\n"
      ],
      "metadata": {
        "id": "5B4pSqRdFplh"
      }
    },
    {
      "cell_type": "code",
      "source": [
        "# Creación de array 2d\n",
        "\n",
        "array_1 = np.ones((5, 5))\n",
        "print(array_1)\n",
        "\n",
        "# Ahora sustituimos los 1 centrales de las filas 1,2,3\n",
        "\n",
        "array_1[1:-1, 1:-1] = 0\n",
        "\n",
        "print(array_1)\n"
      ],
      "metadata": {
        "colab": {
          "base_uri": "https://localhost:8080/"
        },
        "id": "YtCG4-6ZFsbF",
        "outputId": "7bdffe52-f99d-4f6d-bcc1-c9e0558973d4"
      },
      "execution_count": null,
      "outputs": [
        {
          "output_type": "stream",
          "name": "stdout",
          "text": [
            "[[1. 1. 1. 1. 1.]\n",
            " [1. 1. 1. 1. 1.]\n",
            " [1. 1. 1. 1. 1.]\n",
            " [1. 1. 1. 1. 1.]\n",
            " [1. 1. 1. 1. 1.]]\n",
            "[[1. 1. 1. 1. 1.]\n",
            " [1. 0. 0. 0. 1.]\n",
            " [1. 0. 0. 0. 1.]\n",
            " [1. 0. 0. 0. 1.]\n",
            " [1. 1. 1. 1. 1.]]\n"
          ]
        }
      ]
    },
    {
      "cell_type": "markdown",
      "source": [
        "## Exercices 9\n",
        "\n",
        "Write a NumPy program to add a border (filled with 0's) around an existing array.\n",
        "\n",
        "Expected Output:\n",
        "\n",
        "Original array:\n",
        "\n",
        "```\n",
        "[[ 1.  1.  1.]                                                          \n",
        " [ 1.  1.  1.]                                                          \n",
        " [ 1.  1.  1.]] \n",
        "```                                                       \n",
        "\n",
        "1 on the border and 0 inside in the array                               \n",
        "\n",
        "```\n",
        "[[ 0.  0.  0.  0.  0.]                                                  \n",
        " [ 0.  1.  1.  1.  0.]                                                  \n",
        " [ 0.  1.  1.  1.  0.]                                                  \n",
        " [ 0.  1.  1.  1.  0.]                                                  \n",
        " [ 0.  0.  0.  0.  0.]]\n",
        "```"
      ],
      "metadata": {
        "id": "ceqnAA21Fsva"
      }
    },
    {
      "cell_type": "code",
      "source": [
        "# Creamos el array con unos\n",
        "\n",
        "array_1s = np.ones((3, 3))\n",
        "\n",
        "print(array_1s)\n",
        "\n",
        "# Ahora lo que debemos hacer es rellenar con ceros alrededor de los unos\n",
        "\n",
        "\"\"\"\n",
        "  modulo pad\n",
        "\n",
        "  Para hacer esta operación vamos a usar el modulo pad, este modulo lo que nos\n",
        "  permite es rellenar el array con lo que deseemos, en este caso ceros(0)\n",
        "\n",
        "  padding_func(vector, iaxis_pad_width, iaxis, kwargs)\n",
        "\n",
        "  vector -> vector es el array al que le queremos agregar\n",
        "  \n",
        "  iaxis_pad_width -> es la cantidad que queremos que se le agregue,\n",
        "  contra mayor sea el numero mas numeros agregara\n",
        "  \n",
        "  mode=\"constant\" -> Le indicamos que los valores con los que rellene sean\n",
        "  los mismos\n",
        "\n",
        "  constant_values=0 -> y aquíi indicamos el numero con el queremos que rellene\n",
        "\n",
        "\"\"\"\n",
        "\n",
        "add_zero = np.pad(array_1s, pad_width=1, mode=\"constant\", constant_values=0)\n",
        "\n",
        "print(add_zero)\n",
        "\n"
      ],
      "metadata": {
        "colab": {
          "base_uri": "https://localhost:8080/"
        },
        "id": "jeiCEbRhFwKC",
        "outputId": "212bff30-22ed-4e55-fd35-63a2cc727680"
      },
      "execution_count": null,
      "outputs": [
        {
          "output_type": "stream",
          "name": "stdout",
          "text": [
            "[[1. 1. 1.]\n",
            " [1. 1. 1.]\n",
            " [1. 1. 1.]]\n",
            "[[0. 0. 0. 0. 0.]\n",
            " [0. 1. 1. 1. 0.]\n",
            " [0. 1. 1. 1. 0.]\n",
            " [0. 1. 1. 1. 0.]\n",
            " [0. 0. 0. 0. 0.]]\n"
          ]
        }
      ]
    },
    {
      "cell_type": "markdown",
      "source": [
        "### Exercices 10\n",
        "\n",
        "Write a NumPy program to create a 8x8 matrix and fill it with a checkerboard pattern.\n",
        "\n",
        "Checkerboard pattern:\n",
        "\n",
        "Checkerboard pattern:   \n",
        "\n",
        "`[[0 1 0 1 0 1 0 1]\n",
        "\n",
        " [1 0 1 0 1 0 1 0]   \n",
        "\n",
        " [0 1 0 1 0 1 0 1] \n",
        "\n",
        " [1 0 1 0 1 0 1 0] \n",
        "\n",
        " [0 1 0 1 0 1 0 1] \n",
        "\n",
        " [1 0 1 0 1 0 1 0]\n",
        "\n",
        " [0 1 0 1 0 1 0 1] \n",
        "                                                      \n",
        " [1 0 1 0 1 0 1 0]]`"
      ],
      "metadata": {
        "id": "fOPC8SHAFw1k"
      }
    },
    {
      "cell_type": "code",
      "source": [
        "# Creamos la matriz de 8 x 8 llena de ceros:\n",
        "\n",
        "matriz_eight = np.zeros((8, 8), dtype = np.int8)\n",
        "\n",
        "# Ahora sustituimos los ceros por unos de los arrays impares\n",
        "\n",
        "matriz_eight[::2, ::2] = 1\n",
        "\n",
        "# Ahora sustituimos los ceros por unos de los arrays impares\n",
        "\n",
        "matriz_eight[1::2, 1::2] = 1\n",
        "\n",
        "print(matriz_eight)\n",
        "\n",
        "# Ejercicio igual pero con unos al principio sustituidos por ceros\n",
        "\n",
        "# Creamos la matriz de 8 x 8 llena de unos:\n",
        "\n",
        "matriz_eight = np.ones((8, 8), dtype = np.int8)\n",
        "\n",
        "# Ahora sustituimos los ceros por unos de los arrays impares\n",
        "\n",
        "matriz_eight[1::2, ::2] = 0\n",
        "\n",
        "# Ahora sustituimos los ceros por unos de los arrays impares\n",
        "\n",
        "matriz_eight[::2, 1::2] = 0\n",
        "\n",
        "print(matriz_eight)"
      ],
      "metadata": {
        "id": "CrgYW9FpSDTz",
        "colab": {
          "base_uri": "https://localhost:8080/"
        },
        "outputId": "ad7b5645-1961-4ed0-f7bb-4ca4cb76fb2c"
      },
      "execution_count": null,
      "outputs": [
        {
          "output_type": "stream",
          "name": "stdout",
          "text": [
            "[[1 0 1 0 1 0 1 0]\n",
            " [0 1 0 1 0 1 0 1]\n",
            " [1 0 1 0 1 0 1 0]\n",
            " [0 1 0 1 0 1 0 1]\n",
            " [1 0 1 0 1 0 1 0]\n",
            " [0 1 0 1 0 1 0 1]\n",
            " [1 0 1 0 1 0 1 0]\n",
            " [0 1 0 1 0 1 0 1]]\n",
            "[[1 0 1 0 1 0 1 0]\n",
            " [0 1 0 1 0 1 0 1]\n",
            " [1 0 1 0 1 0 1 0]\n",
            " [0 1 0 1 0 1 0 1]\n",
            " [1 0 1 0 1 0 1 0]\n",
            " [0 1 0 1 0 1 0 1]\n",
            " [1 0 1 0 1 0 1 0]\n",
            " [0 1 0 1 0 1 0 1]]\n"
          ]
        }
      ]
    }
  ]
}