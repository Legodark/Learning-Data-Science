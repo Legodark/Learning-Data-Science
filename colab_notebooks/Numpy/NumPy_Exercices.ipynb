{
  "nbformat": 4,
  "nbformat_minor": 0,
  "metadata": {
    "colab": {
      "provenance": [],
      "collapsed_sections": [],
      "authorship_tag": "ABX9TyPQWOjco76KeXdwidh+QFyT",
      "include_colab_link": true
    },
    "kernelspec": {
      "name": "python3",
      "display_name": "Python 3"
    },
    "language_info": {
      "name": "python"
    }
  },
  "cells": [
    {
      "cell_type": "markdown",
      "metadata": {
        "id": "view-in-github",
        "colab_type": "text"
      },
      "source": [
        "<a href=\"https://colab.research.google.com/github/Legodark/Learning-Data-Science/blob/import_colab/colab_notebooks/Numpy/NumPy_Exercices.ipynb\" target=\"_parent\"><img src=\"https://colab.research.google.com/assets/colab-badge.svg\" alt=\"Open In Colab\"/></a>"
      ]
    },
    {
      "cell_type": "markdown",
      "source": [
        "# NumPy Exercices\n",
        "\n"
      ],
      "metadata": {
        "id": "gz8oL2hHLAlo"
      }
    },
    {
      "cell_type": "code",
      "execution_count": null,
      "metadata": {
        "id": "-rXbl4wjKzZM"
      },
      "outputs": [],
      "source": [
        "# Import numpy librery\n",
        "import numpy as np"
      ]
    },
    {
      "cell_type": "markdown",
      "source": [
        "## Exercice 1 \n",
        "### Write a NumPy program to get the numpy version and show numpy build configuration"
      ],
      "metadata": {
        "id": "qyCXf1_lK_BV"
      }
    },
    {
      "cell_type": "code",
      "source": [
        "# numpy version\n",
        "print(np.__version__)\n",
        "\n",
        "# numpy build configuration, call show_config() function\n",
        "print(np.show_config())"
      ],
      "metadata": {
        "colab": {
          "base_uri": "https://localhost:8080/"
        },
        "id": "2B8h9TjNLhJF",
        "outputId": "ab9656c5-efd0-47ef-d3f8-417f33045e2e"
      },
      "execution_count": null,
      "outputs": [
        {
          "output_type": "stream",
          "name": "stdout",
          "text": [
            "1.21.6\n",
            "blas_mkl_info:\n",
            "  NOT AVAILABLE\n",
            "blis_info:\n",
            "  NOT AVAILABLE\n",
            "openblas_info:\n",
            "    libraries = ['openblas', 'openblas']\n",
            "    library_dirs = ['/usr/local/lib']\n",
            "    language = c\n",
            "    define_macros = [('HAVE_CBLAS', None)]\n",
            "    runtime_library_dirs = ['/usr/local/lib']\n",
            "blas_opt_info:\n",
            "    libraries = ['openblas', 'openblas']\n",
            "    library_dirs = ['/usr/local/lib']\n",
            "    language = c\n",
            "    define_macros = [('HAVE_CBLAS', None)]\n",
            "    runtime_library_dirs = ['/usr/local/lib']\n",
            "lapack_mkl_info:\n",
            "  NOT AVAILABLE\n",
            "openblas_lapack_info:\n",
            "    libraries = ['openblas', 'openblas']\n",
            "    library_dirs = ['/usr/local/lib']\n",
            "    language = c\n",
            "    define_macros = [('HAVE_CBLAS', None)]\n",
            "    runtime_library_dirs = ['/usr/local/lib']\n",
            "lapack_opt_info:\n",
            "    libraries = ['openblas', 'openblas']\n",
            "    library_dirs = ['/usr/local/lib']\n",
            "    language = c\n",
            "    define_macros = [('HAVE_CBLAS', None)]\n",
            "    runtime_library_dirs = ['/usr/local/lib']\n",
            "Supported SIMD extensions in this NumPy install:\n",
            "    baseline = SSE,SSE2,SSE3\n",
            "    found = SSSE3,SSE41,POPCNT,SSE42,AVX,F16C,FMA3,AVX2\n",
            "    not found = AVX512F,AVX512CD,AVX512_KNL,AVX512_KNM,AVX512_SKX,AVX512_CLX,AVX512_CNL,AVX512_ICL\n",
            "None\n"
          ]
        }
      ]
    },
    {
      "cell_type": "markdown",
      "source": [
        "## Exercices 2\n",
        "\n"
      ],
      "metadata": {
        "id": "DF6MpbgU4nPX"
      }
    },
    {
      "cell_type": "code",
      "source": [
        "np.info(np.add)"
      ],
      "metadata": {
        "colab": {
          "base_uri": "https://localhost:8080/"
        },
        "id": "GIUykPyz4kZu",
        "outputId": "bad3395a-85cd-4558-de77-f10a087668ea"
      },
      "execution_count": null,
      "outputs": [
        {
          "output_type": "stream",
          "name": "stdout",
          "text": [
            "add(x1, x2, /, out=None, *, where=True, casting='same_kind', order='K', dtype=None, subok=True[, signature, extobj])\n",
            "\n",
            "Add arguments element-wise.\n",
            "\n",
            "Parameters\n",
            "----------\n",
            "x1, x2 : array_like\n",
            "    The arrays to be added.\n",
            "    If ``x1.shape != x2.shape``, they must be broadcastable to a common\n",
            "    shape (which becomes the shape of the output).\n",
            "out : ndarray, None, or tuple of ndarray and None, optional\n",
            "    A location into which the result is stored. If provided, it must have\n",
            "    a shape that the inputs broadcast to. If not provided or None,\n",
            "    a freshly-allocated array is returned. A tuple (possible only as a\n",
            "    keyword argument) must have length equal to the number of outputs.\n",
            "where : array_like, optional\n",
            "    This condition is broadcast over the input. At locations where the\n",
            "    condition is True, the `out` array will be set to the ufunc result.\n",
            "    Elsewhere, the `out` array will retain its original value.\n",
            "    Note that if an uninitialized `out` array is created via the default\n",
            "    ``out=None``, locations within it where the condition is False will\n",
            "    remain uninitialized.\n",
            "**kwargs\n",
            "    For other keyword-only arguments, see the\n",
            "    :ref:`ufunc docs <ufuncs.kwargs>`.\n",
            "\n",
            "Returns\n",
            "-------\n",
            "add : ndarray or scalar\n",
            "    The sum of `x1` and `x2`, element-wise.\n",
            "    This is a scalar if both `x1` and `x2` are scalars.\n",
            "\n",
            "Notes\n",
            "-----\n",
            "Equivalent to `x1` + `x2` in terms of array broadcasting.\n",
            "\n",
            "Examples\n",
            "--------\n",
            ">>> np.add(1.0, 4.0)\n",
            "5.0\n",
            ">>> x1 = np.arange(9.0).reshape((3, 3))\n",
            ">>> x2 = np.arange(3.0)\n",
            ">>> np.add(x1, x2)\n",
            "array([[  0.,   2.,   4.],\n",
            "       [  3.,   5.,   7.],\n",
            "       [  6.,   8.,  10.]])\n",
            "\n",
            "The ``+`` operator can be used as a shorthand for ``np.add`` on ndarrays.\n",
            "\n",
            ">>> x1 = np.arange(9.0).reshape((3, 3))\n",
            ">>> x2 = np.arange(3.0)\n",
            ">>> x1 + x2\n",
            "array([[ 0.,  2.,  4.],\n",
            "       [ 3.,  5.,  7.],\n",
            "       [ 6.,  8., 10.]])\n"
          ]
        }
      ]
    },
    {
      "cell_type": "markdown",
      "source": [
        "## Exercices 3\n",
        "\n",
        "Write a NumPy program to test whether none of the elements of a given array is zero"
      ],
      "metadata": {
        "id": "kwRkSrqC5pym"
      }
    },
    {
      "cell_type": "code",
      "source": [
        "my_array = np.empty(10, dtype=np.int8)\n",
        "\n",
        "# Con np.all vemos si todos los valores del array son True, es decir mayor que 0.\n",
        "\n",
        "print(np.all(my_array)) \n"
      ],
      "metadata": {
        "colab": {
          "base_uri": "https://localhost:8080/"
        },
        "id": "uIkJeakv5ror",
        "outputId": "b74bf93b-c54d-480c-eaac-9875a3d9d020"
      },
      "execution_count": null,
      "outputs": [
        {
          "output_type": "stream",
          "name": "stdout",
          "text": [
            "False\n"
          ]
        }
      ]
    },
    {
      "cell_type": "markdown",
      "source": [
        "## Exercices 4\n",
        "\n",
        "Write a NumPy program to test whether any of the elements of a given array is non-zero"
      ],
      "metadata": {
        "id": "JN7g8v219TYf"
      }
    },
    {
      "cell_type": "code",
      "source": [
        "#Con np.any vemos si alguno de los valores del array es True, es decir mayor que 0.\n",
        "print(np.any(my_array))"
      ],
      "metadata": {
        "colab": {
          "base_uri": "https://localhost:8080/"
        },
        "id": "ert2_CSu9WKL",
        "outputId": "9079eb7f-9963-4f48-e1ee-e18fc6552e6c"
      },
      "execution_count": null,
      "outputs": [
        {
          "output_type": "stream",
          "name": "stdout",
          "text": [
            "True\n"
          ]
        }
      ]
    },
    {
      "cell_type": "markdown",
      "source": [
        "## Exercices 5\n",
        "\n",
        "Write a NumPy program to test a given array element-wise for finiteness (not infinity or not a Number)"
      ],
      "metadata": {
        "id": "EUX_3r4W-bvc"
      }
    },
    {
      "cell_type": "code",
      "source": [
        "my_array = np.array([0, -10, 20, np.nan, np.inf]) \n",
        "\n",
        "'''Con np.isfinite sacamos en formato booleano si un numero es finito,\n",
        "es decir True si es diferente de NaN o infinito'''\n",
        "\n",
        "print(np.isfinite(my_array)) "
      ],
      "metadata": {
        "colab": {
          "base_uri": "https://localhost:8080/"
        },
        "id": "MvLnSpXz-h9w",
        "outputId": "bd392453-e8d1-4aa3-ce9e-28f8fffae7a8"
      },
      "execution_count": null,
      "outputs": [
        {
          "output_type": "stream",
          "name": "stdout",
          "text": [
            "[ True  True  True False False]\n"
          ]
        }
      ]
    },
    {
      "cell_type": "markdown",
      "source": [
        "## Exercices 6\n",
        "\n",
        "Write a NumPy program to test element-wise for positive or negative infinity"
      ],
      "metadata": {
        "id": "cZ8YF9oWAaYp"
      }
    },
    {
      "cell_type": "code",
      "source": [
        "my_array = np.array([0, -10, 20, np.nan, np.inf]) \n",
        "\n",
        "'''Con np.isinf sacamos en formato booleano si un numero es infinito,\n",
        "tanto positivo, como negativo, es decir True si es un valor infinito\n",
        "\n",
        "True where x == +/-inf, otherwise False.\n",
        "\n",
        "'''\n",
        "\n",
        "print(np.isinf(my_array)) "
      ],
      "metadata": {
        "colab": {
          "base_uri": "https://localhost:8080/"
        },
        "id": "Q2ezHbCUAiVF",
        "outputId": "2be465a3-ffad-4a88-884b-52601f3b5227"
      },
      "execution_count": null,
      "outputs": [
        {
          "output_type": "stream",
          "name": "stdout",
          "text": [
            "inf\n",
            "[False False False False  True]\n"
          ]
        }
      ]
    },
    {
      "cell_type": "markdown",
      "source": [
        "## Exercices 7\n",
        "\n",
        "Write a NumPy program to test element-wise for NaN of a given array\n"
      ],
      "metadata": {
        "id": "VJAHTNCPBbR8"
      }
    },
    {
      "cell_type": "code",
      "source": [
        "\"\"\" Con isnan lo que sacamos es si un valor dentro del array es NaN, \n",
        "es decir True para NaN y False para el resto\"\"\"\n",
        "\n",
        "print(np.isnan(my_array))"
      ],
      "metadata": {
        "colab": {
          "base_uri": "https://localhost:8080/"
        },
        "id": "L0JepTbgBl4E",
        "outputId": "fc527b72-bd34-4740-f3ca-aad284b3f438"
      },
      "execution_count": null,
      "outputs": [
        {
          "output_type": "stream",
          "name": "stdout",
          "text": [
            "[False False False  True False]\n"
          ]
        }
      ]
    },
    {
      "cell_type": "markdown",
      "source": [
        "## Exercices 8\n",
        "\n",
        "Write a NumPy program to test element-wise for complex number, real number of a given array. Also test whether a given number is a scalar type or not"
      ],
      "metadata": {
        "id": "2McXnXxoCibP"
      }
    },
    {
      "cell_type": "code",
      "source": [
        "my_array = np.array([0, -10, 20, np.nan, np.inf, 2j])\n",
        "\n",
        "\"\"\"Para numeros complejos usamos np.iscomplex,\n",
        "esto nos devolvera un valor booleano donde si hay un numero complejo\n",
        "devolvera True.\n",
        "\n",
        "es_numero_complejo = 1j\n",
        "\"\"\"\n",
        "\n",
        "print(np.iscomplex(my_array))\n",
        "\n",
        "# Para saber si el array contiene numeros reales, y no complejos.\n",
        "\n",
        "print(np.isreal(my_array))\n",
        "\n",
        "\"\"\" Para saber si un numero es escalable \n",
        "\n",
        "Ejemplos:\n",
        "\n",
        "np.isscalar(3.1) # Float\n",
        "True\n",
        "np.isscalar(np.array(3.1)) # Al ser array no es escalable\n",
        "False\n",
        "np.isscalar([3.1]) # Al ser lista no es escalable\n",
        "False\n",
        "np.isscalar(False) # Boolean\n",
        "True\n",
        "np.isscalar('numpy') # String\n",
        "True\n",
        "\n",
        "\"\"\"\n",
        "# En este caso al ser un array no es numero escalable\n",
        "print(np.isscalar(my_array)) \n",
        "\n",
        "\"\"\"Pero si lo hacemos sobre un valor del array podemos saber si este es \n",
        "escalable.\n",
        "\n",
        "\"\"\" \n",
        "print(f\"{np.isscalar(my_array[2])}, este numero es escalable\")\n",
        "\n",
        "# Si son listas, tuplas o diccionario no son escalables\n",
        "no_escalable = {\"hola\": 3.1}\n",
        "print(f\"{np.isscalar(no_escalable)}, este numero es no escalable\") \n",
        "\n",
        "\n"
      ],
      "metadata": {
        "colab": {
          "base_uri": "https://localhost:8080/"
        },
        "id": "c2bH4CU2DkgW",
        "outputId": "ce4a71c9-0032-4693-8e2e-2e6605e60faa"
      },
      "execution_count": null,
      "outputs": [
        {
          "output_type": "stream",
          "name": "stdout",
          "text": [
            "[False False False False False  True]\n",
            "[ True  True  True  True  True False]\n",
            "False\n",
            "True, este numero es escalable\n",
            "False, este numero es no escalable\n"
          ]
        }
      ]
    },
    {
      "cell_type": "markdown",
      "source": [
        "## Exercices 9\n",
        "\n",
        "Write a NumPy program to test whether two arrays are element-wise equal within a tolerance\n"
      ],
      "metadata": {
        "id": "g5oZM2HMKZbH"
      }
    },
    {
      "cell_type": "code",
      "source": [
        "my_array_1 = [1, 2, 3]\n",
        "my_array_2 = [1, 2, 3]\n",
        "my_array_dif = [1, 2, 4]\n",
        "\n",
        "\n",
        "# Con allclose comparamos si 2 arrays son iguales y tienen valores tolerantes\n",
        "\"\"\"\n",
        "Los valores de tolerancia son positivos, normalmente números muy pequeños. \n",
        "\n",
        "\"\"\"\n",
        "# Comparamos 2 arrays iguales\n",
        "print(np.allclose(my_array_1, my_array_2))\n",
        "\n",
        "# Comparamos 2 arrays diferentes\n",
        "print(np.allclose(my_array_1, my_array_dif))"
      ],
      "metadata": {
        "colab": {
          "base_uri": "https://localhost:8080/"
        },
        "id": "vdSLB0VzLFac",
        "outputId": "ce153b67-b102-4948-e2cf-42f8ac198a29"
      },
      "execution_count": null,
      "outputs": [
        {
          "output_type": "stream",
          "name": "stdout",
          "text": [
            "True\n",
            "False\n"
          ]
        }
      ]
    },
    {
      "cell_type": "markdown",
      "source": [
        "## Exercices 10\n",
        "\n",
        "Write a NumPy program to create an element-wise comparison (greater, greater_equal, less and less_equal) of two given arrays"
      ],
      "metadata": {
        "id": "qO4DKgFr8wPy"
      }
    },
    {
      "cell_type": "code",
      "source": [
        "array_a = np.array([5, 3, 2])\n",
        "array_b = np.array([3, 5, 2])\n",
        "\n",
        "# Uso de greater (mayor que)\n",
        "\n",
        "\"\"\"\n",
        "\n",
        " Su funcionamiento es el siguiente If x1.shape != x2.shape\n",
        "\n",
        " .shape -> esto saca las columnas y filas de cada uno de los 2 arrays y compara\n",
        " si son diferentes, devolviendo valores booleanos\n",
        "\n",
        "  operacion que realiza\n",
        "  \n",
        "  a = np.array([4, 2])\n",
        "  b = np.array([2, 2])\n",
        "  a > b\n",
        "  array([ True, False])\n",
        "\n",
        "\"\"\"\n",
        "\n",
        "print(np.greater(array_a, array_b))\n",
        "\n",
        "# Uso de greater_equal (mayor o igual que)\n",
        "\n",
        "\"\"\"\n",
        "\n",
        "  Aqui el funcionamiento es el mismo que el de greater, pero tambien nos compara\n",
        "  si son iguales en ambos shape, devolviendo valores booleanos\n",
        "\n",
        "  operación que realiza\n",
        "\n",
        "  a = np.array([4, 2, 1])\n",
        "  b = np.array([2, 2, 2])\n",
        "  a >= b\n",
        "  array([ True,  True, False])\n",
        "\n",
        "\"\"\"\n",
        "\n",
        "print(np.greater_equal(array_a, array_b))\n",
        "\n",
        "# Uso de less (menor que)\n",
        "\n",
        "\"\"\"\n",
        "\n",
        "  less nos proporcina la comparacion si es menor que,\n",
        "  devolviendo valores booleanos\n",
        "\n",
        "  operación que realiza:\n",
        "\n",
        "  a = np.array([1, 2])\n",
        "  b = np.array([2, 2])\n",
        "  a < b\n",
        "  array([ True, False])\n",
        "\n",
        "\n",
        "\"\"\"\n",
        "\n",
        "print(np.less(array_a, array_b))\n",
        "\n",
        "# Uso de less_equal (menor o igual que)\n",
        "\n",
        "\"\"\"\n",
        "\n",
        "  less_equal hace lo mismo que less pero añadiendo si son iguales que, \n",
        "  devolviendo valores booleanos\n",
        "\n",
        "  operación que realiza:\n",
        "\n",
        "  a = np.array([4, 2, 1])\n",
        "  b = np.array([2, 2, 2])\n",
        "  a <= b\n",
        "  array([False,  True,  True])\n",
        "\n",
        "\"\"\"\n",
        "\n",
        "print(np.less_equal(array_a, array_b))"
      ],
      "metadata": {
        "colab": {
          "base_uri": "https://localhost:8080/"
        },
        "id": "ty4dYDVl816d",
        "outputId": "4d18ac7c-c9f4-4950-a293-d9a5d7eae389"
      },
      "execution_count": null,
      "outputs": [
        {
          "output_type": "stream",
          "name": "stdout",
          "text": [
            "[ True False False]\n",
            "[ True False  True]\n",
            "[False  True False]\n",
            "[False  True  True]\n"
          ]
        }
      ]
    },
    {
      "cell_type": "markdown",
      "source": [
        "## Exercices 11\n",
        "\n",
        "Write a NumPy program to create an element-wise comparison (equal, equal within a tolerance) of two given arrays\n"
      ],
      "metadata": {
        "id": "8qf2fJz1BMrY"
      }
    },
    {
      "cell_type": "code",
      "source": [
        " # Uso de equal o igual que\n",
        "\n",
        " \"\"\"\n",
        "  Con equal, comparamos si cada valor del array es igual a otro valor de otro\n",
        "  array, por ejemplo:\n",
        "\n",
        "  a = np.array([2, 4, 6])\n",
        "  b = np.array([2, 4, 2])\n",
        "  a == b\n",
        "  array([ True,  True, False])\n",
        "\n",
        " \"\"\"\n",
        " print(np.equal(array_a, array_b))\n",
        "\n",
        " # Uso not_equal o distinto de\n",
        "\n",
        " \"\"\"\n",
        "  Con not_equal, lo que comparamos si los valores son distintos en cada posición\n",
        "  de los array, devolviendo valores booleanos\n",
        "\n",
        " \"\"\"\n",
        "\n",
        " print(np.not_equal(array_a, array_b))"
      ],
      "metadata": {
        "colab": {
          "base_uri": "https://localhost:8080/"
        },
        "id": "gtNg6DI1BcWM",
        "outputId": "8c2c288e-19c6-4bbe-dcde-58fc75197458"
      },
      "execution_count": null,
      "outputs": [
        {
          "output_type": "stream",
          "name": "stdout",
          "text": [
            "[False False  True]\n",
            "[ True  True False]\n"
          ]
        }
      ]
    },
    {
      "cell_type": "markdown",
      "source": [
        "## Ejercicio 12\n",
        "\n",
        "Write a NumPy program to create an array with the values 1, 7, 13, 105 and determine the size of the memory occupied by the array"
      ],
      "metadata": {
        "id": "p4I9VNe9CxbD"
      }
    },
    {
      "cell_type": "code",
      "source": [
        "# Para este caso necesitamos realizar una operacion para cada valor del array\n",
        "\n",
        "array_peso = np.array([1, 7, 13, 105])\n",
        "\n",
        "\"\"\"\n",
        "\n",
        "  1. Lo primero que tenemos que hacer es sacar el tamaño en memoria\n",
        "  de todo el array, usaremos size concatenandolo con el nombre de nuestro array.\n",
        "\n",
        "  array_peso.size\n",
        "\n",
        "  * El resultado se expresa en bytes\n",
        "\n",
        "\"\"\"\n",
        "\n",
        "print(array_peso.size)\n",
        "\n",
        "\"\"\"\n",
        "  2. Ahora, debemos de sacar lo que ocupa cada elemento del array en memoria,\n",
        "  para ello usaremos itemsize concatenandolo con el nombre de nuestro array\n",
        "\n",
        "  array_peso.itemsize\n",
        "\n",
        "\"\"\"\n",
        "\n",
        "print(array_peso.itemsize)\n",
        "\n",
        "\"\"\"\n",
        "  3. Por último realizamos el calculo total de espacio que ocupa en memoria,\n",
        "  multiplicando el tamaño en memoria total del array con el de cada elemento\n",
        "  del array\n",
        "\n",
        "  array_peso.size * array_peso.itemsize\n",
        "\n",
        "\"\"\"\n",
        "print(array_peso.size * array_peso.itemsize)\n"
      ],
      "metadata": {
        "colab": {
          "base_uri": "https://localhost:8080/"
        },
        "id": "EJAcdSLzC_C4",
        "outputId": "d14136c9-fb77-44f0-a213-70e099af41f0"
      },
      "execution_count": null,
      "outputs": [
        {
          "output_type": "stream",
          "name": "stdout",
          "text": [
            "4\n",
            "8\n",
            "32\n"
          ]
        }
      ]
    },
    {
      "cell_type": "markdown",
      "source": [
        "## Exercices 13\n",
        "\n",
        "Write a NumPy program to create an array of 10 zeros,10 ones, 10 fives"
      ],
      "metadata": {
        "id": "F3T5T2QRHTqs"
      }
    },
    {
      "cell_type": "code",
      "source": [
        "# Para 10 ceros\n",
        "\n",
        "zeros = np.zeros(10)\n",
        "print(zeros)\n",
        "\n",
        "# Para 10 unos\n",
        "\n",
        "ones = np.ones(10)\n",
        "print(ones)\n",
        "\n",
        "# Para 10 cincos\n",
        "\n",
        "fives = np.ones(10) * 5\n",
        "print(fives)\n",
        "\n"
      ],
      "metadata": {
        "colab": {
          "base_uri": "https://localhost:8080/"
        },
        "id": "vDyjjJEKHkUb",
        "outputId": "ee92f638-0189-4d57-f7cc-5d9c07e24a18"
      },
      "execution_count": null,
      "outputs": [
        {
          "output_type": "stream",
          "name": "stdout",
          "text": [
            "[0. 0. 0. 0. 0. 0. 0. 0. 0. 0.]\n",
            "[1. 1. 1. 1. 1. 1. 1. 1. 1. 1.]\n",
            "[5. 5. 5. 5. 5. 5. 5. 5. 5. 5.]\n"
          ]
        }
      ]
    },
    {
      "cell_type": "markdown",
      "source": [
        "## Exercices 14\n",
        "\n",
        "Write a NumPy program to create an array of the integers from 30 to 70"
      ],
      "metadata": {
        "id": "hvC52W8FJabE"
      }
    },
    {
      "cell_type": "code",
      "source": [
        "# Crear un array con enteros del 30 al 70\n",
        "\n",
        "array_rang = np.arange(30, 71, dtype = np.int8)\n",
        "print(array_rang)"
      ],
      "metadata": {
        "colab": {
          "base_uri": "https://localhost:8080/"
        },
        "id": "9djmfxeHJeaY",
        "outputId": "dcccbb55-fc31-4e41-9e3f-f23a3a3454ce"
      },
      "execution_count": null,
      "outputs": [
        {
          "output_type": "stream",
          "name": "stdout",
          "text": [
            "[30 31 32 33 34 35 36 37 38 39 40 41 42 43 44 45 46 47 48 49 50 51 52 53\n",
            " 54 55 56 57 58 59 60 61 62 63 64 65 66 67 68 69 70]\n"
          ]
        }
      ]
    },
    {
      "cell_type": "markdown",
      "source": [
        "## Exercices 15\n",
        "\n",
        "Write a NumPy program to create an array of all the even integers from 30 to 70"
      ],
      "metadata": {
        "id": "e1jKP1TbJezO"
      }
    },
    {
      "cell_type": "code",
      "source": [
        "# Crear un array con los pares enteros desde 30 al 70\n",
        "\n",
        "array_rang_even = np.arange(30, 70, 2, dtype = np.int8)\n",
        "print(array_rang_even)"
      ],
      "metadata": {
        "colab": {
          "base_uri": "https://localhost:8080/"
        },
        "id": "B3AWFVg0Jh0q",
        "outputId": "174f82ab-53b2-42e1-80cb-f2ddc5bf63b5"
      },
      "execution_count": null,
      "outputs": [
        {
          "output_type": "stream",
          "name": "stdout",
          "text": [
            "[30 32 34 36 38 40 42 44 46 48 50 52 54 56 58 60 62 64 66 68]\n"
          ]
        }
      ]
    },
    {
      "cell_type": "markdown",
      "source": [
        "## Exercices 16\n",
        "\n",
        "Write a NumPy program to create a 3x3 identity matrix."
      ],
      "metadata": {
        "id": "mQaNqGVjJiVA"
      }
    },
    {
      "cell_type": "code",
      "source": [
        "# Crear una matriz de identidad de 3 x 3 \n",
        "\n",
        "\"\"\"\n",
        "  La matriz de identidad es una matriz cuadrada con unos en la \n",
        "  diagonal principal.\n",
        "\n",
        "  ejemplo:\n",
        "\n",
        "  array([[1.,  0.,  0.],\n",
        "       [0.,  1.,  0.],\n",
        "       [0.,  0.,  1.]])\n",
        "\n",
        "\"\"\"\n",
        "\n",
        "print(np.identity(3))\n"
      ],
      "metadata": {
        "colab": {
          "base_uri": "https://localhost:8080/"
        },
        "id": "quadVeRRJpGt",
        "outputId": "225a7a5d-1192-495b-87c4-d35cc03ca05a"
      },
      "execution_count": null,
      "outputs": [
        {
          "output_type": "stream",
          "name": "stdout",
          "text": [
            "[[1. 0. 0.]\n",
            " [0. 1. 0.]\n",
            " [0. 0. 1.]]\n"
          ]
        }
      ]
    },
    {
      "cell_type": "markdown",
      "source": [
        "## Exercices 17\n",
        "\n",
        "Write a NumPy program to generate a random number between 0 and 1"
      ],
      "metadata": {
        "id": "UbeZIir-Jmij"
      }
    },
    {
      "cell_type": "code",
      "source": [
        "# Genera numeros aleatorios entre el 0 y el 1\n",
        "\n",
        "\"\"\"\n",
        "  1. Podemos hacerlo con np.random.normal(loc, scale, size)\n",
        "\n",
        "  array_random = np.random.normal(0.0, 1.0, size = (1, 4))\n",
        "\n",
        "  Pero no nos devolveria un valor entre 0 y 1, ya que dependediendo del\n",
        "  calculo puede sacar valores por debajo o por encima de 1\n",
        "\n",
        "  2. Para que los valores salgan entre 0 y 1 sin tener el problema del\n",
        "  punto 1, podemos usar random.rand\n",
        "\n",
        "  3. Podemos comprobar que realmente se estan generando numeros entre 0 y 1,\n",
        "  usando las funciones de min y max\n",
        "\n",
        "\"\"\"\n",
        "\n",
        "array_random = np.random.rand(5)\n",
        "\n",
        "print(array_random)\n",
        "print(np.max(array_random))\n",
        "print(np.min(array_random))\n"
      ],
      "metadata": {
        "colab": {
          "base_uri": "https://localhost:8080/"
        },
        "id": "ISWDBWZRJvrO",
        "outputId": "837a1965-48e7-4b96-cc78-27e615a21a56"
      },
      "execution_count": null,
      "outputs": [
        {
          "output_type": "stream",
          "name": "stdout",
          "text": [
            "[0.06711896 0.55080362 0.73276297 0.27302971 0.05240838]\n",
            "0.7327629728324241\n",
            "0.052408382738796444\n"
          ]
        }
      ]
    },
    {
      "cell_type": "markdown",
      "source": [
        "## Exercices 18\n",
        "\n",
        "Write a NumPy program to generate an array of 15 random numbers from a standard normal distribution"
      ],
      "metadata": {
        "id": "sN4j2CxyJr3p"
      }
    },
    {
      "cell_type": "code",
      "source": [
        "# En este caso no se nos pide que sea un rango de 0 a 1, y podemos usar random.normal\n",
        "array_normal_dist = np.random.normal(10, 5, size = (1, 15))\n",
        "print(array_normal_dist)"
      ],
      "metadata": {
        "id": "atmN28feJu_A",
        "colab": {
          "base_uri": "https://localhost:8080/"
        },
        "outputId": "e0cca34f-10ea-4c0e-a82e-62559e03e373"
      },
      "execution_count": null,
      "outputs": [
        {
          "output_type": "stream",
          "name": "stdout",
          "text": [
            "[[ 3.83703597  7.63533474 10.64416617 12.14243511 12.27478059  6.19474933\n",
            "   3.84793628 17.50456415  3.41081413 13.69168667  7.75887435 17.61005763\n",
            "   7.02835591  5.20146741 13.72396024]]\n"
          ]
        }
      ]
    },
    {
      "cell_type": "markdown",
      "source": [
        "## Exercices 19\n",
        "\n",
        "Write a NumPy program to create a vector with values ranging from 15 to 55 and print all values except the first and last"
      ],
      "metadata": {
        "id": "5isjknWDJwaQ"
      }
    },
    {
      "cell_type": "code",
      "source": [
        "# Aquí generamos los numeros aleatorios de entre 15 y 55\n",
        "new_array_random = np.arange(15, 55)\n",
        "\n",
        "# Por último pintamos el array sin el primer valor y sin el último\n",
        "print(new_array_random[1: -1])"
      ],
      "metadata": {
        "id": "vZy3ul2KJz1K",
        "colab": {
          "base_uri": "https://localhost:8080/"
        },
        "outputId": "2124b45e-3b71-4f0c-bbca-a9d892333731"
      },
      "execution_count": null,
      "outputs": [
        {
          "output_type": "stream",
          "name": "stdout",
          "text": [
            "[16 17 18 19 20 21 22 23 24 25 26 27 28 29 30 31 32 33 34 35 36 37 38 39\n",
            " 40 41 42 43 44 45 46 47 48 49 50 51 52 53]\n"
          ]
        }
      ]
    },
    {
      "cell_type": "markdown",
      "source": [
        "## Exercices 20 \n",
        "\n",
        "Write a NumPy program to create a 3X4 array using and iterate over it"
      ],
      "metadata": {
        "id": "QtkA1k4NJ0Ds"
      }
    },
    {
      "cell_type": "code",
      "source": [
        "# Primero creamos la matriz\n",
        "\n",
        "nueva_matriz = np.arange(0, 12).reshape(3, 4)\n",
        "print(nueva_matriz)\n",
        "\n",
        "# Ahora iteramos sobre ella para sacarla como una linea\n",
        "\n",
        "\"\"\"\n",
        " Lo que voy a usar ahora es la función nditer, \n",
        " que proporciona muchas formas flexibles de ver todos los elementos de una \n",
        " o más matrices de forma sistemática.\n",
        "\n",
        "\"\"\"\n",
        "\n",
        "for num in np.nditer(nueva_matriz):\n",
        "  print(num, end = \" \")\n"
      ],
      "metadata": {
        "id": "dPeeZ468J3Wx",
        "colab": {
          "base_uri": "https://localhost:8080/"
        },
        "outputId": "9bb2d2bb-2d0c-4876-ba86-c6b68e4571de"
      },
      "execution_count": null,
      "outputs": [
        {
          "output_type": "stream",
          "name": "stdout",
          "text": [
            "[[ 0  1  2  3]\n",
            " [ 4  5  6  7]\n",
            " [ 8  9 10 11]]\n",
            "0 1 2 3 4 5 6 7 8 9 10 11 "
          ]
        }
      ]
    }
  ]
}