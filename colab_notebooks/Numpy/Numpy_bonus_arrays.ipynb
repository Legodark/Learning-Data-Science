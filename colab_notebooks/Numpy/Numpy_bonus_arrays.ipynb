{
  "nbformat": 4,
  "nbformat_minor": 0,
  "metadata": {
    "colab": {
      "provenance": [],
      "collapsed_sections": [],
      "authorship_tag": "ABX9TyOqXZn+V9/DGf8uo9Ufwf/f",
      "include_colab_link": true
    },
    "kernelspec": {
      "name": "python3",
      "display_name": "Python 3"
    },
    "language_info": {
      "name": "python"
    }
  },
  "cells": [
    {
      "cell_type": "markdown",
      "metadata": {
        "id": "view-in-github",
        "colab_type": "text"
      },
      "source": [
        "<a href=\"https://colab.research.google.com/github/Legodark/Learning-Data-Science/blob/import_colab/colab_notebooks/Numpy/Numpy_bonus_arrays.ipynb\" target=\"_parent\"><img src=\"https://colab.research.google.com/assets/colab-badge.svg\" alt=\"Open In Colab\"/></a>"
      ]
    },
    {
      "cell_type": "markdown",
      "source": [
        "# Exercices\n",
        "\n",
        "## Exercices 11\n",
        "\n",
        "Write a NumPy program to convert a list and tuple into arrays. \n",
        "\n",
        "List to array:\n",
        "\n",
        "`[1 2 3 4 5 6 7 8]`\n",
        "\n",
        "Tuple to array:\n",
        "\n",
        "```\n",
        "[[8 4 6]\n",
        "[1 2 3]]\n",
        "```"
      ],
      "metadata": {
        "id": "_GmGSTKv2ZeE"
      }
    },
    {
      "cell_type": "code",
      "source": [
        "# import numpy\n",
        "\n",
        "import numpy as np"
      ],
      "metadata": {
        "id": "ztc3VLC23dlM"
      },
      "execution_count": null,
      "outputs": []
    },
    {
      "cell_type": "code",
      "execution_count": null,
      "metadata": {
        "colab": {
          "base_uri": "https://localhost:8080/"
        },
        "id": "lKowoPf42TjM",
        "outputId": "144fef47-105d-4def-eab0-c17b47e0ee0c"
      },
      "outputs": [
        {
          "output_type": "stream",
          "name": "stdout",
          "text": [
            "<class 'list'> \n",
            "\n",
            "[1 2 3 4 5 6 7 8]\n",
            "<class 'numpy.ndarray'> \n",
            "\n",
            "<class 'tuple'> \n",
            "\n",
            "[[8 4 6]\n",
            " [1 2 3]]\n",
            "<class 'numpy.ndarray'> \n",
            "\n",
            "[1, 2, 3, 4, 6, 8] \n",
            "\n",
            "[[4 6 8]\n",
            " [1 2 3]]\n"
          ]
        }
      ],
      "source": [
        "# Parte 1 - convertir una lista a array\n",
        "my_list_array = [1, 2, 3, 4, 5, 6, 7, 8]\n",
        "print(type(my_list_array), \"\\n\")\n",
        "\n",
        "my_list_array = np.asarray(my_list_array)\n",
        "print(my_list_array)\n",
        "print(type(my_list_array), \"\\n\")\n",
        "\n",
        "# Parte 2 - Pasar tupla a array()\n",
        "\n",
        "my_tuple = ([8, 4, 6], [1, 2, 3])\n",
        "print(type(my_tuple), \"\\n\")\n",
        "\n",
        "tupla_array = np.asarray(my_tuple)\n",
        "print(tupla_array)\n",
        "print(type(tupla_array), \"\\n\")\n",
        "\n",
        "# Parte 3 - Para practicar\n",
        "\n",
        "# Primero creamos la lista\n",
        "\n",
        "my_list = [1, 2, 3, 4, 5, 6, 7, 8]\n",
        "\n",
        "# Ahora devemos de eliminamos el 5 y el 7\n",
        "\n",
        "def remove_odd(my_list):\n",
        "  for num in my_list:\n",
        "    if num >= 5 and num % 2 != 0:\n",
        "      my_list.remove(num)\n",
        "\n",
        "remove_odd(my_list)\n",
        "print(my_list, \"\\n\")\n",
        "\n",
        "# Por último lo pasamos a array de 2 x 2\n",
        "\n",
        "my_list = np.array(my_list, dtype = np.int8).reshape(2,3)\n",
        "\n",
        "# Ahora le damos la vuelta\n",
        "\n",
        "my_list = my_list[::-1]\n",
        "print(my_list)"
      ]
    },
    {
      "cell_type": "markdown",
      "source": [
        "## Exercices 12\n",
        "\n",
        "Write a NumPy program to append values to the end of an array. \n",
        "Expected Output:\n",
        "\n",
        "Original array:\n",
        "\n",
        "`[10, 20, 30]`\n",
        "\n",
        "After append values to the end of the array:\n",
        "\n",
        "`[10 20 30 40 50 60 70 80 90]`"
      ],
      "metadata": {
        "id": "U94c0Gif9yfQ"
      }
    },
    {
      "cell_type": "code",
      "source": [
        "from numpy.core.fromnumeric import size\n",
        "# Creamos el array\n",
        "\n",
        "my_array = np.array([10, 20, 30])\n",
        "\n",
        "# Ahora añadimos los numeros del 40 al 90 de 10 en diez\n",
        "\n",
        "# Primero creamos los numeros del 40 al 90\n",
        "\n",
        "add_array = np.arange(40, 100, 10, dtype = np.int8)\n",
        "print(add_array)\n",
        "\n",
        "# Por último utilizamos el metodo append para uniificar los 2 arrays\n",
        "\n",
        "my_array = np.append(my_array, add_array)\n",
        "\n",
        "print(my_array)\n",
        "print((my_array).dtype)"
      ],
      "metadata": {
        "colab": {
          "base_uri": "https://localhost:8080/"
        },
        "id": "RelBmToy_jZm",
        "outputId": "b299a8c1-3e61-45f4-8d73-5c32f77ea621"
      },
      "execution_count": null,
      "outputs": [
        {
          "output_type": "stream",
          "name": "stdout",
          "text": [
            "[40 50 60 70 80 90]\n",
            "[10 20 30 40 50 60 70 80 90]\n",
            "int64\n"
          ]
        }
      ]
    },
    {
      "cell_type": "markdown",
      "source": [
        "## Exercices 13\n",
        "\n",
        "Write a NumPy program to create an empty and a full array. \n",
        "\n",
        "Expected Output:\n",
        "\n",
        "```python\n",
        "# empty array\n",
        "[ 6.93270651e-310 1.59262180e-316 6.93270559e-310 6.93270665e-310]\n",
        "[ 6.93270667e-310 6.93270671e-310 6.93270668e-310 6.93270483e-310]\n",
        "[ 6.93270668e-310 6.93270671e-310 6.93270370e-310 6.93270488e-310]]\n",
        "\n",
        "# full array\n",
        "[[6 6 6]\n",
        "[6 6 6]\n",
        "[6 6 6]]\n",
        "```"
      ],
      "metadata": {
        "id": "rEFs-o0-BGzv"
      }
    },
    {
      "cell_type": "code",
      "source": [
        "# Creamos un array con el metodo empty\n",
        "\n",
        "array_empty = np.empty((3,3))\n",
        "print(array_empty, \"\\n\")\n",
        "\n",
        "# Creamos un array con numeros enteros\n",
        "\n",
        "array_full = np.full((3, 3), 6)\n",
        "print(array_full)"
      ],
      "metadata": {
        "colab": {
          "base_uri": "https://localhost:8080/"
        },
        "id": "AzU9catICXES",
        "outputId": "ab226970-9a7b-4ebd-d63c-acf2c59fd79e"
      },
      "execution_count": null,
      "outputs": [
        {
          "output_type": "stream",
          "name": "stdout",
          "text": [
            "[[4.05667341e-316 1.77863633e-322 0.00000000e+000]\n",
            " [0.00000000e+000 2.46151512e-312 2.52905473e-052]\n",
            " [1.14195399e-071 4.22086166e-090 9.76875305e+165]] \n",
            "\n",
            "[[6 6 6]\n",
            " [6 6 6]\n",
            " [6 6 6]]\n"
          ]
        }
      ]
    },
    {
      "cell_type": "markdown",
      "source": [
        "## Exercices 14\n",
        "\n",
        "Write a NumPy program to convert the values of Centigrade degrees into Fahrenheit degrees and vice versa. Values are stored into a NumPy array. \n",
        "\n",
        "Sample Array \n",
        "\n",
        "`[0, 12, 45.21, 34, 99.91]`\n",
        "\n",
        "`[-17.78, -11.11, 7.34, 1.11, 37.73, 0. ]`\n",
        "\n",
        "Expected Output:\n",
        "\n",
        "Values in Fahrenheit degrees:\n",
        "`[ 0. 12. 45.21 34. 99.91]`\n",
        "\n",
        "Values in Centigrade degrees:\n",
        "`[-17.78 -11.11 7.34 1.11 37.73 0. ]`\n",
        "\n",
        "Values in Centigrade degrees:\n",
        "`[-17.78 -11.11 7.34 1.11 37.73 0. ]`\n",
        "\n",
        "Values in Fahrenheit degrees:\n",
        "`[-0. 12. 45.21 34. 99.91]`"
      ],
      "metadata": {
        "id": "p0TXpIuoDOHn"
      }
    },
    {
      "cell_type": "code",
      "source": [
        "# Creamos los arrays\n",
        "\n",
        "cel = np.array([17.78, -11.11, 7.34, 1.11, 37.73, 0.])\n",
        "\n",
        "fah = np.array([0., 12., 45.21, 34., 99.91])\n",
        "# Convertimos los celsius en fahrenheit\n",
        "\n",
        "fahrenheit = np.round((cel * 1.8) + 32, 2)\n",
        "print(fahrenheit)\n",
        "\n",
        "# Convertimos los fahrenheit en celsius\n",
        "\n",
        "celsius = np.round(((fah - 32) / 1.8),2)\n",
        "print(celsius)"
      ],
      "metadata": {
        "colab": {
          "base_uri": "https://localhost:8080/"
        },
        "id": "P6ccsz8VJGbo",
        "outputId": "aa4c3f29-b3fe-4b55-bb8e-900c541ee2e5"
      },
      "execution_count": null,
      "outputs": [
        {
          "output_type": "stream",
          "name": "stdout",
          "text": [
            "[64.   12.   45.21 34.   99.91 32.  ]\n",
            "[-17.78 -11.11   7.34   1.11  37.73]\n"
          ]
        }
      ]
    },
    {
      "cell_type": "markdown",
      "source": [
        "## Exercices 15\n",
        "\n",
        "Write a NumPy program to find the real and imaginary parts of an array of complex numbers.\n",
        "\n",
        "Original array:`x [ 1.00000000+0.j]`\n",
        "\n",
        "\n",
        "Original array:`y [ 0.70710678+0.70710678j]`\n",
        "\n",
        "Real part of the array:\n",
        "```python\n",
        "[ 1.]\n",
        "[ 0.70710678]\n",
        "```\n",
        "Imaginary part of the array:\n",
        "```python\n",
        "[ 0.]\n",
        "[ 0.70710678]\n",
        "```"
      ],
      "metadata": {
        "id": "fDBOu-AAPDtA"
      }
    },
    {
      "cell_type": "code",
      "source": [
        "# Primero usamos el metodo .sqrt para devolver la raíz cuadrada no negativa de la matriz\n",
        "  \n",
        "complex_1 = np.sqrt([1.00000000+0.j])\n",
        "complex_2 = np.sqrt([0.70710678+0.70710678j])\n",
        "\n",
        "print(complex_1)\n",
        "print(complex_2, \"\\n\")\n",
        "\n",
        "# Segundo sacamos la parte real del numero complejo con el metodo .real\n",
        "\n",
        "real_array_1 = complex_1.real\n",
        "print(real_array_1)\n",
        "real_array_2 = complex_2.real\n",
        "print(real_array_2, \"\\n\")\n",
        "\n",
        "# Tervero sacamos la parte imaginaria del numero complejo con el metodo .imag\n",
        "\n",
        "imag_array_1 = complex_1.imag\n",
        "print(imag_array_1)\n",
        "imag_array_2 = complex_2.imag\n",
        "print(imag_array_2)"
      ],
      "metadata": {
        "colab": {
          "base_uri": "https://localhost:8080/"
        },
        "id": "EiZxc_E1QQYX",
        "outputId": "1a3a2d8d-041c-449a-c0e4-4aa6bc14ce5e"
      },
      "execution_count": null,
      "outputs": [
        {
          "output_type": "stream",
          "name": "stdout",
          "text": [
            "[1.+0.j]\n",
            "[0.92387953+0.38268343j] \n",
            "\n",
            "[1.]\n",
            "[0.92387953] \n",
            "\n",
            "[0.]\n",
            "[0.38268343]\n"
          ]
        }
      ]
    },
    {
      "cell_type": "markdown",
      "source": [
        "## Exercices 16\n",
        "\n",
        " Write a NumPy program to find the number of elements of an array, length of one array element in bytes and total bytes consumed by the elements. \n",
        "\n",
        "Expected Output:\n",
        "\n",
        "Size of the array: 3\n",
        "\n",
        "Length of one array element in bytes: 8\n",
        "\n",
        "Total bytes consumed by the elements of the array: 24"
      ],
      "metadata": {
        "id": "ueon3Od8EPe7"
      }
    },
    {
      "cell_type": "code",
      "source": [
        "# Primero creamos el array\n",
        "\n",
        "my_array = np.array([8, 19, 4])\n",
        "\n",
        "# Segundo sacamos la longitud con .size\n",
        "\n",
        "print(f\"La longitud del array es de {my_array.size}\")\n",
        "\n",
        "# Tercero sacamos el peso de cada elemento del array en bytes\n",
        "\n",
        "print(f\"La longitud del array es de {my_array.itemsize}\")\n",
        "\n",
        "# Cuarto sacamos el peso total del array en bytes\n",
        "\n",
        "print(f\"La longitud del array es de {my_array.itemsize * my_array.size}\")"
      ],
      "metadata": {
        "colab": {
          "base_uri": "https://localhost:8080/"
        },
        "id": "lixbf0NPEWuj",
        "outputId": "d29b190f-cc3d-4c55-fe40-c933982df8df"
      },
      "execution_count": null,
      "outputs": [
        {
          "output_type": "stream",
          "name": "stdout",
          "text": [
            "La longitud del array es de 3\n",
            "La longitud del array es de 8\n",
            "La longitud del array es de 24\n"
          ]
        }
      ]
    },
    {
      "cell_type": "markdown",
      "source": [
        "## Exercices 17\n",
        "\n",
        "Write a NumPy program to test whether each element of a 1-D array is also present in a second array.\n",
        "\n",
        "Expected Output:\n",
        "\n",
        "Array1: `[ 0 10 20 40 60]`\n",
        "\n",
        "Array2: `[0, 40]`\n",
        "\n",
        "Compare each element of array1 and array2\n",
        "\n",
        "`[ True False False True False]`"
      ],
      "metadata": {
        "id": "J2axYqTNGk7Q"
      }
    },
    {
      "cell_type": "code",
      "source": [
        "# Primero creamos los arrays\n",
        "array_1 = np.array([0, 10, 20, 40, 60])\n",
        "\n",
        "array_2 = np.array([0, 40])\n",
        "\n",
        "# A continuación vamos a usar el metodo .in1d \n",
        "\n",
        "\"\"\"\n",
        "\n",
        "  .in1d -> Comprueba si cada elemento de una matriz 1-D,\n",
        "           está también presente en una segunda matriz.\n",
        "\n",
        "\"\"\"\n",
        "eq_array = np.in1d(array_1, array_2)\n",
        "\n",
        "print(eq_array)"
      ],
      "metadata": {
        "colab": {
          "base_uri": "https://localhost:8080/"
        },
        "id": "6weD1YUzGye6",
        "outputId": "76bb59bb-8264-46e4-ed8c-0ca925ce90a6"
      },
      "execution_count": null,
      "outputs": [
        {
          "output_type": "stream",
          "name": "stdout",
          "text": [
            "[ True False False  True False]\n"
          ]
        }
      ]
    },
    {
      "cell_type": "markdown",
      "source": [
        "## Ejercicio 18\n",
        "\n",
        "Write a NumPy program to find common values between two arrays. \n",
        "\n",
        "Expected Output:\n",
        "\n",
        "Array1: `[ 0 10 20 40 60]`\n",
        "\n",
        "Array2: `[10, 30, 40]`\n",
        "\n",
        "Common values between two arrays:\n",
        "\n",
        "`[10 40]`"
      ],
      "metadata": {
        "id": "IWcdTyueJQxL"
      }
    },
    {
      "cell_type": "code",
      "source": [
        "# Primero creamos los arrays\n",
        "\n",
        "array_1 = np.array([0, 10, 20, 40, 60])\n",
        "\n",
        "array_2 = np.array([10, 30, 40])\n",
        "\n",
        "# Ahora vamos a usar el metodo .unique \n",
        "\n",
        "\"\"\"\n",
        "  .intersect1d -> Encuentra la intersección de dos matrices, \n",
        "             devuelve los valores únicos y ordenados \n",
        "             que se encuentran en ambas matrices de entrada.\n",
        "\n",
        "\"\"\"\n",
        "\n",
        "uniq_array = np.intersect1d(array_1, array_2)\n",
        "\n",
        "print(uniq_array)\n"
      ],
      "metadata": {
        "colab": {
          "base_uri": "https://localhost:8080/"
        },
        "id": "O_OEX0jYJdtQ",
        "outputId": "4ecce588-c2eb-47e4-abc4-5f84cfa0eb3a"
      },
      "execution_count": null,
      "outputs": [
        {
          "output_type": "stream",
          "name": "stdout",
          "text": [
            "[10 40]\n"
          ]
        }
      ]
    },
    {
      "cell_type": "markdown",
      "source": [
        "## Exercices 19\n",
        "\n",
        " Write a NumPy program to get the unique elements of an array. \n",
        "\n",
        "Expected Output:\n",
        "\n",
        "Original array:\n",
        "\n",
        "[10 10 20 20 30 30]\n",
        "\n",
        "Unique elements of the above array:\n",
        "\n",
        "[10 20 30]\n",
        "\n",
        "Original array:\n",
        "\n",
        "[[1 1]\n",
        "[2 3]]\n",
        "\n",
        "Unique elements of the above array:\n",
        "\n",
        "[1 2 3]"
      ],
      "metadata": {
        "id": "JkiToY8AK63h"
      }
    },
    {
      "cell_type": "code",
      "source": [
        "# Primero creamos los arrays\n",
        "\n",
        "array_1 = np.array([10, 10, 20, 20, 30, 30])\n",
        "\n",
        "array_2 = np.array([[1, 1], [2, 3]])\n",
        "\n",
        "# A continuación vamos a usar el metrodo .unique para sacar un array sin valores repetidos\n",
        "\n",
        "\"\"\"\n",
        "  .unique -> Encuentra los elementos únicos de un array y \n",
        "             devuelve dichos elementos únicos ordenados de un array. \n",
        "             \n",
        "    Hay tres salidas opcionales además de los elementos únicos:\n",
        "\n",
        "      -Los índices del array de entrada que dan los valores únicos\n",
        "\n",
        "      -Los índices del array único que reconstruyen el array de entrada\n",
        "\n",
        "      -El número de veces que aparece cada valor único en el array de entrada\n",
        "\n",
        "\"\"\"\n",
        "\n",
        "# Sacamos el array con valores unicos para el primer caso:\n",
        "new_array = np.unique(array_1)\n",
        "\n",
        "print(new_array, \"\\n\")\n",
        "\n",
        "# Sacamos el array con valores unicos para el segundo caso:\n",
        "new_array = np.unique(array_2)\n",
        "\n",
        "print(new_array)"
      ],
      "metadata": {
        "colab": {
          "base_uri": "https://localhost:8080/"
        },
        "id": "Cmokv17LMPq7",
        "outputId": "d5daa454-9a9e-4ea7-abee-3d32a83b8395"
      },
      "execution_count": null,
      "outputs": [
        {
          "output_type": "stream",
          "name": "stdout",
          "text": [
            "[10 20 30] \n",
            "\n",
            "[1 2 3]\n"
          ]
        }
      ]
    },
    {
      "cell_type": "markdown",
      "source": [
        "## Exercices 20\n",
        "\n",
        "Write a NumPy program to find the set difference of two arrays. The set difference will return the sorted, unique values in array1 that are not in array2. \n",
        "\n",
        "Expected Output:\n",
        "\n",
        "Array1: `[ 0 10 20 40 60 80]`\n",
        "\n",
        "Array2: `[10, 30, 40, 50, 70, 90]`\n",
        "\n",
        "Set difference between two arrays:\n",
        "\n",
        "`[ 0 20 60 80]`"
      ],
      "metadata": {
        "id": "dcPXGejlN4w3"
      }
    },
    {
      "cell_type": "code",
      "source": [
        "## Primero creamos los arrays\n",
        "\n",
        "array_1 = np.array([ 0, 10, 20, 40, 60, 80])\n",
        "\n",
        "array_2 = np.array([10, 30, 40, 50, 70, 90])\n",
        "\n",
        "# Para este ejercicio vamos a usar el metodo .setdiff1d\n",
        "\n",
        "\"\"\"\n",
        "\n",
        "  .setdiff1d -> Encuentra la diferencia de conjuntos de dos arrays y \n",
        "                devuelve los valores únicos en ar1 que no están en ar2.\n",
        "\n",
        "\"\"\"\n",
        "\n",
        "# A continuación usamos el metodo\n",
        "\n",
        "new_array = np.setdiff1d(array_1, array_2)\n",
        "\n",
        "print(new_array)\n"
      ],
      "metadata": {
        "colab": {
          "base_uri": "https://localhost:8080/"
        },
        "id": "lCyh0_y2OAL6",
        "outputId": "aebc9140-7c6d-415b-f5ce-b5ea3368ba31"
      },
      "execution_count": null,
      "outputs": [
        {
          "output_type": "stream",
          "name": "stdout",
          "text": [
            "[ 0 20 60 80]\n"
          ]
        }
      ]
    }
  ]
}