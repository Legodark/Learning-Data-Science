{
  "nbformat": 4,
  "nbformat_minor": 0,
  "metadata": {
    "colab": {
      "provenance": [],
      "collapsed_sections": [],
      "authorship_tag": "ABX9TyOyG8BobuDpT/jdjSXwbnJj",
      "include_colab_link": true
    },
    "kernelspec": {
      "name": "python3",
      "display_name": "Python 3"
    },
    "language_info": {
      "name": "python"
    }
  },
  "cells": [
    {
      "cell_type": "markdown",
      "metadata": {
        "id": "view-in-github",
        "colab_type": "text"
      },
      "source": [
        "<a href=\"https://colab.research.google.com/github/Legodark/Learning-Data-Science/blob/import_colab/colab_notebooks/Numpy/Numpy_bonus_arrays_3.ipynb\" target=\"_parent\"><img src=\"https://colab.research.google.com/assets/colab-badge.svg\" alt=\"Open In Colab\"/></a>"
      ]
    },
    {
      "cell_type": "markdown",
      "source": [
        "Importacion de Numpy"
      ],
      "metadata": {
        "id": "lCpM7GvpUktG"
      }
    },
    {
      "cell_type": "code",
      "source": [
        "import numpy as np"
      ],
      "metadata": {
        "id": "sqtqd1J-UoQi"
      },
      "execution_count": 1,
      "outputs": []
    },
    {
      "cell_type": "markdown",
      "source": [
        "# Bonus Exercices Array 3\n",
        "\n",
        "[Enlace](https://www.w3resource.com/python-exercises/numpy/index-array.php)\n",
        "\n",
        "## Ejercicio 61\n",
        "\n",
        "Write a NumPy program to split an array of 14 elements into 3 arrays, each of which has 2, 4, and 8 elements in the original order."
      ],
      "metadata": {
        "id": "Q2xxmC4u-0f7"
      }
    },
    {
      "cell_type": "code",
      "execution_count": 2,
      "metadata": {
        "id": "eAc83KeU917G",
        "colab": {
          "base_uri": "https://localhost:8080/"
        },
        "outputId": "5db356ec-88b0-4c43-8414-9d64ed1e058f"
      },
      "outputs": [
        {
          "output_type": "stream",
          "name": "stdout",
          "text": [
            "[99 64 39 75 14 78 85 31 95 57 50 45 63 75]\n"
          ]
        }
      ],
      "source": [
        "# Creamos el array de 14 elementos\n",
        "\n",
        "array_14_elements = np.random.randint(0, 100, size = 14)\n",
        "print(array_14_elements)"
      ]
    },
    {
      "cell_type": "code",
      "source": [
        "# A continuación dividimos el array en 3 arrays, uno de 2, otro de 4 y otro de 8\n",
        "\n",
        "\"\"\" \n",
        "\n",
        "    El funcionamiento de .split es el siguiente:\n",
        "      -En el primer parametro pasamos el array que queremos seccionar.\n",
        "      -El segundo parametro indicamos las divisiones que se haran en \n",
        "       forma de split, para el caso de los valores que pasamos seríia\n",
        "       asíi:\n",
        "       \n",
        "       ary[:2]\n",
        "       ary[2:6]\n",
        "       ary[6:] \n",
        "\n",
        "\n",
        "\"\"\"\n",
        "my_array_split = np.split(array_14_elements, [2, 6])\n",
        "print(my_array_split)"
      ],
      "metadata": {
        "colab": {
          "base_uri": "https://localhost:8080/"
        },
        "id": "UG-nuZSduI72",
        "outputId": "191c3338-29b5-4c0a-91af-6a5ed07699ae"
      },
      "execution_count": 3,
      "outputs": [
        {
          "output_type": "stream",
          "name": "stdout",
          "text": [
            "[array([99, 64]), array([39, 75, 14, 78]), array([85, 31, 95, 57, 50, 45, 63, 75])]\n"
          ]
        }
      ]
    },
    {
      "cell_type": "markdown",
      "source": [
        "## Ejercicio 62\n",
        "\n",
        "Write a NumPy program to split of an array of shape 4x4 it into two arrays along the second axis\n",
        "\n"
      ],
      "metadata": {
        "id": "syx2nBbXyQVt"
      }
    },
    {
      "cell_type": "code",
      "source": [
        "# Creamos el array.\n",
        "\n",
        "array_spl = np.array([[0, 1, 2, 3],[4, 5, 6, 7],[8, 9, 10, 11],[12, 13, 14, 15]])\n",
        "print(array_spl)\n",
        "\n",
        "np.hsplit(array_spl, [2, 6])"
      ],
      "metadata": {
        "colab": {
          "base_uri": "https://localhost:8080/"
        },
        "id": "UdqBWchba7Wv",
        "outputId": "67b9a895-e83e-4b5c-fca2-7b6e7127b745"
      },
      "execution_count": 4,
      "outputs": [
        {
          "output_type": "stream",
          "name": "stdout",
          "text": [
            "[[ 0  1  2  3]\n",
            " [ 4  5  6  7]\n",
            " [ 8  9 10 11]\n",
            " [12 13 14 15]]\n"
          ]
        },
        {
          "output_type": "execute_result",
          "data": {
            "text/plain": [
              "[array([[ 0,  1],\n",
              "        [ 4,  5],\n",
              "        [ 8,  9],\n",
              "        [12, 13]]), array([[ 2,  3],\n",
              "        [ 6,  7],\n",
              "        [10, 11],\n",
              "        [14, 15]]), array([], shape=(4, 0), dtype=int64)]"
            ]
          },
          "metadata": {},
          "execution_count": 4
        }
      ]
    },
    {
      "cell_type": "markdown",
      "source": [
        "## Ejercicio 63\n",
        "\n",
        "Write a NumPy program to get the number of nonzero elements in an array"
      ],
      "metadata": {
        "id": "GJxCLLfrct3p"
      }
    },
    {
      "cell_type": "code",
      "source": [
        "# Cremos el array con numeros que tengan ceros.\n",
        "\n",
        "my_array = np.asarray([10, 1000, 250, 500, 0]) # el 0 solo no se cuenta.\n",
        "\n",
        "np.count_nonzero(my_array)"
      ],
      "metadata": {
        "colab": {
          "base_uri": "https://localhost:8080/"
        },
        "id": "4P7h4eSPdWeg",
        "outputId": "a517736f-21b6-478e-a9c7-c7edbbe0a655"
      },
      "execution_count": 5,
      "outputs": [
        {
          "output_type": "execute_result",
          "data": {
            "text/plain": [
              "4"
            ]
          },
          "metadata": {},
          "execution_count": 5
        }
      ]
    },
    {
      "cell_type": "markdown",
      "source": [
        "## Ejercicio 64\n",
        "\n",
        "Write a NumPy program to create a 5x5 matrix with row values ranging from 0 to 4"
      ],
      "metadata": {
        "id": "0xZUPXqOd7T3"
      }
    },
    {
      "cell_type": "code",
      "source": [
        "# Primero vamos a crear un array de ceros\n",
        "\n",
        "array_zeros = np.zeros([5, 5])\n",
        "print(array_zeros, \"\\n\")\n",
        "\n",
        "# Ahora concatenemos e iigualamos con un arange\n",
        "\n",
        "array_zeros += np.arange(5)\n",
        "\n",
        "print(array_zeros)"
      ],
      "metadata": {
        "colab": {
          "base_uri": "https://localhost:8080/"
        },
        "id": "81TRcfrEeDcM",
        "outputId": "6335793d-8a04-4c8d-8d98-70b743e86c30"
      },
      "execution_count": 6,
      "outputs": [
        {
          "output_type": "stream",
          "name": "stdout",
          "text": [
            "[[0. 0. 0. 0. 0.]\n",
            " [0. 0. 0. 0. 0.]\n",
            " [0. 0. 0. 0. 0.]\n",
            " [0. 0. 0. 0. 0.]\n",
            " [0. 0. 0. 0. 0.]] \n",
            "\n",
            "[[0. 1. 2. 3. 4.]\n",
            " [0. 1. 2. 3. 4.]\n",
            " [0. 1. 2. 3. 4.]\n",
            " [0. 1. 2. 3. 4.]\n",
            " [0. 1. 2. 3. 4.]]\n"
          ]
        }
      ]
    },
    {
      "cell_type": "markdown",
      "source": [
        "## Ejercicio 65\n",
        "\n",
        "Write a NumPy program to test whether specified values are present in an array\n"
      ],
      "metadata": {
        "id": "S0tsGOuFfmQ_"
      }
    },
    {
      "cell_type": "code",
      "source": [
        "# Creamos el array\n",
        "\n",
        "array_random_1 = np.random.randint(0, 100, size = 10)\n",
        "\n",
        "print(array_random_1, \"\\n\")\n",
        "\n",
        "# Con isin, miramos si alguno de los valores que le pasamos como segundo parametro estan en nuestro array.\n",
        "\n",
        "array_random_1[np.isin(array_random_1, [10, 23, 12, 65, 50])]"
      ],
      "metadata": {
        "colab": {
          "base_uri": "https://localhost:8080/"
        },
        "id": "lvCufRzsgFPH",
        "outputId": "c6be0b3e-ab90-4055-bda9-17574764a479"
      },
      "execution_count": 7,
      "outputs": [
        {
          "output_type": "stream",
          "name": "stdout",
          "text": [
            "[12 44  9 88 64 37  1 97 89 54] \n",
            "\n"
          ]
        },
        {
          "output_type": "execute_result",
          "data": {
            "text/plain": [
              "array([12])"
            ]
          },
          "metadata": {},
          "execution_count": 7
        }
      ]
    },
    {
      "cell_type": "markdown",
      "source": [
        "## Ejercicio 66\n",
        "\n",
        "Write a NumPy program to create a vector of size 10 with values ranging from 0 to 1, both excluded"
      ],
      "metadata": {
        "id": "1QLmsN2lh1Cn"
      }
    },
    {
      "cell_type": "code",
      "source": [
        "# Creamos el array con 10 numeros del 0 al 1 sin incluir ninguno de los 2.\n",
        "\n",
        "num_randoms = np.random.rand(10)\n",
        "print(num_randoms)"
      ],
      "metadata": {
        "colab": {
          "base_uri": "https://localhost:8080/"
        },
        "id": "37G6ecJlh99r",
        "outputId": "82a8ad5d-d721-43b6-c237-3617ea9b70df"
      },
      "execution_count": 8,
      "outputs": [
        {
          "output_type": "stream",
          "name": "stdout",
          "text": [
            "[0.71768542 0.98273936 0.75901579 0.29053598 0.50436071 0.88757603\n",
            " 0.20367576 0.702631   0.30743544 0.29883213]\n"
          ]
        }
      ]
    },
    {
      "cell_type": "markdown",
      "source": [
        "## Ejercicio 67\n",
        "\n",
        "Write a NumPy program to make an array immutable (read-only)"
      ],
      "metadata": {
        "id": "EBjLptR9ibuV"
      }
    },
    {
      "cell_type": "code",
      "source": [
        "# Creamos un array que despues haremos que solo pueda ser leido y no modificado\n",
        "\n",
        "array_immutable = np.random.randint(0, 20, size = 20)\n",
        "\n",
        "print(array_immutable, \"\\n\")\n",
        "\n",
        "# Ahora convertimos el array en Immutable\n",
        "\n",
        "array_immutable.flags.writeable = False\n",
        "\n",
        "# Probamos que no se puede sobrescribir\n",
        "\n",
        "array_immutable[0] = 20"
      ],
      "metadata": {
        "colab": {
          "base_uri": "https://localhost:8080/",
          "height": 235
        },
        "id": "i0DaHKoepGDw",
        "outputId": "4cfc47a5-8b4c-45a8-dd62-916c587723f3"
      },
      "execution_count": 9,
      "outputs": [
        {
          "output_type": "stream",
          "name": "stdout",
          "text": [
            "[19  4 13  7  1  0  8  0 12  3  9 13  9  3  3  5 12 13  6 17] \n",
            "\n"
          ]
        },
        {
          "output_type": "error",
          "ename": "ValueError",
          "evalue": "ignored",
          "traceback": [
            "\u001b[0;31m---------------------------------------------------------------------------\u001b[0m",
            "\u001b[0;31mValueError\u001b[0m                                Traceback (most recent call last)",
            "\u001b[0;32m<ipython-input-9-fcd4875d5494>\u001b[0m in \u001b[0;36m<module>\u001b[0;34m\u001b[0m\n\u001b[1;32m     11\u001b[0m \u001b[0;31m# Probamos que no se puede sobrescribir\u001b[0m\u001b[0;34m\u001b[0m\u001b[0;34m\u001b[0m\u001b[0;34m\u001b[0m\u001b[0m\n\u001b[1;32m     12\u001b[0m \u001b[0;34m\u001b[0m\u001b[0m\n\u001b[0;32m---> 13\u001b[0;31m \u001b[0marray_immutable\u001b[0m\u001b[0;34m[\u001b[0m\u001b[0;36m0\u001b[0m\u001b[0;34m]\u001b[0m \u001b[0;34m=\u001b[0m \u001b[0;36m20\u001b[0m\u001b[0;34m\u001b[0m\u001b[0;34m\u001b[0m\u001b[0m\n\u001b[0m",
            "\u001b[0;31mValueError\u001b[0m: assignment destination is read-only"
          ]
        }
      ]
    },
    {
      "cell_type": "markdown",
      "source": [
        "## Ejecicio 68\n",
        "\n",
        "Write a NumPy program (using NumPy) to sum of all the multiples of 3 or 5 below 100"
      ],
      "metadata": {
        "id": "DJ-8gbXNqVrg"
      }
    },
    {
      "cell_type": "code",
      "source": [
        "# Creamos un array \n",
        "\n",
        "my_array = np.arange(0, 100)\n",
        "\n",
        "# Sacamos los multiplos de 3 y de 5\n",
        "\n",
        "multiply_array = my_array[(my_array % 3 == 0) | (my_array % 5 == 0)]\n",
        "\n",
        "print(multiply_array.sum())"
      ],
      "metadata": {
        "colab": {
          "base_uri": "https://localhost:8080/"
        },
        "id": "jGBRXspIX3Aa",
        "outputId": "a0fb8f48-3728-4b5d-b132-7592efc79ba7"
      },
      "execution_count": 10,
      "outputs": [
        {
          "output_type": "stream",
          "name": "stdout",
          "text": [
            "2318\n"
          ]
        }
      ]
    },
    {
      "cell_type": "markdown",
      "source": [
        "## Ejercicio 69\n",
        "\n",
        "Write a NumPy program to create an array with 10^3 elements."
      ],
      "metadata": {
        "id": "RazRdiC2doqG"
      }
    },
    {
      "cell_type": "code",
      "source": [
        "# Creamos el array\n",
        "\n",
        "array_2 = np.arange(0, 10)\n",
        "\n",
        "print(array_2, \"\\n\")\n",
        "\n",
        "# A continuación lo elevamos a al cubo ^ 3\n",
        "\n",
        "array_power = np.power(array_2, 3)\n",
        "\n",
        "print(array_power)"
      ],
      "metadata": {
        "colab": {
          "base_uri": "https://localhost:8080/"
        },
        "id": "n0NLnK5Cfcnl",
        "outputId": "9e739e76-7a64-4565-a3ae-71e7c06aa102"
      },
      "execution_count": 11,
      "outputs": [
        {
          "output_type": "stream",
          "name": "stdout",
          "text": [
            "[0 1 2 3 4 5 6 7 8 9] \n",
            "\n",
            "[  0   1   8  27  64 125 216 343 512 729]\n"
          ]
        }
      ]
    },
    {
      "cell_type": "markdown",
      "source": [
        "## Ejercicio 70\n",
        "\n",
        "Write a NumPy program to create display every element of a NumPy array"
      ],
      "metadata": {
        "id": "9WzHeU4Lg50p"
      }
    },
    {
      "cell_type": "code",
      "source": [
        "# Creamos el array\n",
        "\n",
        "my_array = np.random.randint(0, 1000, size = 20).reshape(5, 4)\n",
        "\n",
        "print(my_array, '\\n')\n",
        "\n",
        "# Ahora mostramos cada numero dentro del array\n",
        "\n",
        "for number in np.nditer(my_array):\n",
        "    print(number, end = ' ')"
      ],
      "metadata": {
        "id": "W64g342fhd9x",
        "colab": {
          "base_uri": "https://localhost:8080/"
        },
        "outputId": "b9e65c7a-6430-41d8-bb51-def584d2bd7d"
      },
      "execution_count": 12,
      "outputs": [
        {
          "output_type": "stream",
          "name": "stdout",
          "text": [
            "[[588 459 597  53]\n",
            " [650 532 964 461]\n",
            " [789 250  25 216]\n",
            " [974 326 536 707]\n",
            " [951 584 777 865]] \n",
            "\n",
            "588 459 597 53 650 532 964 461 789 250 25 216 974 326 536 707 951 584 777 865 "
          ]
        }
      ]
    },
    {
      "cell_type": "markdown",
      "source": [
        "## Ejercicio 71\n",
        "\n",
        "Write a NumPy program to create and display every element of a NumPy array in Fortran order\n",
        "\n"
      ],
      "metadata": {
        "id": "itzxUGYiiRwi"
      }
    },
    {
      "cell_type": "code",
      "source": [
        "# Creamos un array \n",
        "\n",
        "disorder_array = np.random.randint(0, 100, size = 20).reshape(5, 4)\n",
        "\n",
        "print(disorder_array, '\\n')\n",
        "\n",
        "# El orden/array de Fortran es un caso especial en el que todos los elementos de un array se almacenan en orden columna-mayor.\n",
        "\n",
        "for number in np.nditer(disorder_array, order = \"F\"):\n",
        "    print(number, end = ' ')"
      ],
      "metadata": {
        "id": "atGqMnagiUQW",
        "colab": {
          "base_uri": "https://localhost:8080/"
        },
        "outputId": "fb8c7559-aa64-4ef9-bed2-555fd0982105"
      },
      "execution_count": 13,
      "outputs": [
        {
          "output_type": "stream",
          "name": "stdout",
          "text": [
            "[[29 72 44 84]\n",
            " [85  8 12 69]\n",
            " [44 36 99 96]\n",
            " [90 45 74 21]\n",
            " [80 11 58 35]] \n",
            "\n",
            "29 85 44 90 80 72 8 36 45 11 44 12 99 74 58 84 69 96 21 35 "
          ]
        }
      ]
    },
    {
      "cell_type": "markdown",
      "source": [
        "## Ejercicio 72\n",
        "\n",
        "Write a NumPy program to create a 5x5x5 cube of 1's"
      ],
      "metadata": {
        "id": "evKlMvgbiXSp"
      }
    },
    {
      "cell_type": "code",
      "source": [
        "# Creamos un cubo de 5x5x5\n",
        "\n",
        "cube_five = np.ones((5, 5, 5))\n",
        "\n",
        "print(cube_five)"
      ],
      "metadata": {
        "id": "hk68FLE6iY6g",
        "colab": {
          "base_uri": "https://localhost:8080/"
        },
        "outputId": "37afdc02-8019-483d-dae6-dcca4e6255dd"
      },
      "execution_count": 14,
      "outputs": [
        {
          "output_type": "stream",
          "name": "stdout",
          "text": [
            "[[[1. 1. 1. 1. 1.]\n",
            "  [1. 1. 1. 1. 1.]\n",
            "  [1. 1. 1. 1. 1.]\n",
            "  [1. 1. 1. 1. 1.]\n",
            "  [1. 1. 1. 1. 1.]]\n",
            "\n",
            " [[1. 1. 1. 1. 1.]\n",
            "  [1. 1. 1. 1. 1.]\n",
            "  [1. 1. 1. 1. 1.]\n",
            "  [1. 1. 1. 1. 1.]\n",
            "  [1. 1. 1. 1. 1.]]\n",
            "\n",
            " [[1. 1. 1. 1. 1.]\n",
            "  [1. 1. 1. 1. 1.]\n",
            "  [1. 1. 1. 1. 1.]\n",
            "  [1. 1. 1. 1. 1.]\n",
            "  [1. 1. 1. 1. 1.]]\n",
            "\n",
            " [[1. 1. 1. 1. 1.]\n",
            "  [1. 1. 1. 1. 1.]\n",
            "  [1. 1. 1. 1. 1.]\n",
            "  [1. 1. 1. 1. 1.]\n",
            "  [1. 1. 1. 1. 1.]]\n",
            "\n",
            " [[1. 1. 1. 1. 1.]\n",
            "  [1. 1. 1. 1. 1.]\n",
            "  [1. 1. 1. 1. 1.]\n",
            "  [1. 1. 1. 1. 1.]\n",
            "  [1. 1. 1. 1. 1.]]]\n"
          ]
        }
      ]
    },
    {
      "cell_type": "markdown",
      "source": [
        "## Ejercicio 73\n",
        "\n",
        "Write a NumPy program to create an array of (3, 4) shape, multiply every element value by 3 and display the new array. "
      ],
      "metadata": {
        "id": "gaGHuWVNiZwr"
      }
    },
    {
      "cell_type": "code",
      "source": [
        "# Creamos el array\n",
        "\n",
        "nuevo_array = np.arange(0, 12).reshape(3, 4)\n",
        "\n",
        "print(nuevo_array, \"\\n\")\n",
        "\n",
        "multiply_3 = np.multiply(nuevo_array, 3)\n",
        "\n",
        "print(multiply_3)"
      ],
      "metadata": {
        "colab": {
          "base_uri": "https://localhost:8080/"
        },
        "id": "I8mwV4yKibU8",
        "outputId": "c5c3925b-673b-4382-aa65-648b0b52b1ab"
      },
      "execution_count": 15,
      "outputs": [
        {
          "output_type": "stream",
          "name": "stdout",
          "text": [
            "[[ 0  1  2  3]\n",
            " [ 4  5  6  7]\n",
            " [ 8  9 10 11]] \n",
            "\n",
            "[[ 0  3  6  9]\n",
            " [12 15 18 21]\n",
            " [24 27 30 33]]\n"
          ]
        }
      ]
    },
    {
      "cell_type": "markdown",
      "source": [
        "## Ejercico 74\n",
        "\n",
        "Write a NumPy program to combine a one and a two dimensional array together and display their elements"
      ],
      "metadata": {
        "id": "suJtVWJJib46"
      }
    },
    {
      "cell_type": "code",
      "source": [
        "# Creamos 2 array, uno de 1 dimensión y otro de 2\n",
        "\n",
        "array_1D = np.arange(0, 5)\n",
        "\n",
        "array_2D = np.array([np.random.randint(0, 100, size = 5), np.arange(10, 15)])\n",
        "\n",
        "print(array_1D, \"\\n\")\n",
        "print(array_2D, \"\\n\")\n",
        "\n",
        "# Ahora unimos el array 1D con el array 2D\n",
        "\n",
        "union_array = np.union1d(array_1D, array_2D)\n",
        "\n",
        "print(union_array)"
      ],
      "metadata": {
        "colab": {
          "base_uri": "https://localhost:8080/"
        },
        "id": "ULJcSms3idth",
        "outputId": "cbc5eee5-093c-4d33-9c4c-cb7e24013614"
      },
      "execution_count": 16,
      "outputs": [
        {
          "output_type": "stream",
          "name": "stdout",
          "text": [
            "[0 1 2 3 4] \n",
            "\n",
            "[[61 40 18 40  3]\n",
            " [10 11 12 13 14]] \n",
            "\n",
            "[ 0  1  2  3  4 10 11 12 13 14 18 40 61]\n"
          ]
        }
      ]
    },
    {
      "cell_type": "markdown",
      "source": [
        "## Ejercicio 75\n",
        "\n",
        "Write a NumPy program to create an array of zeros and three column types (integer, float, character)"
      ],
      "metadata": {
        "id": "3cLHAb_Iiear"
      }
    },
    {
      "cell_type": "code",
      "source": [
        "# Creamos el array de ceros\n",
        "\n",
        "zero_array = np.zeros((3), dtype=('i4,f4,a40'))\n",
        "\n",
        "# Creamos una lista con 3 tipos de datos\n",
        "\n",
        "three_distin_list = [(1, 2., \"Albert Einstein\"), (2, 2., \"Edmond Halley\"), (3, 3., \"Gertrude B. Elion\")]\n",
        "\n",
        "# Ahora sustituimos el contenido de zero_array por los datos de la lista\n",
        "\n",
        "zero_array[:] = three_distin_list\n",
        "\n",
        "print(zero_array)"
      ],
      "metadata": {
        "id": "lkBIcEQ2ihXH",
        "colab": {
          "base_uri": "https://localhost:8080/"
        },
        "outputId": "26834845-ba43-4f0e-8045-6db24f1364ba"
      },
      "execution_count": 25,
      "outputs": [
        {
          "output_type": "stream",
          "name": "stdout",
          "text": [
            "[(1, 2., b'Albert Einstein') (2, 2., b'Edmond Halley')\n",
            " (3, 3., b'Gertrude B. Elion')]\n"
          ]
        }
      ]
    },
    {
      "cell_type": "markdown",
      "source": [
        "## Ejercicio 76\n",
        "\n",
        " Write a NumPy program to create a function cube which cubes all the elements of an array"
      ],
      "metadata": {
        "id": "2dXABFxiih_M"
      }
    },
    {
      "cell_type": "code",
      "source": [
        "# Creamos un array\n",
        "\n",
        "elevate_array = np.array([2, 4, 6, 8])\n",
        "\n",
        "# Ahora hacemos la operación para elevarlos al cubo\n",
        "\n",
        "elevate_array_result = np.power(elevate_array, 3)\n",
        "\n",
        "print(elevate_array_result)"
      ],
      "metadata": {
        "id": "fR9z3uBsimJE",
        "colab": {
          "base_uri": "https://localhost:8080/"
        },
        "outputId": "7d80e5a2-2740-4101-afef-49009e4b1c71"
      },
      "execution_count": 27,
      "outputs": [
        {
          "output_type": "stream",
          "name": "stdout",
          "text": [
            "[  8  64 216 512]\n"
          ]
        }
      ]
    },
    {
      "cell_type": "markdown",
      "source": [
        "## Ejercicio 77\n",
        "\n",
        "Write a NumPy program to create an array of (3, 4) shape and convert the array elements in smaller chunks."
      ],
      "metadata": {
        "id": "n15B1Wn0imdM"
      }
    },
    {
      "cell_type": "code",
      "source": [
        "# Creamos el array de 3 x 4\n",
        "\n",
        "array_matrix = np.array([[0, 1, 2, 3], [5, 6, 7, 8], [9, 10, 11, 12]])\n",
        "\n",
        "print(array_matrix, '\\n')\n",
        "\n",
        "# Ahora lo volcamos como si levantasemos una L\n",
        "\n",
        "for number in np.nditer(array_matrix, flags=['external_loop'], order='F'):\n",
        "  print(number)"
      ],
      "metadata": {
        "id": "3hRNdGFuin9j",
        "colab": {
          "base_uri": "https://localhost:8080/"
        },
        "outputId": "21b6c1a5-8313-47fa-8310-b40bdde5c419"
      },
      "execution_count": 28,
      "outputs": [
        {
          "output_type": "stream",
          "name": "stdout",
          "text": [
            "[[ 0  1  2  3]\n",
            " [ 5  6  7  8]\n",
            " [ 9 10 11 12]] \n",
            "\n",
            "[0 5 9]\n",
            "[ 1  6 10]\n",
            "[ 2  7 11]\n",
            "[ 3  8 12]\n"
          ]
        }
      ]
    },
    {
      "cell_type": "markdown",
      "source": [
        "## Ejercicio 78\n",
        "\n",
        "Write a NumPy program to create a record array from a (flat) list of arrays"
      ],
      "metadata": {
        "id": "Wl4R4_4Fioqg"
      }
    },
    {
      "cell_type": "code",
      "source": [
        "# Creamos varios array\n",
        "\n",
        "array_1 = np.array([1, 2, 3, 4])\n",
        "array_2 = np.array(['Juan', 'Angel', 'Miguel', 'Elena'])\n",
        "array_3 = np.array([70., 80., 78., 60.])\n",
        "\n",
        "# Ahora combinamos los arrays\n",
        "\n",
        "combinacion = np.core.records.fromarrays([array_1, array_2, array_3], names = ('index', 'nombre', 'peso'))\n",
        "\n",
        "print(combinacion)"
      ],
      "metadata": {
        "id": "uGNYGHTaiqUz",
        "colab": {
          "base_uri": "https://localhost:8080/"
        },
        "outputId": "599d9d97-a2b4-4db3-9be4-db9e0c04ec34"
      },
      "execution_count": 24,
      "outputs": [
        {
          "output_type": "stream",
          "name": "stdout",
          "text": [
            "[(1, 'Juan', 70.) (2, 'Angel', 80.) (3, 'Miguel', 78.) (4, 'Elena', 60.)]\n"
          ]
        }
      ]
    },
    {
      "cell_type": "markdown",
      "source": [
        "## Ejercicio 79\n",
        "\n",
        "Write a NumPy program to generate a generic 2D Gaussian-like array"
      ],
      "metadata": {
        "id": "xmoPSXukirCm"
      }
    },
    {
      "cell_type": "code",
      "source": [
        "# !Repasar este concepto\n",
        "# Creamos los arrays \n",
        "\n",
        "x, y = np.meshgrid(np.linspace(-1,1,10), np.linspace(-1,1,10))\n",
        "\n",
        "d = np.sqrt(x * x + y * y)\n",
        "\n",
        "sigma, mu = 1.0, 0.0\n",
        "\n",
        "g = np.exp(-( (d - mu) ** 2 / ( 2.0 * sigma ** 2 ) ) )\n",
        "\n",
        "print(g)"
      ],
      "metadata": {
        "id": "r12ebDfbitXi",
        "colab": {
          "base_uri": "https://localhost:8080/"
        },
        "outputId": "3b685d9b-c18a-4e61-eae6-6cce92572ca1"
      },
      "execution_count": 18,
      "outputs": [
        {
          "output_type": "stream",
          "name": "stdout",
          "text": [
            "[[0.36787944 0.44822088 0.51979489 0.57375342 0.60279818 0.60279818\n",
            "  0.57375342 0.51979489 0.44822088 0.36787944]\n",
            " [0.44822088 0.54610814 0.63331324 0.69905581 0.73444367 0.73444367\n",
            "  0.69905581 0.63331324 0.54610814 0.44822088]\n",
            " [0.51979489 0.63331324 0.73444367 0.81068432 0.85172308 0.85172308\n",
            "  0.81068432 0.73444367 0.63331324 0.51979489]\n",
            " [0.57375342 0.69905581 0.81068432 0.89483932 0.9401382  0.9401382\n",
            "  0.89483932 0.81068432 0.69905581 0.57375342]\n",
            " [0.60279818 0.73444367 0.85172308 0.9401382  0.98773022 0.98773022\n",
            "  0.9401382  0.85172308 0.73444367 0.60279818]\n",
            " [0.60279818 0.73444367 0.85172308 0.9401382  0.98773022 0.98773022\n",
            "  0.9401382  0.85172308 0.73444367 0.60279818]\n",
            " [0.57375342 0.69905581 0.81068432 0.89483932 0.9401382  0.9401382\n",
            "  0.89483932 0.81068432 0.69905581 0.57375342]\n",
            " [0.51979489 0.63331324 0.73444367 0.81068432 0.85172308 0.85172308\n",
            "  0.81068432 0.73444367 0.63331324 0.51979489]\n",
            " [0.44822088 0.54610814 0.63331324 0.69905581 0.73444367 0.73444367\n",
            "  0.69905581 0.63331324 0.54610814 0.44822088]\n",
            " [0.36787944 0.44822088 0.51979489 0.57375342 0.60279818 0.60279818\n",
            "  0.57375342 0.51979489 0.44822088 0.36787944]]\n"
          ]
        }
      ]
    },
    {
      "cell_type": "markdown",
      "source": [
        "## Ejercicio 80\n",
        "\n",
        "Write a NumPy program to convert a NumPy array into Python list structure."
      ],
      "metadata": {
        "id": "2KZF6Xm7iuEV"
      }
    },
    {
      "cell_type": "code",
      "source": [
        "# Creamos el array\n",
        "\n",
        "new_array = np.random.randint(0, 100, size = 10, dtype = np.int16)\n",
        "\n",
        "print(new_array)"
      ],
      "metadata": {
        "colab": {
          "base_uri": "https://localhost:8080/"
        },
        "id": "Qu3LcdFVivk6",
        "outputId": "cbdea1d9-3e21-4469-e866-d39b450636b1"
      },
      "execution_count": null,
      "outputs": [
        {
          "output_type": "stream",
          "name": "stdout",
          "text": [
            "[29 95 83 98 24 21 53 62 97 23]\n"
          ]
        }
      ]
    },
    {
      "cell_type": "code",
      "source": [
        "# Ahora pasamos el array a lista\n",
        "\n",
        "new_list = new_array.tolist()\n",
        "\n",
        "print(new_list, \"\\n\")\n",
        "print(type(new_list))"
      ],
      "metadata": {
        "colab": {
          "base_uri": "https://localhost:8080/"
        },
        "id": "bXhSI8F33_BV",
        "outputId": "0d6bcf5f-f2cb-4d5a-a715-fa4c8d33975d"
      },
      "execution_count": null,
      "outputs": [
        {
          "output_type": "stream",
          "name": "stdout",
          "text": [
            "[29, 95, 83, 98, 24, 21, 53, 62, 97, 23] \n",
            "\n",
            "<class 'list'>\n"
          ]
        }
      ]
    },
    {
      "cell_type": "markdown",
      "source": [
        "## Ejercicio 81\n",
        "\n",
        "Write a NumPy program to access an array by column"
      ],
      "metadata": {
        "id": "zRQgocn_iv-6"
      }
    },
    {
      "cell_type": "code",
      "source": [
        "# Creamos el array y filtramos por columnas\n",
        "\n",
        "array_access = np.array([[2, 3, 4, 5], [8, 9, 10, 11], [12, 13, 14, 15]])\n",
        "\n",
        "print(array_access[:,0])\n",
        "print(array_access[:,1])\n",
        "print(array_access[:,2])\n",
        "print(array_access[:,3])"
      ],
      "metadata": {
        "colab": {
          "base_uri": "https://localhost:8080/"
        },
        "id": "L0Gub8Svi0y5",
        "outputId": "9441c577-3da2-427c-ec58-c683469bf792"
      },
      "execution_count": null,
      "outputs": [
        {
          "output_type": "stream",
          "name": "stdout",
          "text": [
            "[ 2  8 12]\n",
            "[ 3  9 13]\n",
            "[ 4 10 14]\n",
            "[ 5 11 15]\n"
          ]
        }
      ]
    },
    {
      "cell_type": "markdown",
      "source": [
        "## Ejercicio 82\n",
        "\n",
        "Write a NumPy program to convert a NumPy array of float values to a NumPy array of integer values"
      ],
      "metadata": {
        "id": "xAWKtayDixYF"
      }
    },
    {
      "cell_type": "code",
      "source": [
        "# Creamos un array con flotantes\n",
        "\n",
        "array_float = np.array([1, 2, 3, 4], dtype = np.float16)\n",
        "\n",
        "print(array_float, '\\n')\n",
        "\n",
        "# A continuación le cambiamos el tipo de dato a int (entero)\n",
        "\n",
        "array_convert = array_float.astype(int)\n",
        "\n",
        "print(array_convert)"
      ],
      "metadata": {
        "colab": {
          "base_uri": "https://localhost:8080/"
        },
        "id": "TXCqZ1KBi15X",
        "outputId": "2b3a2de4-165e-40e5-e115-84a91b096c46"
      },
      "execution_count": null,
      "outputs": [
        {
          "output_type": "stream",
          "name": "stdout",
          "text": [
            "[1. 2. 3. 4.] \n",
            "\n",
            "[1 2 3 4]\n"
          ]
        }
      ]
    },
    {
      "cell_type": "markdown",
      "source": [
        "## Ejercicio 83\n",
        "\n",
        "Write a NumPy program to display NumPy array elements of floating values with given precision."
      ],
      "metadata": {
        "id": "cvkrAuUTi2ia"
      }
    },
    {
      "cell_type": "code",
      "source": [
        "# Creamos un arra de entre 0 a 1\n",
        "\n",
        "array_random = np.random.rand(10)\n",
        "\n",
        "print(array_random, '\\n')"
      ],
      "metadata": {
        "colab": {
          "base_uri": "https://localhost:8080/"
        },
        "id": "YEGcZeBei33c",
        "outputId": "ba176c0b-d4fd-4a42-849d-0ec5450dc888"
      },
      "execution_count": null,
      "outputs": [
        {
          "output_type": "stream",
          "name": "stdout",
          "text": [
            "[0.7  0.86 0.36 0.82 0.65 0.96 0.13 0.88 0.7  0.92] \n",
            "\n"
          ]
        }
      ]
    },
    {
      "cell_type": "code",
      "source": [
        "# Ahora ajustamos la preción de los decimales, por ejemplo a 1\n",
        "\n",
        "np.set_printoptions(precision = 1)\n",
        "\n",
        "print(array_random)"
      ],
      "metadata": {
        "colab": {
          "base_uri": "https://localhost:8080/"
        },
        "id": "1_L2SoqrAdKl",
        "outputId": "63fbc5c7-b213-45c6-9f50-14ac13f51e22"
      },
      "execution_count": null,
      "outputs": [
        {
          "output_type": "stream",
          "name": "stdout",
          "text": [
            "[0.7 0.9 0.4 0.8 0.6 1.  0.1 0.9 0.7 0.9]\n"
          ]
        }
      ]
    },
    {
      "cell_type": "markdown",
      "source": [
        "## Ejercicio 84\n",
        "\n",
        "Write a NumPy program to suppresses the use of scientific notation for small numbers in NumPy array."
      ],
      "metadata": {
        "id": "LUDNoiZDi4Qj"
      }
    },
    {
      "cell_type": "code",
      "source": [
        "# Creamos un array con numeros cientificos\n",
        "\n",
        "array_supress = np.array([1.8e-10, 1.586, 150.45, 0.2855])\n",
        "\n",
        "# Ahora pasamos los numeros cientificos a numeros normales\n",
        "\n",
        "np.set_printoptions(precision = 2, suppress = True)\n",
        "\n",
        "print(array_supress)"
      ],
      "metadata": {
        "id": "jgvRqJeEi5Tx",
        "colab": {
          "base_uri": "https://localhost:8080/"
        },
        "outputId": "7675fd0d-ca72-466b-e275-4e96e5b6c1c4"
      },
      "execution_count": null,
      "outputs": [
        {
          "output_type": "stream",
          "name": "stdout",
          "text": [
            "[  0.     1.59 150.45   0.29]\n"
          ]
        }
      ]
    },
    {
      "cell_type": "markdown",
      "source": [
        "## Ejercicio 85\n",
        "\n",
        "Write a NumPy program to create a NumPy array of 10 integers from a generator."
      ],
      "metadata": {
        "id": "G_9_p-i6i5sh"
      }
    },
    {
      "cell_type": "code",
      "source": [
        "# Creamos un array de 10 enteros\n",
        "\n",
        "array_gen_int = np.random.randint(0, 100, size = 10)\n",
        "\n",
        "print(array_gen_int)"
      ],
      "metadata": {
        "colab": {
          "base_uri": "https://localhost:8080/"
        },
        "id": "-P-jfBjOi7C6",
        "outputId": "bd0957e7-4658-4889-9942-c64d26b1a128"
      },
      "execution_count": null,
      "outputs": [
        {
          "output_type": "stream",
          "name": "stdout",
          "text": [
            "[36  3 55 20 76 36 43 34 92 60]\n"
          ]
        }
      ]
    },
    {
      "cell_type": "markdown",
      "source": [
        "## Ejercicio 86\n",
        "\n",
        "Write a NumPy program to add an extra column to a NumPy array."
      ],
      "metadata": {
        "id": "kS6FfSfXi7vP"
      }
    },
    {
      "cell_type": "code",
      "source": [
        "# Creamos un array\n",
        "\n",
        "extra_array = np.arange(0, 10, dtype = np.int8).reshape(5, 2)\n",
        "\n",
        "print(extra_array)\n",
        "\n",
        "# Ahora agregamos una nueva columna\n",
        "\n",
        "add_colum_array = np.append(extra_array, [[5], [2], [3], [4], [1]], axis = 1)\n",
        "\n",
        "print(add_colum_array)"
      ],
      "metadata": {
        "id": "D_GqNaSAi9Le",
        "colab": {
          "base_uri": "https://localhost:8080/"
        },
        "outputId": "083f1aa9-c7f2-4a91-f7e4-e71e6acd8d38"
      },
      "execution_count": null,
      "outputs": [
        {
          "output_type": "stream",
          "name": "stdout",
          "text": [
            "[[0 1]\n",
            " [2 3]\n",
            " [4 5]\n",
            " [6 7]\n",
            " [8 9]]\n",
            "[[0 1 5]\n",
            " [2 3 2]\n",
            " [4 5 3]\n",
            " [6 7 4]\n",
            " [8 9 1]]\n"
          ]
        }
      ]
    },
    {
      "cell_type": "markdown",
      "source": [
        "## Ejercicio 87\n",
        "\n",
        "Write a NumPy program to find unique rows in a NumPy array"
      ],
      "metadata": {
        "id": "gWeJ3-XVi94W"
      }
    },
    {
      "cell_type": "code",
      "source": [
        "# Creamos el array\n",
        "\n",
        "find_array = np.array([[20, 20, 20, 0],\n",
        "                      [0, 20, 20, 20],\n",
        "                      [0, 20, 20, 20],\n",
        "                      [20, 20, 20, 0],\n",
        "                      [10, 20, 20,20]])\n",
        "\n",
        "# Ahora aplicamos el metodo .unique a las filas para sacar los valores unicos\n",
        "\n",
        "filter = np.unique(find_array, axis = 0)\n",
        "\n",
        "print(filter)"
      ],
      "metadata": {
        "id": "1og54UMki_ye",
        "colab": {
          "base_uri": "https://localhost:8080/"
        },
        "outputId": "cbbfcc7f-0e7b-4a66-fb46-33bf00fc9abb"
      },
      "execution_count": null,
      "outputs": [
        {
          "output_type": "stream",
          "name": "stdout",
          "text": [
            "[[ 0 20 20 20]\n",
            " [10 20 20 20]\n",
            " [20 20 20  0]]\n"
          ]
        }
      ]
    },
    {
      "cell_type": "markdown",
      "source": [
        "## Ejercicio 88\n",
        "\n",
        "Write a NumPy program to replace all elements of NumPy array that are greater than specified array"
      ],
      "metadata": {
        "id": "y0vPztpnjAO5"
      }
    },
    {
      "cell_type": "code",
      "source": [
        "# Creamos un array\n",
        "\n",
        "my_array = np.random.randint(0, 100, size = 20)\n",
        "\n",
        "print(my_array)\n",
        "\n",
        "my_array[(my_array > 70)] = 0\n",
        "\n",
        "print(my_array)\n"
      ],
      "metadata": {
        "id": "aT2Z6ZyEjBfa",
        "colab": {
          "base_uri": "https://localhost:8080/"
        },
        "outputId": "500b14ab-480b-4cac-beb1-9dbdab7357a6"
      },
      "execution_count": null,
      "outputs": [
        {
          "output_type": "stream",
          "name": "stdout",
          "text": [
            "[96 19 78  5 65 15 84 45 29 81 63 85  6 85 37 57 15 93 49 52]\n",
            "[ 0 19  0  5 65 15  0 45 29  0 63  0  6  0 37 57 15  0 49 52]\n"
          ]
        }
      ]
    },
    {
      "cell_type": "markdown",
      "source": [
        "## Ejercicio 89\n",
        "\n",
        "Write a NumPy program to remove specific elements in a NumPy array."
      ],
      "metadata": {
        "id": "vBNo4-K1jB6K"
      }
    },
    {
      "cell_type": "code",
      "source": [
        "# Creamos un array\n",
        "\n",
        "drop_array = np.asarray([2, 3, 4, 5, 6, 7], dtype = np.int8)\n",
        "\n",
        "print(drop_array)\n",
        "\n",
        "# Ahora eliminamos algunos elementos del array, por ejemplo el 4 y el 6\n",
        "\n",
        "new_array = np.delete(drop_array, [2, 4])\n",
        "\n",
        "print(new_array)\n",
        "\n"
      ],
      "metadata": {
        "id": "BsxYrt3sjC-R",
        "colab": {
          "base_uri": "https://localhost:8080/"
        },
        "outputId": "a484b957-1d4a-4d72-d553-50517a339ab2"
      },
      "execution_count": null,
      "outputs": [
        {
          "output_type": "stream",
          "name": "stdout",
          "text": [
            "[2 3 4 5 6 7]\n",
            "[2 3 5 7]\n"
          ]
        }
      ]
    },
    {
      "cell_type": "markdown",
      "source": [
        "## Ejercicio 90\n",
        "\n",
        "Write a NumPy program to replace the negative values in a NumPy array with 0."
      ],
      "metadata": {
        "id": "5oRpikk1jDX1"
      }
    },
    {
      "cell_type": "code",
      "source": [
        "# Creamos un array con negativos\n",
        "\n",
        "array_negative = np.arange(-10, 10)\n",
        "\n",
        "print(array_negative)\n",
        "\n",
        "# Arora reemplazamos los numeros negativos por 0\n",
        "\n",
        "array_negative[array_negative < 0] = 0\n",
        "\n",
        "print(array_negative)"
      ],
      "metadata": {
        "colab": {
          "base_uri": "https://localhost:8080/"
        },
        "id": "NPzYrAlIjFZB",
        "outputId": "12a89d2a-4fb3-491e-e1bb-230586c40d59"
      },
      "execution_count": null,
      "outputs": [
        {
          "output_type": "stream",
          "name": "stdout",
          "text": [
            "[-10  -9  -8  -7  -6  -5  -4  -3  -2  -1   0   1   2   3   4   5   6   7\n",
            "   8   9]\n",
            "[0 0 0 0 0 0 0 0 0 0 0 1 2 3 4 5 6 7 8 9]\n"
          ]
        }
      ]
    },
    {
      "cell_type": "markdown",
      "source": [
        "## Ejercicio 91\n",
        "\n",
        "Write a NumPy program to remove all rows in a NumPy array that contain non-numeric values."
      ],
      "metadata": {
        "id": "9csvDAUHjGPa"
      }
    },
    {
      "cell_type": "code",
      "source": [
        "# Creamos un array con nan (not a number)\n",
        "\n",
        "array_nan = np.array([10, np.nan, 20, 30, np.nan])\n",
        "\n",
        "print(array_nan, '\\n')\n",
        "\n",
        "# Ahora limpiamos los nan de nuestro array\n",
        "\n",
        "clean_nan = array_nan[np.logical_not(np.isnan(array_nan))]\n",
        "\n",
        "print(clean_nan)"
      ],
      "metadata": {
        "colab": {
          "base_uri": "https://localhost:8080/"
        },
        "id": "JrOdjQMvjHh8",
        "outputId": "802dd841-5528-4fb4-ff98-f631144c930e"
      },
      "execution_count": null,
      "outputs": [
        {
          "output_type": "stream",
          "name": "stdout",
          "text": [
            "[10. nan 20. 30. nan] \n",
            "\n",
            "[10. 20. 30.]\n"
          ]
        }
      ]
    },
    {
      "cell_type": "markdown",
      "source": [
        "## Ejercicio 92\n",
        "\n",
        "Write a NumPy program to select indices satisfying multiple conditions in a NumPy array."
      ],
      "metadata": {
        "id": "S9KNFX_AjH5g"
      }
    },
    {
      "cell_type": "code",
      "source": [
        "# Creamos 2 array, 1 con numeros y otro con nombres\n",
        "array_age = np.array([10, 20, 30, 40])\n",
        "\n",
        "array_names = np.array(['Ariel', 'Sofia', 'Jasmin', 'Elena'])\n",
        "\n",
        "# Ahora vamos a sacar a Ariel y a Jasmin, usando como referencia el array de age\n",
        "\n",
        "filter = array_names[(array_age < 20) | (array_age == 30)]\n",
        "\n",
        "print(filter)"
      ],
      "metadata": {
        "id": "NfQw2vXgjI7g",
        "colab": {
          "base_uri": "https://localhost:8080/"
        },
        "outputId": "59ab61ea-74b6-4cb1-d66f-fe8ca82cbdb7"
      },
      "execution_count": null,
      "outputs": [
        {
          "output_type": "stream",
          "name": "stdout",
          "text": [
            "['Ariel' 'Jasmin']\n"
          ]
        }
      ]
    },
    {
      "cell_type": "markdown",
      "source": [
        "## Ejercicio 93\n",
        "\n",
        "Write a NumPy program to get the magnitude of a vector in NumPy."
      ],
      "metadata": {
        "id": "6CX_lPfWjLt9"
      }
    },
    {
      "cell_type": "code",
      "source": [
        "# Creamos el array\n",
        "\n",
        "mag_array = np.array([1, 35, 12, 56, 99])\n",
        "\n",
        "# Ahora sacamos la magnitud del array que acabos de crear, para ello usaremos linalg.norm()\n",
        "\n",
        "cal_mag_array = np.linalg.norm(mag_array)\n",
        "print(cal_mag_array)"
      ],
      "metadata": {
        "id": "XieapltHjNWx",
        "colab": {
          "base_uri": "https://localhost:8080/"
        },
        "outputId": "cae57f35-4a00-461c-e897-f79b4997242c"
      },
      "execution_count": null,
      "outputs": [
        {
          "output_type": "stream",
          "name": "stdout",
          "text": [
            "119.61187232043481\n"
          ]
        }
      ]
    },
    {
      "cell_type": "markdown",
      "source": [
        "## Ejercicio 94\n",
        "\n",
        "Write a NumPy program to count the frequency of unique values in NumPy array"
      ],
      "metadata": {
        "id": "B9jMqeycjNsW"
      }
    },
    {
      "cell_type": "code",
      "source": [
        "# Creamos el array con numeros repetidos\n",
        "\n",
        "array_repeat = np.asarray([1, 1, 2, 2, 3, 3, 5, 6, 6, 7, 8, 9])\n",
        "\n",
        "print(array_repeat,'\\n')\n",
        "\n",
        "# Ahora contamos los repetidos\n",
        "\n",
        "\"\"\"\n",
        "\n",
        "    Con return_counts -> devolvemos un array con el numero de veces que se \n",
        "    repite un numero dentro del array.\n",
        "\n",
        "    Con return_index -> devolvemos un array con el numero de indices que se\n",
        "    quedan en el nuevo array al pasar el metodo .unique.\n",
        "\n",
        "\"\"\"\n",
        "\n",
        "array_repeat_clean = np.unique(array_repeat, return_counts = True, return_index = True)\n",
        "\n",
        "print(array_repeat_clean)"
      ],
      "metadata": {
        "colab": {
          "base_uri": "https://localhost:8080/"
        },
        "id": "7L3-fwQijO3c",
        "outputId": "340a2a3c-fb6b-46c2-ab34-3f68cdbc2040"
      },
      "execution_count": null,
      "outputs": [
        {
          "output_type": "stream",
          "name": "stdout",
          "text": [
            "[1 1 2 2 3 3 5 6 6 7 8 9] \n",
            "\n",
            "(array([1, 2, 3, 5, 6, 7, 8, 9]), array([ 0,  2,  4,  6,  7,  9, 10, 11]), array([2, 2, 2, 1, 2, 1, 1, 1]))\n"
          ]
        }
      ]
    },
    {
      "cell_type": "markdown",
      "source": [
        "## Ejercicio 95\n",
        "\n",
        "Write a NumPy program to check whether the NumPy array is empty or not"
      ],
      "metadata": {
        "id": "kQMueqKQjPVC"
      }
    },
    {
      "cell_type": "code",
      "source": [
        "# Creamos un array vacio y otro con numeros.\n",
        "\n",
        "array_empty = np.asarray([])\n",
        "array_data = np.arange(0, 10, dtype = np.int8)\n",
        "\n",
        "# Ahora comprobamos si los arrays están vacios o no\n",
        "\n",
        "if array_empty.size == 0:\n",
        "  print(\"The array is empty\")\n",
        "if array_data.size != 0:\n",
        "  print(\"The array not empty\")"
      ],
      "metadata": {
        "colab": {
          "base_uri": "https://localhost:8080/"
        },
        "id": "Q7y0RrRUjQuo",
        "outputId": "985b35f3-077e-49dc-c967-3a85fabfe3f5"
      },
      "execution_count": null,
      "outputs": [
        {
          "output_type": "stream",
          "name": "stdout",
          "text": [
            "The array is empty\n",
            "The array not empty\n"
          ]
        }
      ]
    },
    {
      "cell_type": "markdown",
      "source": [
        "## Ejercicio 96\n",
        "\n",
        "Write a NumPy program to divide each row by a vector element"
      ],
      "metadata": {
        "id": "OM3YLh9LjRJP"
      }
    },
    {
      "cell_type": "code",
      "source": [
        "# Creamos los arrays \n",
        "\n",
        "array_normal = np.arange(100, 110)\n",
        "\n",
        "array_divider = np.asarray([2])\n",
        "\n",
        "# Ahora dividimos cada elemento del primer array con array_divider\n",
        "\n",
        "divider_array = array_normal / array_divider[:, None]\n",
        "\n",
        "print(divider_array)"
      ],
      "metadata": {
        "id": "g-XCoV_ejSTi",
        "colab": {
          "base_uri": "https://localhost:8080/"
        },
        "outputId": "9ec53b4f-d8d8-42b7-b51c-abc5c7a52512"
      },
      "execution_count": null,
      "outputs": [
        {
          "output_type": "stream",
          "name": "stdout",
          "text": [
            "[[50.  50.5 51.  51.5 52.  52.5 53.  53.5 54.  54.5]]\n"
          ]
        }
      ]
    },
    {
      "cell_type": "markdown",
      "source": [
        "## Ejercicio 97\n",
        "\n",
        "Write a NumPy program to print all the values of an array"
      ],
      "metadata": {
        "id": "f7im_I7sjS8x"
      }
    },
    {
      "cell_type": "code",
      "source": [
        "# Creamos un array para despues sacar los valores 1 a 1\n",
        "\n",
        "array_97 = np.random.randint(0, 10, size = 10)\n",
        "\n",
        "print(array_97, \"\\n\")\n",
        "\n",
        "# Sacamos los valores del array 1 a 1\n",
        "\n",
        "for number in range(len(array_97)):\n",
        "  print(f\"The number in the position index {number} is {array_97[number]}\")"
      ],
      "metadata": {
        "colab": {
          "base_uri": "https://localhost:8080/"
        },
        "id": "g66WrDXCjUSk",
        "outputId": "a1aeffe8-2084-499e-c8e8-9a93d0bf3d9e"
      },
      "execution_count": null,
      "outputs": [
        {
          "output_type": "stream",
          "name": "stdout",
          "text": [
            "[3 0 1 5 3 3 1 8 2 5] \n",
            "\n",
            "The number in the position index 0 is 3\n",
            "The number in the position index 1 is 0\n",
            "The number in the position index 2 is 1\n",
            "The number in the position index 3 is 5\n",
            "The number in the position index 4 is 3\n",
            "The number in the position index 5 is 3\n",
            "The number in the position index 6 is 1\n",
            "The number in the position index 7 is 8\n",
            "The number in the position index 8 is 2\n",
            "The number in the position index 9 is 5\n"
          ]
        }
      ]
    },
    {
      "cell_type": "markdown",
      "source": [
        "## Ejercicio 98\n",
        "\n",
        "Write a NumPy program to convert the raw data in an array to a binary string and then create an array"
      ],
      "metadata": {
        "id": "Ie_YquU8jUsk"
      }
    },
    {
      "cell_type": "code",
      "source": [
        "# Creamos un array para pasarlo a binario despues\n",
        "\n",
        "new_array = np.arange(0, 10, dtype = np.int8)\n",
        "\n",
        "print(new_array, '\\n')\n",
        "\n",
        "# Pasamos el array a binario\n",
        "\n",
        "new_binary_array = new_array.tobytes()\n",
        "\n",
        "print(new_binary_array, '\\n')\n",
        "\n",
        "# Y ahora lo reconvertimos de binario a array\n",
        "\n",
        "\"\"\"\n",
        "\n",
        "    !Ojo de nuevo con .frombuffer, para que no de error hay que indicarle el\n",
        "    argumento de dtype, para indicarle que tipo de salida queremos en los datos\n",
        "    si int, float, bool, string...\n",
        "\n",
        "\"\"\"\n",
        "\n",
        "extract_binary_array = np.frombuffer(new_binary_array, dtype = np.int8)\n",
        "\n",
        "print(extract_binary_array)"
      ],
      "metadata": {
        "colab": {
          "base_uri": "https://localhost:8080/"
        },
        "id": "P-8Y8LvjjV4F",
        "outputId": "3e4db444-e0b9-4060-ab90-d811a19c304b"
      },
      "execution_count": null,
      "outputs": [
        {
          "output_type": "stream",
          "name": "stdout",
          "text": [
            "[0 1 2 3 4 5 6 7 8 9] \n",
            "\n",
            "b'\\x00\\x01\\x02\\x03\\x04\\x05\\x06\\x07\\x08\\t' \n",
            "\n",
            "[0 1 2 3 4 5 6 7 8 9]\n"
          ]
        }
      ]
    },
    {
      "cell_type": "markdown",
      "source": [
        "## Ejercicio 99\n",
        "\n",
        "Write a NumPy program to sum and compute the product of a NumPy array elements."
      ],
      "metadata": {
        "id": "GE4p1QKUjWTv"
      }
    },
    {
      "cell_type": "code",
      "source": [
        "# Creamos un array \n",
        "\n",
        "array_calculate = np.random.randint(0, 100, size = 10, dtype = np.int16)\n",
        "\n",
        "print(array_calculate, '\\n')\n",
        "\n",
        "# Ahora hacemos la suma de todos los numeros\n",
        "\n",
        "sumatorio = array_calculate.sum()\n",
        "\n",
        "print(sumatorio, '\\n')\n",
        "\n",
        "product = array_calculate.cumsum()\n",
        "\n",
        "print(product.sum())"
      ],
      "metadata": {
        "colab": {
          "base_uri": "https://localhost:8080/"
        },
        "id": "1i1kok1ljXeO",
        "outputId": "35f82c70-f880-42e3-a6fb-7003aa1acbc4"
      },
      "execution_count": null,
      "outputs": [
        {
          "output_type": "stream",
          "name": "stdout",
          "text": [
            "[70 46 44 39 71 10 86 86 30 21] \n",
            "\n",
            "503 \n",
            "\n",
            "2898\n"
          ]
        }
      ]
    },
    {
      "cell_type": "markdown",
      "source": [
        "## Ejercicio 100\n",
        "\n",
        "Write a NumPy program to take values from a source array and put them at specified indices of another array."
      ],
      "metadata": {
        "id": "LGGcuxZPjYSH"
      }
    },
    {
      "cell_type": "code",
      "source": [
        "# Creamos el array\n",
        "\n",
        "array_100 = np.asarray([ 10., 10., 20., 30., 30.])\n",
        "\n",
        "print(array_100)\n",
        "\n",
        "# Ahora sustituimos el index 0 y el index ultimo por 0 y 40\n",
        "\n",
        "array_100[0] = 0\n",
        "array_100[-1] = 40\n",
        "\n",
        "print(array_100)\n"
      ],
      "metadata": {
        "colab": {
          "base_uri": "https://localhost:8080/"
        },
        "id": "jBu--Fm_jaAy",
        "outputId": "95517d7b-15d1-4fb3-dfb2-77f0e9d864e9"
      },
      "execution_count": null,
      "outputs": [
        {
          "output_type": "stream",
          "name": "stdout",
          "text": [
            "[10. 10. 20. 30. 30.]\n",
            "[ 0. 10. 20. 30. 40.]\n"
          ]
        }
      ]
    }
  ]
}