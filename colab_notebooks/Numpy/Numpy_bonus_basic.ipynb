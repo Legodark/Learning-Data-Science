{
  "nbformat": 4,
  "nbformat_minor": 0,
  "metadata": {
    "colab": {
      "provenance": [],
      "collapsed_sections": [],
      "authorship_tag": "ABX9TyNqo0e+bpIFhd2HVV82hIMz",
      "include_colab_link": true
    },
    "kernelspec": {
      "name": "python3",
      "display_name": "Python 3"
    },
    "language_info": {
      "name": "python"
    }
  },
  "cells": [
    {
      "cell_type": "markdown",
      "metadata": {
        "id": "view-in-github",
        "colab_type": "text"
      },
      "source": [
        "<a href=\"https://colab.research.google.com/github/Legodark/Learning-Data-Science/blob/import_colab/colab_notebooks/Numpy/Numpy_bonus_basic.ipynb\" target=\"_parent\"><img src=\"https://colab.research.google.com/assets/colab-badge.svg\" alt=\"Open In Colab\"/></a>"
      ]
    },
    {
      "cell_type": "markdown",
      "source": [
        "# Bonus Exercices\n",
        "\n",
        "## Exercices 21\n",
        "\n",
        "Write a NumPy program to create a vector of length 10 with values evenly distributed between 5 and 50."
      ],
      "metadata": {
        "id": "WApFB2IFhEDl"
      }
    },
    {
      "cell_type": "code",
      "execution_count": null,
      "metadata": {
        "id": "e5CY6rVCg_Yz"
      },
      "outputs": [],
      "source": [
        "# Import numpy\n",
        "import numpy as np"
      ]
    },
    {
      "cell_type": "code",
      "source": [
        "# Crear un array de 10 valores de longitud de entre el 5 y el 50\n",
        "\n",
        "range_array = np.linspace(6, 49, num = 10, dtype = np.int8)\n",
        "print(range_array)"
      ],
      "metadata": {
        "colab": {
          "base_uri": "https://localhost:8080/"
        },
        "id": "tgVpGrjAh9ss",
        "outputId": "3736be2e-43c5-4a08-8f05-1863bb73f0b7"
      },
      "execution_count": null,
      "outputs": [
        {
          "output_type": "stream",
          "name": "stdout",
          "text": [
            "[ 6 10 15 20 25 29 34 39 44 49]\n"
          ]
        }
      ]
    },
    {
      "cell_type": "markdown",
      "source": [
        "## Exerciices 22\n",
        "\n",
        "Write a NumPy program to create a vector with values from 0 to 20 and change the sign of the numbers in the range from 9 to 15."
      ],
      "metadata": {
        "id": "7BRXO-bphLou"
      }
    },
    {
      "cell_type": "code",
      "source": [
        "# Primero creamos el array\n",
        "\n",
        "range_array = np.arange(0, 21, dtype = np.int8)\n",
        "\n",
        "print(range_array)\n",
        "\n",
        "# Segundo filtramos la parte del array que queremos pasar a negativo y lo multiplicamos por -1\n",
        "\n",
        "range_array[9: 15] *= -1\n",
        "\n",
        "print(range_array)"
      ],
      "metadata": {
        "colab": {
          "base_uri": "https://localhost:8080/"
        },
        "id": "nAL0drAyhPRP",
        "outputId": "3b3e9878-ab7a-494e-a953-8fc9c8bf43c2"
      },
      "execution_count": null,
      "outputs": [
        {
          "output_type": "stream",
          "name": "stdout",
          "text": [
            "[ 0  1  2  3  4  5  6  7  8  9 10 11 12 13 14 15 16 17 18 19 20]\n",
            "[  0   1   2   3   4   5   6   7   8  -9 -10 -11 -12 -13 -14  15  16  17\n",
            "  18  19  20]\n"
          ]
        }
      ]
    },
    {
      "cell_type": "markdown",
      "source": [
        "## Exercices 23\n",
        "\n",
        "Write a NumPy program to create a vector of length 5 filled with arbitrary integers from 0 to 10."
      ],
      "metadata": {
        "id": "4JMiGyi_hPir"
      }
    },
    {
      "cell_type": "code",
      "source": [
        "# Crear un array de 5 de longitud con enteros aleatorios entre 0 y 10\n",
        "\n",
        "range_array = np.random.randint(0, 10, size = 5, dtype = np.int8)\n",
        "print(range_array)\n",
        "\n"
      ],
      "metadata": {
        "colab": {
          "base_uri": "https://localhost:8080/"
        },
        "id": "8VVdVYLnhSqr",
        "outputId": "5f427c79-8af6-4499-a874-4a64f71eede9"
      },
      "execution_count": null,
      "outputs": [
        {
          "output_type": "stream",
          "name": "stdout",
          "text": [
            "[1 7 3 0 1]\n"
          ]
        }
      ]
    },
    {
      "cell_type": "markdown",
      "source": [
        "## Exercices 24\n",
        "\n",
        "Write a NumPy program to multiply the values of two given vectors."
      ],
      "metadata": {
        "id": "C2_3gvtZhS_G"
      }
    },
    {
      "cell_type": "code",
      "source": [
        "# Creamos el array 1\n",
        "\n",
        "array_1 = np.random.randint(0, 10, size = 5, dtype = np.int8)\n",
        "print(array_1, \"\\n\")\n",
        "\n",
        "# Creamos el array 2\n",
        "\n",
        "array_2 = np.random.randint(5, 15, size = 5, dtype = np.int8)\n",
        "\n",
        "print(array_2, \"\\n\") \n",
        "\n",
        "# Ahora multiplicamos los dos arrays\n",
        "\n",
        "array_total = array_1 * array_2\n",
        "\n",
        "print(f\"Multiplicar los arrays da el siguiente array: {array_total}\")\n"
      ],
      "metadata": {
        "colab": {
          "base_uri": "https://localhost:8080/"
        },
        "id": "Qu_VebRNhe2M",
        "outputId": "5f868937-f09d-4a5c-d13c-a2dfc4ef5564"
      },
      "execution_count": null,
      "outputs": [
        {
          "output_type": "stream",
          "name": "stdout",
          "text": [
            "[7 1 2 0 6] \n",
            "\n",
            "[11 11  7  7  5] \n",
            "\n",
            "Multiplicar los arrays da el siguiente array: [77 11 14  0 30]\n"
          ]
        }
      ]
    },
    {
      "cell_type": "markdown",
      "source": [
        "## Exercices 25\n",
        "\n",
        "Write a NumPy program to create a 3x4 matrix filled with values from 10 to 21."
      ],
      "metadata": {
        "id": "8zV7uuL8hW9O"
      }
    },
    {
      "cell_type": "code",
      "source": [
        "# Aquí podemos concatenar 2 metodos, arange con reshape.\n",
        "\n",
        "array_matriz = np.arange(10, 22, dtype = np.int8).reshape(3, 4)\n",
        "\n",
        "print(array_matriz)"
      ],
      "metadata": {
        "colab": {
          "base_uri": "https://localhost:8080/"
        },
        "id": "4jkEsKsUhfQn",
        "outputId": "15d2823f-1634-415c-ba3a-582943214804"
      },
      "execution_count": null,
      "outputs": [
        {
          "output_type": "stream",
          "name": "stdout",
          "text": [
            "[[10 11 12 13]\n",
            " [14 15 16 17]\n",
            " [18 19 20 21]]\n"
          ]
        }
      ]
    },
    {
      "cell_type": "markdown",
      "source": [
        "## Exercices 26\n",
        "\n",
        "Write a NumPy program to find the number of rows and columns of a given matrix"
      ],
      "metadata": {
        "id": "xYnujYHthaNS"
      }
    },
    {
      "cell_type": "code",
      "source": [
        "# Para este ejercicio vamos a usar la matriz del anterior ejercicio\n",
        "\n",
        "print(array_matriz.shape)"
      ],
      "metadata": {
        "colab": {
          "base_uri": "https://localhost:8080/"
        },
        "id": "UurdsvAlhfqe",
        "outputId": "ca60fca5-cf35-4ef5-8749-9de27ff21fbf"
      },
      "execution_count": null,
      "outputs": [
        {
          "output_type": "stream",
          "name": "stdout",
          "text": [
            "(3, 4)\n"
          ]
        }
      ]
    },
    {
      "cell_type": "markdown",
      "source": [
        "## Exercices 27\n",
        "\n",
        "Write a NumPy program to create a 3x3 identity matrix, i.e. diagonal elements are 1, the rest are 0."
      ],
      "metadata": {
        "id": "ULDvYUBuhhIx"
      }
    },
    {
      "cell_type": "code",
      "source": [
        "# Para este ejercicio vamos a usar el metodo indetity\n",
        "\n",
        "diagonal_array = np.identity(3)\n",
        "print(diagonal_array)"
      ],
      "metadata": {
        "colab": {
          "base_uri": "https://localhost:8080/"
        },
        "id": "ZsJtii6xhi53",
        "outputId": "c9abc5f7-ce76-4749-b5e2-54c31499f847"
      },
      "execution_count": null,
      "outputs": [
        {
          "output_type": "stream",
          "name": "stdout",
          "text": [
            "[[1. 0. 0.]\n",
            " [0. 1. 0.]\n",
            " [0. 0. 1.]]\n"
          ]
        }
      ]
    },
    {
      "cell_type": "markdown",
      "source": [
        "## Exercices 28\n",
        "\n",
        "Write a NumPy program to create a 10x10 matrix, in which the elements on the borders will be equal to 1, and inside 0."
      ],
      "metadata": {
        "id": "GpUzn_hHhjT9"
      }
    },
    {
      "cell_type": "code",
      "source": [
        "# Creamos primero la matriz de 10 x 10\n",
        "\n",
        "matrix_ten = np.ones((10, 10), dtype = np.int8)\n",
        "\n",
        "# Ahora cambimos los unos centrales por ceros\n",
        "\n",
        "matrix_ten[1:-1, 1:-1] = 0\n",
        "\n",
        "print(matrix_ten)"
      ],
      "metadata": {
        "colab": {
          "base_uri": "https://localhost:8080/"
        },
        "id": "MjUnGpUnhncG",
        "outputId": "50800580-eb42-4433-ea2a-10100d53cacc"
      },
      "execution_count": null,
      "outputs": [
        {
          "output_type": "stream",
          "name": "stdout",
          "text": [
            "[[1 1 1 1 1 1 1 1 1 1]\n",
            " [1 0 0 0 0 0 0 0 0 1]\n",
            " [1 0 0 0 0 0 0 0 0 1]\n",
            " [1 0 0 0 0 0 0 0 0 1]\n",
            " [1 0 0 0 0 0 0 0 0 1]\n",
            " [1 0 0 0 0 0 0 0 0 1]\n",
            " [1 0 0 0 0 0 0 0 0 1]\n",
            " [1 0 0 0 0 0 0 0 0 1]\n",
            " [1 0 0 0 0 0 0 0 0 1]\n",
            " [1 1 1 1 1 1 1 1 1 1]]\n"
          ]
        }
      ]
    },
    {
      "cell_type": "markdown",
      "source": [
        "## Exercices 29\n",
        "\n",
        "Write a NumPy program to create a 5x5 zero matrix with elements on the main diagonal equal to 1, 2, 3, 4, 5."
      ],
      "metadata": {
        "id": "aMDtHnvKhn7c"
      }
    },
    {
      "cell_type": "code",
      "source": [
        "# Aquí usaremos el metodo diag donde le pasaremos el array de 1 al 5 para la diagonal\n",
        "\n",
        "matrix_five = np.diag([1, 2, 3, 4, 5])\n",
        "\n",
        "print(matrix_five)"
      ],
      "metadata": {
        "colab": {
          "base_uri": "https://localhost:8080/"
        },
        "id": "EFv-5dt0hr3B",
        "outputId": "6217467c-f909-4dd7-887f-1f1955ddf44c"
      },
      "execution_count": null,
      "outputs": [
        {
          "output_type": "stream",
          "name": "stdout",
          "text": [
            "[[1 0 0 0 0]\n",
            " [0 2 0 0 0]\n",
            " [0 0 3 0 0]\n",
            " [0 0 0 4 0]\n",
            " [0 0 0 0 5]]\n"
          ]
        }
      ]
    },
    {
      "cell_type": "markdown",
      "source": [
        "## Exercices 30\n",
        "\n",
        "Write a NumPy program to create a 4x4 matrix in which 0 and 1 are staggered, with zeros on the main diagonal."
      ],
      "metadata": {
        "id": "EcBOzaT4hsSr"
      }
    },
    {
      "cell_type": "code",
      "source": [
        "# Creamos la matriz de 4 x 4 primero\n",
        "\n",
        "matriz_zeros = np.ones((4, 4), dtype = np.int8)\n",
        "\n",
        "print(matriz_zeros)\n",
        "\n",
        "# Ahora aplicamos los sliders correspondientes para modificar la matriz\n",
        "\n",
        "matriz_zeros[::2, ::2] = 0\n",
        "matriz_zeros[1::2, 1::2] = 0\n",
        "\n",
        "print(matriz_zeros)"
      ],
      "metadata": {
        "colab": {
          "base_uri": "https://localhost:8080/"
        },
        "id": "jc0HT_L4hxKr",
        "outputId": "44875482-dc21-4cfb-a574-b6ca8e85afc8"
      },
      "execution_count": null,
      "outputs": [
        {
          "output_type": "stream",
          "name": "stdout",
          "text": [
            "[[1 1 1 1]\n",
            " [1 1 1 1]\n",
            " [1 1 1 1]\n",
            " [1 1 1 1]]\n",
            "[[0 1 0 1]\n",
            " [1 0 1 0]\n",
            " [0 1 0 1]\n",
            " [1 0 1 0]]\n"
          ]
        }
      ]
    }
  ]
}