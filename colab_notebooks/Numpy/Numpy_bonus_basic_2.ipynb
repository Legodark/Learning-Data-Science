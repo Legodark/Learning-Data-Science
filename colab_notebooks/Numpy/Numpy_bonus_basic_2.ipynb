{
  "nbformat": 4,
  "nbformat_minor": 0,
  "metadata": {
    "colab": {
      "provenance": [],
      "collapsed_sections": [],
      "mount_file_id": "1Qc94ILkgxjtYFh2A22GeMS-YqRUINhYD",
      "authorship_tag": "ABX9TyPIwtZBDP0ROSdKPzpykd56",
      "include_colab_link": true
    },
    "kernelspec": {
      "name": "python3",
      "display_name": "Python 3"
    },
    "language_info": {
      "name": "python"
    }
  },
  "cells": [
    {
      "cell_type": "markdown",
      "metadata": {
        "id": "view-in-github",
        "colab_type": "text"
      },
      "source": [
        "<a href=\"https://colab.research.google.com/github/Legodark/Learning-Data-Science/blob/import_colab/colab_notebooks/Numpy/Numpy_bonus_basic_2.ipynb\" target=\"_parent\"><img src=\"https://colab.research.google.com/assets/colab-badge.svg\" alt=\"Open In Colab\"/></a>"
      ]
    },
    {
      "cell_type": "markdown",
      "source": [
        "# Ejercicios bonus Numpy 31-40\n",
        "\n",
        "## Ejercicio 31\n",
        "\n",
        "Write a NumPy program to create a 3x3x3 array filled with arbitrary values"
      ],
      "metadata": {
        "id": "S7xFxTiqOyY7"
      }
    },
    {
      "cell_type": "code",
      "execution_count": 1,
      "metadata": {
        "id": "nZ2yWK0SOtT0"
      },
      "outputs": [],
      "source": [
        "import numpy as np"
      ]
    },
    {
      "cell_type": "code",
      "source": [
        "random_array = np.random.random((3, 3, 3))\n",
        "print(random_array)"
      ],
      "metadata": {
        "colab": {
          "base_uri": "https://localhost:8080/"
        },
        "id": "9SorFn2qPk_f",
        "outputId": "22e164c1-4898-4303-dce4-e70ad2163687"
      },
      "execution_count": null,
      "outputs": [
        {
          "output_type": "stream",
          "name": "stdout",
          "text": [
            "[[[0.26527712 0.6925765  0.32584981]\n",
            "  [0.7469232  0.68891446 0.925341  ]\n",
            "  [0.05040407 0.97491894 0.86011315]]\n",
            "\n",
            " [[0.26938389 0.76433063 0.56099949]\n",
            "  [0.00124179 0.26299726 0.91621392]\n",
            "  [0.55511851 0.53318455 0.62967255]]\n",
            "\n",
            " [[0.93559096 0.32266746 0.81663291]\n",
            "  [0.60016787 0.29722066 0.44131714]\n",
            "  [0.33813666 0.29371487 0.15945381]]]\n"
          ]
        }
      ]
    },
    {
      "cell_type": "markdown",
      "source": [
        "## Ejercicio 32\n",
        "\n",
        "Write a NumPy program to compute sum of all elements, sum of each column and sum of each row of a given array."
      ],
      "metadata": {
        "id": "w66GOTSQREQR"
      }
    },
    {
      "cell_type": "code",
      "source": [
        "# Primero creamos la matriz\n",
        "\n",
        "matriz_32 = np.matrix('12, 24, 21 ; 32, 42, 12', dtype = np.int8)\n",
        "\n",
        "print(matriz_32, \"\\n\")\n",
        "\n",
        "# Sumamos por columnas\n",
        "\n",
        "sum_colums = np.sum(matriz_32, axis = 0)\n",
        "\n",
        "print(sum_colums, \"\\n\")\n",
        "\n",
        "sum_arrows = np.sum(matriz_32, axis = 1)\n",
        "\n",
        "print(sum_arrows)\n",
        "\n"
      ],
      "metadata": {
        "colab": {
          "base_uri": "https://localhost:8080/"
        },
        "id": "5dyDTVNvQlV3",
        "outputId": "e9f71f52-b386-4206-a685-4cf917cbc1d6"
      },
      "execution_count": null,
      "outputs": [
        {
          "output_type": "stream",
          "name": "stdout",
          "text": [
            "[[12 24 21]\n",
            " [32 42 12]] \n",
            "\n",
            "[[44 66 33]]\n",
            "[[57]\n",
            " [86]]\n"
          ]
        }
      ]
    },
    {
      "cell_type": "markdown",
      "source": [
        "## Ejercicio 33\n",
        "\n",
        "Write a NumPy program to compute the inner product of two given vectors"
      ],
      "metadata": {
        "id": "nC8xsxLSSLmh"
      }
    },
    {
      "cell_type": "code",
      "source": [
        "# Creamos el Array de 2x2\n",
        "\n",
        "array_33_a = np.array([np.arange(0, 10)], dtype = np.int8)\n",
        "array_33_b = np.array([np.arange(5, 15)], dtype = np.int8)\n",
        "print(array_33_a, \"\\n\")\n",
        "print(array_33_b, \"\\n\")\n",
        "\n",
        "# Ahora sacamos el producto interno de los 2 arrays\n",
        "\n",
        "product_inner = np.inner(array_33_a, array_33_b)\n",
        "print(product_inner)\n",
        "\n"
      ],
      "metadata": {
        "colab": {
          "base_uri": "https://localhost:8080/"
        },
        "id": "VnqITS6oSP7j",
        "outputId": "73049c53-5d63-4f37-df6b-fec46ad2dd0c"
      },
      "execution_count": null,
      "outputs": [
        {
          "output_type": "stream",
          "name": "stdout",
          "text": [
            "[[0 1 2 3 4 5 6 7 8 9]] \n",
            "\n",
            "[[ 5  6  7  8  9 10 11 12 13 14]] \n",
            "\n",
            "[[-2]]\n"
          ]
        }
      ]
    },
    {
      "cell_type": "markdown",
      "source": [
        "## Ejercicio 34\n",
        "\n",
        "Write a NumPy program to add a vector to each row of a given matrix"
      ],
      "metadata": {
        "id": "EVw-kOutVCkp"
      }
    },
    {
      "cell_type": "code",
      "source": [
        "# Creamos la matriz\n",
        "\n",
        "my_matrix = np.arange(0, 20).reshape(4, 5)\n",
        "print(my_matrix, \"\\n\")\n",
        "\n",
        "# Creamos el array con los vectores que queremos agregar\n",
        "\n",
        "add_vector = np.asarray([1, 1, 1, 1, 1])\n",
        "\n",
        "# Hacemos una copia de my_matrix con .empty_like\n",
        "\n",
        "prueba_empty = np.empty_like(my_matrix)\n",
        "\n",
        "print(prueba_empty, \"\\n\")\n",
        "\n",
        "# Agregamos a las columnas \n",
        "\n",
        "for i in range(4):\n",
        "  prueba_empty[i, :] = my_matrix[i, :] + add_vector\n",
        "\n",
        "print(prueba_empty)\n",
        "\n"
      ],
      "metadata": {
        "colab": {
          "base_uri": "https://localhost:8080/"
        },
        "id": "7U-cJlTzVJYV",
        "outputId": "af6c55c0-939c-4b95-b794-6bb579528d1d"
      },
      "execution_count": null,
      "outputs": [
        {
          "output_type": "stream",
          "name": "stdout",
          "text": [
            "[[ 0  1  2  3  4]\n",
            " [ 5  6  7  8  9]\n",
            " [10 11 12 13 14]\n",
            " [15 16 17 18 19]] \n",
            "\n",
            "[[ 0  1  2  3  4]\n",
            " [ 5  6  7  8  9]\n",
            " [10 11 12 13 14]\n",
            " [15 16 17 18 19]] \n",
            "\n",
            "[[ 1  2  3  4  5]\n",
            " [ 6  7  8  9 10]\n",
            " [11 12 13 14 15]\n",
            " [16 17 18 19 20]]\n"
          ]
        }
      ]
    },
    {
      "cell_type": "markdown",
      "source": [
        "## Ejercicio 35\n",
        "\n",
        "Write a NumPy program to save a given array to a binary file"
      ],
      "metadata": {
        "id": "miyCmfj8fPZ6"
      }
    },
    {
      "cell_type": "code",
      "source": [
        "# Creamos el array\n",
        "\n",
        "export_array = np.asarray([np.arange(0, 299)], dtype = np.int16)\n",
        "\n",
        "print(export_array, \"\\n\")\n",
        "\n",
        "# Ahora lo exportamos con .save\n",
        "\n",
        "\n",
        "np.save(\"/content/drive/MyDrive/Colab Notebooks/Curso_IA_BIGDATA/IA/Numpy/Export_array/array_exer_35\", export_array)\n",
        "\n",
        "# Por último lo leemos con .load\n",
        "\n",
        "\"\"\"\n",
        "\n",
        "  Aquí es importante hacer uso de un comparador para ver si el archivo se a\n",
        "  creado o no y lo podamos comparar\n",
        "\n",
        "\"\"\"\n",
        "\n",
        "import os\n",
        "\n",
        "if os.path.exists('/content/drive/MyDrive/Colab Notebooks/Curso_IA_BIGDATA/IA/Numpy/Export_array/array_exer_35.npy'):\n",
        "    charge_file = np.load('/content/drive/MyDrive/Colab Notebooks/Curso_IA_BIGDATA/IA/Numpy/Export_array/array_exer_35.npy')\n",
        "    print(np.array_equal(export_array, charge_file), \"\\n\")\n",
        "    print(charge_file)\n",
        "\n",
        "\n"
      ],
      "metadata": {
        "colab": {
          "base_uri": "https://localhost:8080/"
        },
        "id": "cXgflIyJe-Zu",
        "outputId": "ec604f30-7757-490c-c171-f1d06724aaa7"
      },
      "execution_count": null,
      "outputs": [
        {
          "output_type": "stream",
          "name": "stdout",
          "text": [
            "[[  0   1   2   3   4   5   6   7   8   9  10  11  12  13  14  15  16  17\n",
            "   18  19  20  21  22  23  24  25  26  27  28  29  30  31  32  33  34  35\n",
            "   36  37  38  39  40  41  42  43  44  45  46  47  48  49  50  51  52  53\n",
            "   54  55  56  57  58  59  60  61  62  63  64  65  66  67  68  69  70  71\n",
            "   72  73  74  75  76  77  78  79  80  81  82  83  84  85  86  87  88  89\n",
            "   90  91  92  93  94  95  96  97  98  99 100 101 102 103 104 105 106 107\n",
            "  108 109 110 111 112 113 114 115 116 117 118 119 120 121 122 123 124 125\n",
            "  126 127 128 129 130 131 132 133 134 135 136 137 138 139 140 141 142 143\n",
            "  144 145 146 147 148 149 150 151 152 153 154 155 156 157 158 159 160 161\n",
            "  162 163 164 165 166 167 168 169 170 171 172 173 174 175 176 177 178 179\n",
            "  180 181 182 183 184 185 186 187 188 189 190 191 192 193 194 195 196 197\n",
            "  198 199 200 201 202 203 204 205 206 207 208 209 210 211 212 213 214 215\n",
            "  216 217 218 219 220 221 222 223 224 225 226 227 228 229 230 231 232 233\n",
            "  234 235 236 237 238 239 240 241 242 243 244 245 246 247 248 249 250 251\n",
            "  252 253 254 255 256 257 258 259 260 261 262 263 264 265 266 267 268 269\n",
            "  270 271 272 273 274 275 276 277 278 279 280 281 282 283 284 285 286 287\n",
            "  288 289 290 291 292 293 294 295 296 297 298]] \n",
            "\n",
            "True \n",
            "\n",
            "[[  0   1   2   3   4   5   6   7   8   9  10  11  12  13  14  15  16  17\n",
            "   18  19  20  21  22  23  24  25  26  27  28  29  30  31  32  33  34  35\n",
            "   36  37  38  39  40  41  42  43  44  45  46  47  48  49  50  51  52  53\n",
            "   54  55  56  57  58  59  60  61  62  63  64  65  66  67  68  69  70  71\n",
            "   72  73  74  75  76  77  78  79  80  81  82  83  84  85  86  87  88  89\n",
            "   90  91  92  93  94  95  96  97  98  99 100 101 102 103 104 105 106 107\n",
            "  108 109 110 111 112 113 114 115 116 117 118 119 120 121 122 123 124 125\n",
            "  126 127 128 129 130 131 132 133 134 135 136 137 138 139 140 141 142 143\n",
            "  144 145 146 147 148 149 150 151 152 153 154 155 156 157 158 159 160 161\n",
            "  162 163 164 165 166 167 168 169 170 171 172 173 174 175 176 177 178 179\n",
            "  180 181 182 183 184 185 186 187 188 189 190 191 192 193 194 195 196 197\n",
            "  198 199 200 201 202 203 204 205 206 207 208 209 210 211 212 213 214 215\n",
            "  216 217 218 219 220 221 222 223 224 225 226 227 228 229 230 231 232 233\n",
            "  234 235 236 237 238 239 240 241 242 243 244 245 246 247 248 249 250 251\n",
            "  252 253 254 255 256 257 258 259 260 261 262 263 264 265 266 267 268 269\n",
            "  270 271 272 273 274 275 276 277 278 279 280 281 282 283 284 285 286 287\n",
            "  288 289 290 291 292 293 294 295 296 297 298]]\n"
          ]
        }
      ]
    },
    {
      "cell_type": "markdown",
      "source": [
        "## Ejercicio 36\n",
        "\n",
        "Write a NumPy program to save two given arrays into a single file in compressed format (.npz format) and load it"
      ],
      "metadata": {
        "id": "eHXotHHwkVb1"
      }
    },
    {
      "cell_type": "code",
      "source": [
        "# Creamos los 2 array, dichos arrays por standard se recomienda que sean numerados como arr_0, arr_1, ect\n",
        "\n",
        "array_0 = np.arange(0, 100)\n",
        "array_1 = np.arange(101, 200)\n",
        "\n",
        "# Exporamos los arrays a un fichero con extensión npz (archivo comprimido)\n",
        "\n",
        "np.savez_compressed(\"/content/drive/MyDrive/Colab Notebooks/Curso_IA_BIGDATA/IA/Numpy/Export_array/array_exer_36\", array_0, array_1)\n",
        "\n",
        "# Lectura del archivo\n",
        "\n",
        "read_file = np.load(\"/content/drive/MyDrive/Colab Notebooks/Curso_IA_BIGDATA/IA/Numpy/Export_array/array_exer_36.npz\")\n",
        "\n",
        "print(read_file.files)\n",
        "\n",
        "print(read_file[\"arr_0\"])\n",
        "print(read_file[\"arr_1\"])\n",
        "\n",
        "\n",
        "\n",
        "\n",
        "\n"
      ],
      "metadata": {
        "colab": {
          "base_uri": "https://localhost:8080/"
        },
        "id": "8M6CzwPlgCBP",
        "outputId": "ccc208bb-6358-49ba-f36a-a1029ec7f9d4"
      },
      "execution_count": null,
      "outputs": [
        {
          "output_type": "stream",
          "name": "stdout",
          "text": [
            "['arr_0', 'arr_1']\n",
            "[ 0  1  2  3  4  5  6  7  8  9 10 11 12 13 14 15 16 17 18 19 20 21 22 23\n",
            " 24 25 26 27 28 29 30 31 32 33 34 35 36 37 38 39 40 41 42 43 44 45 46 47\n",
            " 48 49 50 51 52 53 54 55 56 57 58 59 60 61 62 63 64 65 66 67 68 69 70 71\n",
            " 72 73 74 75 76 77 78 79 80 81 82 83 84 85 86 87 88 89 90 91 92 93 94 95\n",
            " 96 97 98 99]\n",
            "[101 102 103 104 105 106 107 108 109 110 111 112 113 114 115 116 117 118\n",
            " 119 120 121 122 123 124 125 126 127 128 129 130 131 132 133 134 135 136\n",
            " 137 138 139 140 141 142 143 144 145 146 147 148 149 150 151 152 153 154\n",
            " 155 156 157 158 159 160 161 162 163 164 165 166 167 168 169 170 171 172\n",
            " 173 174 175 176 177 178 179 180 181 182 183 184 185 186 187 188 189 190\n",
            " 191 192 193 194 195 196 197 198 199]\n"
          ]
        }
      ]
    },
    {
      "cell_type": "markdown",
      "source": [
        "## Ejercicio 37\n",
        "\n",
        "Write a NumPy program to save a given array to a text file and load it."
      ],
      "metadata": {
        "id": "8bvq_NRkbn4U"
      }
    },
    {
      "cell_type": "code",
      "source": [
        "# Creamos un array \n",
        "\n",
        "\"\"\"\n",
        "\n",
        "  Para la generación del array estoy usando random.randint,\n",
        "  \n",
        "  El primer parametro es el entero minimo por el que va a empezar\n",
        "  la generacion aleatoria\n",
        "  \n",
        "  El segundo parametro es el entero maximo que puede generar, es decir\n",
        "  en este caso se generaran numeros aleatorios de entre 100 y 150\n",
        "\n",
        "  El tercer parametro es la distancia del array\n",
        "\n",
        "\n",
        "\"\"\"\n",
        "new_array_export = np.random.randint(100, 150, size = 10) "
      ],
      "metadata": {
        "id": "BsPspyvBqliG",
        "colab": {
          "base_uri": "https://localhost:8080/"
        },
        "outputId": "39b86674-f8e4-4a7c-f661-0cff4e813275"
      },
      "execution_count": 6,
      "outputs": [
        {
          "output_type": "stream",
          "name": "stdout",
          "text": [
            "[117 139 116 131 110 135 111 132 119 117]\n"
          ]
        }
      ]
    },
    {
      "cell_type": "markdown",
      "source": [
        "Imprimimos en otra celda de codigo la impresion para no alterar el array"
      ],
      "metadata": {
        "id": "KqolWfqlhd8m"
      }
    },
    {
      "cell_type": "code",
      "source": [
        "print(new_array_export, \"\\n\")\n",
        "\n",
        "# Ahora exportamos el array a un archivo txt\n",
        "\n",
        "export_to_txt = np.savetxt(\"/content/drive/MyDrive/Colab Notebooks/Curso_IA_BIGDATA/IA/Numpy/Export_array/array_exer_37.txt\", new_array_export)\n",
        "\n",
        "\"\"\"\n",
        "\n",
        "  Al guardarlo el array este se guarda como numeros complejos\n",
        "\n",
        "\"\"\"\n"
      ],
      "metadata": {
        "colab": {
          "base_uri": "https://localhost:8080/"
        },
        "id": "wyHkmOSFgp_p",
        "outputId": "d1d9aa60-a480-456b-fee9-44ad8b4b5a77"
      },
      "execution_count": 12,
      "outputs": [
        {
          "output_type": "stream",
          "name": "stdout",
          "text": [
            "[117 139 116 131 110 135 111 132 119 117] \n",
            "\n"
          ]
        }
      ]
    },
    {
      "cell_type": "markdown",
      "source": [
        "Por último visionamos el contenido del archivo que acabamos de exportar:"
      ],
      "metadata": {
        "id": "yaCGrVlshjae"
      }
    },
    {
      "cell_type": "code",
      "source": [
        "# Leemos el archivo array_exer_37.txt\n",
        "\n",
        "np.loadtxt(\"/content/drive/MyDrive/Colab Notebooks/Curso_IA_BIGDATA/IA/Numpy/Export_array/array_exer_37.txt\")"
      ],
      "metadata": {
        "colab": {
          "base_uri": "https://localhost:8080/"
        },
        "id": "KF0m1i2khTi6",
        "outputId": "89ea2652-da76-4904-b281-3f7244a8a68c"
      },
      "execution_count": 13,
      "outputs": [
        {
          "output_type": "execute_result",
          "data": {
            "text/plain": [
              "array([117., 139., 116., 131., 110., 135., 111., 132., 119., 117.])"
            ]
          },
          "metadata": {},
          "execution_count": 13
        }
      ]
    },
    {
      "cell_type": "markdown",
      "source": [
        "## Ejercicio 38\n",
        "\n",
        "Write a NumPy program to convert a given array into bytes, and load it as array\n",
        "\n",
        "1. Creamos el array"
      ],
      "metadata": {
        "id": "hBHBAn6iitn7"
      }
    },
    {
      "cell_type": "code",
      "source": [
        "# Creamos un array, en este caso lo voy a hacer con .matrix y despues pasamos array\n",
        "\n",
        "array_38 = np.matrix(\"2, 4, 1 ; 72, 13, 91\", dtype = np.int8)\n",
        "array_38 = np.asarray(array_38)\n",
        "print(array_38)"
      ],
      "metadata": {
        "colab": {
          "base_uri": "https://localhost:8080/"
        },
        "id": "ekbeXXRsi1tl",
        "outputId": "cb1c2710-a35c-480f-efa5-22dd7042e008"
      },
      "execution_count": 38,
      "outputs": [
        {
          "output_type": "stream",
          "name": "stdout",
          "text": [
            "[[ 2  4  1]\n",
            " [72 13 91]]\n"
          ]
        }
      ]
    },
    {
      "cell_type": "markdown",
      "source": [
        "2. Convertimos la matriz de arriba a bytes para ello usamos .tobytes()"
      ],
      "metadata": {
        "id": "Fehxu6lmkinl"
      }
    },
    {
      "cell_type": "code",
      "source": [
        "# Convertimos array38\n",
        "\n",
        "array_38_tobytes = array_38.tobytes()\n",
        "print(array_38_tobytes)"
      ],
      "metadata": {
        "colab": {
          "base_uri": "https://localhost:8080/"
        },
        "id": "CxcQXcaGjiMx",
        "outputId": "688f6692-1ef2-4d60-a7c7-a9e5c550be95"
      },
      "execution_count": 39,
      "outputs": [
        {
          "output_type": "stream",
          "name": "stdout",
          "text": [
            "b'\\x02\\x04\\x01H\\r['\n"
          ]
        }
      ]
    },
    {
      "cell_type": "markdown",
      "source": [
        "3. Por último recuperamos el array con la función .frombuffer()"
      ],
      "metadata": {
        "id": "Lg4etfRMlwSh"
      }
    },
    {
      "cell_type": "code",
      "source": [
        "# Convertimos ahora de bytes a ints\n",
        "\n",
        "\"\"\"\n",
        "\n",
        "  Aquí hay que saber que cuando lo guardamos como bytes una matriz\n",
        "  esta pierde sus cualidades de matriz y cuando regeneramos los bytes\n",
        "  la matriz 2D o superior vuelve como array de 1D\n",
        "\n",
        "  Para poder recuperar la información tal cual era, en este caso, debemos de \n",
        "  transformar los bits a enteros de nuevo y pasarle un reshape, para que coja\n",
        "  la forma que tenia anteriormente\n",
        "\n",
        "\"\"\"\n",
        "\n",
        "reconvert = np.frombuffer(array_38_tobytes, dtype = np.int8).reshape(2, 3)\n",
        "print(reconvert)"
      ],
      "metadata": {
        "colab": {
          "base_uri": "https://localhost:8080/"
        },
        "id": "YJtcBEE3mMtx",
        "outputId": "9df11494-af1a-465b-94a5-d7eabfe6fc9f"
      },
      "execution_count": 41,
      "outputs": [
        {
          "output_type": "stream",
          "name": "stdout",
          "text": [
            "[[ 2  4  1]\n",
            " [72 13 91]]\n"
          ]
        }
      ]
    },
    {
      "cell_type": "markdown",
      "source": [
        "## Ejercicio 39\n",
        "\n",
        "Write a NumPy program to convert a given list into an array, then again convert it into a list. Check initial list and final list are equal or not.\n",
        "\n",
        "1. Creamos la lista"
      ],
      "metadata": {
        "id": "ncm7M8EvveZE"
      }
    },
    {
      "cell_type": "code",
      "source": [
        "list_to_array = [3, 2, 89, 12]\n",
        "print(list_to_array)\n",
        "print(type(list_to_array))"
      ],
      "metadata": {
        "colab": {
          "base_uri": "https://localhost:8080/"
        },
        "id": "pe0sKpgims0a",
        "outputId": "73951e66-4ff9-4590-c7a4-cd5128caf476"
      },
      "execution_count": 23,
      "outputs": [
        {
          "output_type": "stream",
          "name": "stdout",
          "text": [
            "[3, 2, 89, 12]\n",
            "<class 'list'>\n"
          ]
        }
      ]
    },
    {
      "cell_type": "markdown",
      "source": [
        "2. Lo convertimos la lista a array"
      ],
      "metadata": {
        "id": "ki0gh6K0v1jQ"
      }
    },
    {
      "cell_type": "code",
      "source": [
        "new_array = np.asarray(list_to_array)\n",
        "print(new_array)\n",
        "print(type(new_array))"
      ],
      "metadata": {
        "colab": {
          "base_uri": "https://localhost:8080/"
        },
        "id": "eiU5csCYv00c",
        "outputId": "0767beea-8988-477e-bc77-996687e1ab33"
      },
      "execution_count": 25,
      "outputs": [
        {
          "output_type": "stream",
          "name": "stdout",
          "text": [
            "[ 3  2 89 12]\n",
            "<class 'numpy.ndarray'>\n"
          ]
        }
      ]
    },
    {
      "cell_type": "markdown",
      "source": [
        "3. Ahora hacemos el proceso inverso, de array a lista"
      ],
      "metadata": {
        "id": "oHUXfk8-wO_t"
      }
    },
    {
      "cell_type": "code",
      "source": [
        "new_list = new_array.tolist()\n",
        "print(new_list)\n",
        "print(type(new_list))"
      ],
      "metadata": {
        "colab": {
          "base_uri": "https://localhost:8080/"
        },
        "id": "Vtif0Wt2wON0",
        "outputId": "b55153f8-35ef-4e82-e229-366490f3b0c9"
      },
      "execution_count": 29,
      "outputs": [
        {
          "output_type": "stream",
          "name": "stdout",
          "text": [
            "[3, 2, 89, 12]\n",
            "<class 'list'>\n"
          ]
        }
      ]
    },
    {
      "cell_type": "markdown",
      "source": [
        "4. Ahora comparamos las 2 listas, la primera que creamos con la transformada"
      ],
      "metadata": {
        "id": "lYdfDTwww59S"
      }
    },
    {
      "cell_type": "code",
      "source": [
        "compare = np.equal(list_to_array, new_list)\n",
        "print(compare)"
      ],
      "metadata": {
        "colab": {
          "base_uri": "https://localhost:8080/"
        },
        "id": "pJ4dMar4xFUp",
        "outputId": "a194424a-8167-4dc5-ef0c-bcf85e8eb036"
      },
      "execution_count": 32,
      "outputs": [
        {
          "output_type": "stream",
          "name": "stdout",
          "text": [
            "[ True  True  True  True]\n"
          ]
        }
      ]
    },
    {
      "cell_type": "markdown",
      "source": [
        "## Ejercicio 40\n",
        "\n",
        "Write a NumPy program to compute the x and y coordinates for points on a sine curve and plot the points using matplotlib\n",
        "\n",
        "1. Importamos la libreria de Matploit"
      ],
      "metadata": {
        "id": "owe9LI9Jx8JJ"
      }
    },
    {
      "cell_type": "code",
      "source": [
        "import matplotlib as mpl\n",
        "import matplotlib.pyplot as plt\n",
        "import numpy as np"
      ],
      "metadata": {
        "id": "_p-JFkyQyNzb"
      },
      "execution_count": 42,
      "outputs": []
    },
    {
      "cell_type": "markdown",
      "source": [
        "2. Creamos 2 arrays para crear los ejes x e y"
      ],
      "metadata": {
        "id": "5NRWwmEi1brP"
      }
    },
    {
      "cell_type": "code",
      "source": [
        "# Creamos los arrays de años y de poblacion\n",
        "\n",
        "# Este va a ser nuestro eje y\n",
        "years = np.asarray([1800, 1900, 2000, 2020]) \n",
        "\n",
        "# Este va a ser nuestro eje x\n",
        "population = np.asarray([\"4 Billion\", \"5 Billion\", \"7 Billion\", \"7.5 Billion\"]) \n",
        "\n",
        "# Con ylabel le damos un nombre al eje y\n",
        "plt.ylabel('Años')\n",
        "\n",
        "# Con xlabel le damos un nombre al eje x\n",
        "plt.xlabel('Población (En Billones)')\n",
        "\n",
        "# Por último pintamos la grafica, poniendo cada array en su eje plt.plot(x, y)\n",
        "plt.plot(population, years)"
      ],
      "metadata": {
        "colab": {
          "base_uri": "https://localhost:8080/",
          "height": 296
        },
        "id": "2rY6y3Ns08zM",
        "outputId": "1afab1e2-f40c-43b7-c47c-2bc63e93e9ce"
      },
      "execution_count": 57,
      "outputs": [
        {
          "output_type": "execute_result",
          "data": {
            "text/plain": [
              "[<matplotlib.lines.Line2D at 0x7f2ff3f3d9d0>]"
            ]
          },
          "metadata": {},
          "execution_count": 57
        },
        {
          "output_type": "display_data",
          "data": {
            "text/plain": [
              "<Figure size 432x288 with 1 Axes>"
            ],
            "image/png": "[encoded data removed]"
          },
          "metadata": {
            "needs_background": "light"
          }
        }
      ]
    },
    {
      "cell_type": "code",
      "source": [],
      "metadata": {
        "id": "Kzpg--VT6fQb"
      },
      "execution_count": null,
      "outputs": []
    }
  ]
}