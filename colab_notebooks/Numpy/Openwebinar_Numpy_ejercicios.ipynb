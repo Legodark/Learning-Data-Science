{
  "nbformat": 4,
  "nbformat_minor": 0,
  "metadata": {
    "colab": {
      "provenance": [],
      "collapsed_sections": [],
      "authorship_tag": "ABX9TyMenG1mOiqh5gLyArc69P4d",
      "include_colab_link": true
    },
    "kernelspec": {
      "name": "python3",
      "display_name": "Python 3"
    },
    "language_info": {
      "name": "python"
    }
  },
  "cells": [
    {
      "cell_type": "markdown",
      "metadata": {
        "id": "view-in-github",
        "colab_type": "text"
      },
      "source": [
        "<a href=\"https://colab.research.google.com/github/Legodark/Learning-Data-Science/blob/import_colab/colab_notebooks/Numpy/Openwebinar_Numpy_ejercicios.ipynb\" target=\"_parent\"><img src=\"https://colab.research.google.com/assets/colab-badge.svg\" alt=\"Open In Colab\"/></a>"
      ]
    },
    {
      "cell_type": "markdown",
      "source": [
        "## Ejercicio 1\n",
        "\n",
        "Crea 3 nuevos arrays.\n",
        "\n",
        "Array de tipo entero, que contenga solo los números impares del 1 al 100.\n",
        "\n",
        "Array de tipo cadena con tu nombre y apellidos\n",
        "\n",
        "Array de tipo fechas, que contenga todos los días desde el 01Enero2020 al 04Febrero2020"
      ],
      "metadata": {
        "id": "zUoLJvwrNKcC"
      }
    },
    {
      "cell_type": "code",
      "source": [
        "# Importación de libreria\n",
        "\n",
        "import numpy as np\n"
      ],
      "metadata": {
        "id": "7c0sdvlFN6LE"
      },
      "execution_count": null,
      "outputs": []
    },
    {
      "cell_type": "code",
      "source": [
        "one_to_undred_impar = np.arange(1, 100, 2, dtype = np.int16)\n",
        "print(one_to_undred_impar)"
      ],
      "metadata": {
        "colab": {
          "base_uri": "https://localhost:8080/"
        },
        "id": "RjRDroWdOBJA",
        "outputId": "3c94f1c1-f20e-4ba7-972c-0c884d4e165e"
      },
      "execution_count": null,
      "outputs": [
        {
          "output_type": "stream",
          "name": "stdout",
          "text": [
            "[ 1  3  5  7  9 11 13 15 17 19 21 23 25 27 29 31 33 35 37 39 41 43 45 47\n",
            " 49 51 53 55 57 59 61 63 65 67 69 71 73 75 77 79 81 83 85 87 89 91 93 95\n",
            " 97 99]\n"
          ]
        }
      ]
    },
    {
      "cell_type": "code",
      "source": [
        "my_name = np.array([\"Juan\", \"Cerezo\", \"Serrano\"], dtype = np.chararray)\n",
        "print(my_name)"
      ],
      "metadata": {
        "colab": {
          "base_uri": "https://localhost:8080/"
        },
        "id": "4KiDiP6wOXNH",
        "outputId": "a1ce4f16-8465-4352-da6f-60589c1c10f9"
      },
      "execution_count": null,
      "outputs": [
        {
          "output_type": "stream",
          "name": "stdout",
          "text": [
            "['Juan' 'Cerezo' 'Serrano']\n"
          ]
        }
      ]
    },
    {
      "cell_type": "code",
      "source": [
        "fechas_range = np.arange(\"2020-01-01\", \"2020-02-05\", dtype = \"datetime64\")\n",
        "print(fechas_range)"
      ],
      "metadata": {
        "colab": {
          "base_uri": "https://localhost:8080/"
        },
        "id": "LxvSpTQqPcdY",
        "outputId": "7f604534-ab40-4d7a-9975-f3cd6c2935f9"
      },
      "execution_count": null,
      "outputs": [
        {
          "output_type": "stream",
          "name": "stdout",
          "text": [
            "['2020-01-01' '2020-01-02' '2020-01-03' '2020-01-04' '2020-01-05'\n",
            " '2020-01-06' '2020-01-07' '2020-01-08' '2020-01-09' '2020-01-10'\n",
            " '2020-01-11' '2020-01-12' '2020-01-13' '2020-01-14' '2020-01-15'\n",
            " '2020-01-16' '2020-01-17' '2020-01-18' '2020-01-19' '2020-01-20'\n",
            " '2020-01-21' '2020-01-22' '2020-01-23' '2020-01-24' '2020-01-25'\n",
            " '2020-01-26' '2020-01-27' '2020-01-28' '2020-01-29' '2020-01-30'\n",
            " '2020-01-31' '2020-02-01' '2020-02-02' '2020-02-03' '2020-02-04']\n"
          ]
        }
      ]
    },
    {
      "cell_type": "markdown",
      "source": [
        "## Ejercicio 2\n",
        "\n",
        "Recupera los 10 últimos elementos del array de impares"
      ],
      "metadata": {
        "id": "swN1MajyT3iI"
      }
    },
    {
      "cell_type": "code",
      "source": [
        "last_ten = one_to_undred_impar[:len(one_to_undred_impar)-11:-1]\n",
        "print(last_ten)"
      ],
      "metadata": {
        "colab": {
          "base_uri": "https://localhost:8080/"
        },
        "id": "sOqRtTKBT-ok",
        "outputId": "57a9e94f-50be-4100-d0f9-49fd28718003"
      },
      "execution_count": null,
      "outputs": [
        {
          "output_type": "stream",
          "name": "stdout",
          "text": [
            "[99 97 95 93 91 89 87 85 83 81]\n"
          ]
        }
      ]
    },
    {
      "cell_type": "markdown",
      "source": [
        "## Recorre el array de fechas, y genera un nuevo array que contenga únicamente los dias laborables"
      ],
      "metadata": {
        "id": "kNDJMJSIVJEG"
      }
    },
    {
      "cell_type": "code",
      "source": [
        "fechas_range[np.is_busday(fechas_range)]"
      ],
      "metadata": {
        "colab": {
          "base_uri": "https://localhost:8080/"
        },
        "id": "hSK3SRx2VRay",
        "outputId": "1580777e-6340-402e-db1a-2c6d1e91dfa5"
      },
      "execution_count": null,
      "outputs": [
        {
          "output_type": "execute_result",
          "data": {
            "text/plain": [
              "array(['2020-01-01', '2020-01-02', '2020-01-03', '2020-01-06',\n",
              "       '2020-01-07', '2020-01-08', '2020-01-09', '2020-01-10',\n",
              "       '2020-01-13', '2020-01-14', '2020-01-15', '2020-01-16',\n",
              "       '2020-01-17', '2020-01-20', '2020-01-21', '2020-01-22',\n",
              "       '2020-01-23', '2020-01-24', '2020-01-27', '2020-01-28',\n",
              "       '2020-01-29', '2020-01-30', '2020-01-31', '2020-02-03',\n",
              "       '2020-02-04'], dtype='datetime64[D]')"
            ]
          },
          "metadata": {},
          "execution_count": 45
        }
      ]
    },
    {
      "cell_type": "markdown",
      "source": [
        "## Ejercicio 4\n",
        "Genera la siguiente matriz.\n",
        "\n",
        "![image.png](data:image/png;base64,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)\n",
        "\n",
        "¿De qué tipo es? Luego, implementa una máscara a todos los números de la matriz mayores o iguales a 10"
      ],
      "metadata": {
        "id": "_uiaT_N1XL-Q"
      }
    },
    {
      "cell_type": "code",
      "source": [
        "import numpy.ma as ma\n",
        "\n",
        "new_matrix = np.matrix(\"10 1 8 4 ; 3 7 2 1 ; 0 2 20 12\", dtype = np.int8)\n",
        "\n",
        "mask_implement = ma.masked_greater_equal(new_matrix, 10)\n",
        "\n",
        "print(mask_implement)"
      ],
      "metadata": {
        "colab": {
          "base_uri": "https://localhost:8080/"
        },
        "id": "K-u4zLfaXgDl",
        "outputId": "15c79eea-240c-40e2-c1c2-3abd1b202379"
      },
      "execution_count": null,
      "outputs": [
        {
          "output_type": "stream",
          "name": "stdout",
          "text": [
            "[[-- 1 8 4]\n",
            " [3 7 2 1]\n",
            " [0 2 -- --]]\n"
          ]
        }
      ]
    },
    {
      "cell_type": "markdown",
      "source": [
        "## Ejercicio 5\n",
        "\n",
        "Crea dos fechas, la primera de ellas será tu fecha de nacimiento, y la segunda, la de un familiar o amigo tuyo.\n",
        "\n",
        "¿Qué diferencia en horas hay entre las dos fechas?\n",
        "¿Cual sería tu fecha de nacimiento si hubieras nacido 236 horas antes?"
      ],
      "metadata": {
        "id": "CDY-xDiGauEm"
      }
    },
    {
      "cell_type": "code",
      "source": [
        "# Mi fecha de nacimiento\n",
        "\n",
        "my_birthday = np.Datetime64(\"1991-12-05\", \"h\")\n",
        "\n",
        "# Cumpleaños de mi hermano\n",
        "\n",
        "brothers_birthday = np.Datetime64(\"1996-09-06\", \"h\")\n",
        "\n",
        "hours_diferents = brothers_birthday - my_birthday\n",
        "\n",
        "print(f\"{hours_diferents} de diferencia\")\n",
        "\n",
        "# Mi fecha de naciemiento naciendo 236 horas antes\n",
        "\n",
        "my_birthday_new = my_birthday - 236\n",
        "\n",
        "print(my_birthday_new)\n"
      ],
      "metadata": {
        "colab": {
          "base_uri": "https://localhost:8080/"
        },
        "id": "iEvjJrvFbE60",
        "outputId": "7f659d16-7ea5-40b8-8aa0-3bfb2eab4dce"
      },
      "execution_count": null,
      "outputs": [
        {
          "output_type": "stream",
          "name": "stdout",
          "text": [
            "41688 hours de diferencia\n",
            "1991-11-25T04\n"
          ]
        }
      ]
    },
    {
      "cell_type": "markdown",
      "source": [
        "## Parte 2\n",
        "\n",
        "### Ejercicio 1\n",
        "\n",
        "Genera un array que contenga 25 elementos entre 0 y 99 siguiendo una distribución lineal. Luego, transforma ese array en una matriz de 5 x 5. ¿Cuál es la diagonal de la matriz? ¿Y la diagonal justo superior?"
      ],
      "metadata": {
        "id": "UQ_-bl8nYh-9"
      }
    },
    {
      "cell_type": "code",
      "source": [
        "# Parte 1 - Usamos el metodo linspace para los numeros y reshape para la matriz\n",
        "mi_nuevo_array = np.linspace(0, 99, num = 25, dtype = np.int8).reshape(5, 5)\n",
        "print(mi_nuevo_array, \"\\n\")\n",
        "\n",
        "print(f\"La diagonal de la matriz es: {np.diag(mi_nuevo_array)}\")\n",
        "print(f\"La diagonal justo superior es: {np.diag(mi_nuevo_array, k = 1)}\")"
      ],
      "metadata": {
        "colab": {
          "base_uri": "https://localhost:8080/"
        },
        "id": "KjLo2TprYs3N",
        "outputId": "24d6acab-6d4b-4d7b-8a10-3a52e391f7ff"
      },
      "execution_count": null,
      "outputs": [
        {
          "output_type": "stream",
          "name": "stdout",
          "text": [
            "[[ 0  4  8 12 16]\n",
            " [20 24 28 33 37]\n",
            " [41 45 49 53 57]\n",
            " [61 66 70 74 78]\n",
            " [82 86 90 94 99]] \n",
            "\n",
            "La diagonal de la matriz es: [ 0 24 49 74 99]\n",
            "La diagonal justo superior es: [ 4 28 53 78]\n"
          ]
        }
      ]
    },
    {
      "cell_type": "markdown",
      "source": [
        "## Ejercicio 2\n",
        "\n",
        "Crea un de 5 x 4 con el valor repetido 10. Une esa matriz a la matriz del ejercicio anterior para conseguir dos nuevas matrices, una de 5 x 9, y otra de 9 x 5.\n",
        "\n",
        "![image.png](data:image/png;base64,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)"
      ],
      "metadata": {
        "id": "c048J6sBa9FU"
      }
    },
    {
      "cell_type": "code",
      "source": [
        "# Parte 1 - creamos la matriz de 5x4 de valores 10\n",
        "\n",
        "new_array = np.full((5, 4), 10)\n",
        "print(new_array, \"\\n\")\n",
        "\n",
        "# Parte 2 - Unimos las matrices \n",
        "\n",
        "union_arrays = np.concatenate((mi_nuevo_array.T, new_array.T))\n",
        "print(union_arrays, \"\\n\")\n",
        "\n",
        "# Parte 3 - creamos la matriz de 5 x 9\n",
        "\n",
        "new_matriz_1 = union_arrays.reshape((5, 9))\n",
        "print(new_matriz_1, \"\\n\")\n",
        "\n",
        "# Parte 4 - creamos la matriz de 9 x 5\n",
        "\n",
        "new_matriz_2 = new_matriz_1.reshape((9, 5))\n",
        "print(new_matriz_2, \"\\n\")"
      ],
      "metadata": {
        "colab": {
          "base_uri": "https://localhost:8080/"
        },
        "id": "qTZj1ouiblC1",
        "outputId": "bacd8eb5-7aba-4b70-eb0d-48eb27ba647e"
      },
      "execution_count": null,
      "outputs": [
        {
          "output_type": "stream",
          "name": "stdout",
          "text": [
            "[[10 10 10 10]\n",
            " [10 10 10 10]\n",
            " [10 10 10 10]\n",
            " [10 10 10 10]\n",
            " [10 10 10 10]] \n",
            "\n",
            "[[ 0 20 41 61 82]\n",
            " [ 4 24 45 66 86]\n",
            " [ 8 28 49 70 90]\n",
            " [12 33 53 74 94]\n",
            " [16 37 57 78 99]\n",
            " [10 10 10 10 10]\n",
            " [10 10 10 10 10]\n",
            " [10 10 10 10 10]\n",
            " [10 10 10 10 10]] \n",
            "\n",
            "[[ 0 20 41 61 82  4 24 45 66]\n",
            " [86  8 28 49 70 90 12 33 53]\n",
            " [74 94 16 37 57 78 99 10 10]\n",
            " [10 10 10 10 10 10 10 10 10]\n",
            " [10 10 10 10 10 10 10 10 10]] \n",
            "\n",
            "[[ 0 20 41 61 82]\n",
            " [ 4 24 45 66 86]\n",
            " [ 8 28 49 70 90]\n",
            " [12 33 53 74 94]\n",
            " [16 37 57 78 99]\n",
            " [10 10 10 10 10]\n",
            " [10 10 10 10 10]\n",
            " [10 10 10 10 10]\n",
            " [10 10 10 10 10]] \n",
            "\n"
          ]
        }
      ]
    },
    {
      "cell_type": "markdown",
      "source": [
        "## Ejercicio 3\n",
        "\n",
        "Teniendo el array inicial que podéis ver justo abajo, debéis realizar las operaciones necesarias para obtener el array:\n",
        "\n",
        "INPUT:\n",
        "\n",
        "`a = np.array(['     este es un curso de openwebinars    '])`\n",
        "\n",
        "OUTPUT\n",
        "\n",
        "`array(['Este', 'Es', 'Un', 'Curso', 'De', 'Openwebinars'], dtype='`\n",
        "\n",
        "¿Qué elementos del array comienzan por 'E'?"
      ],
      "metadata": {
        "id": "lqd9PAyXgLVj"
      }
    },
    {
      "cell_type": "code",
      "source": [
        "# Array a transformar \n",
        "\n",
        "a = np.array(['     este es un curso de openwebinars    '])\n",
        "\n",
        "# Parte 1 - limpiar los espacios en blanco\n",
        "\n",
        "array_transform = np.char.strip(a)\n",
        "print(array_transform, \"\\n\")\n",
        "\n",
        "# Parte 2 - separamos cada palabra del string\n",
        "\n",
        "array_transform_1 = np.char.split(array_transform, sep = \" \")\n",
        "array_transform_2 = np.array(array_transform_1[0])\n",
        "print(array_transform, \"\\n\")\n",
        "\n",
        "# Parte 3 - Cambiamos las letras iniciales minusculas a mayusculas\n",
        "\n",
        "array_transform_3 = np.char.capitalize(array_transform_2)\n",
        "print(array_transform_3, \"\\n\")\n",
        "\n",
        "# Parte 4 - Sacamos los elementos que comienzan por E\n",
        "\n",
        "array_transform_4 = np.char.startswith(array_transform_3, prefix = \"E\") # Recordar que estas operaciones funcionan como filtros\n",
        "print(array_transform_3[array_transform_4])\n",
        "\n"
      ],
      "metadata": {
        "colab": {
          "base_uri": "https://localhost:8080/"
        },
        "id": "XE2QHREvgOC2",
        "outputId": "e8c47729-156e-4ffe-91b6-b111ea886300"
      },
      "execution_count": null,
      "outputs": [
        {
          "output_type": "stream",
          "name": "stdout",
          "text": [
            "['este es un curso de openwebinars'] \n",
            "\n",
            "['este es un curso de openwebinars'] \n",
            "\n",
            "['Este' 'Es' 'Un' 'Curso' 'De' 'Openwebinars'] \n",
            "\n",
            "['Este' 'Es']\n"
          ]
        }
      ]
    },
    {
      "cell_type": "markdown",
      "source": [
        "## Ejercicio 4\n",
        "Considerando las matrices A y B.\n",
        "\n",
        " ![image.png](data:image/png;base64,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)\n",
        " \n",
        " \n",
        "\n",
        "Realiza la multiplicación matricial de AxB y BxA. ¿Son iguales?\n",
        "\n",
        "Realiza la multiplicación de la matriz A x 2\n",
        "\n",
        "¿Cúanto es la multiplicación escalar de AxB? ¿y de BxA?"
      ],
      "metadata": {
        "id": "xXVhQCbBmj0V"
      }
    },
    {
      "cell_type": "code",
      "source": [
        "# Creamos las matrices\n",
        "\n",
        "matriz_a = np.matrix(\"3, 1, 2 ; 4 1 3 ; 2 0 1\", dtype = np.int8)\n",
        "matriz_b = np.matrix(\"2, 0, 3 ; 1 1 1 ; 0 2 4\", dtype = np.int8)\n",
        "\n",
        "print(matriz_a, \"\\n\")\n",
        "print(matriz_b, \"\\n\")\n",
        "\n",
        "# Realizamos la multiplicacion entre matriz_a y matriz_b\n",
        "\n",
        "matriz_dot_a = np.dot(matriz_a, matriz_b)\n",
        "print(matriz_dot_a, \"\\n\")\n",
        "\n",
        "# Realizamo la multiplicacion entre matriz_b y matriz_a\n",
        "\n",
        "matriz_dot_b = np.dot(matriz_b, matriz_a)\n",
        "print(matriz_dot_b, \"\\n\")\n",
        "\n",
        "# Comparamos sin son iguales los resultados de ambas multiplicaciones\n",
        "\n",
        "matriz_equal = np.equal(matriz_dot_a, matriz_dot_b)\n",
        "print(matriz_equal, \"\\n\")\n",
        "print(\"Como se puede ver el resultado de arriba da False donde no son iguales\\\n",
        "por tanto podemos decir que no son iguales \\n\")\n",
        "\n",
        "# Multiplicamos la matriz A por 2\n",
        "\n",
        "matriz_a_redot = np.dot(matriz_a, 2)\n",
        "print(matriz_a_redot, \"\\n\")\n",
        "\n",
        "# Multiplicacion escalar de A x B\n",
        "matriz_escalar_a = np.vdot(matriz_a, matriz_b)\n",
        "print(matriz_escalar_a, \"\\n\")\n",
        "\n",
        "# Multiplicacion escalar de B X A\n",
        "matriz_escalar_b = np.vdot(matriz_b, matriz_a)\n",
        "print(matriz_escalar_b, \"\\n\")"
      ],
      "metadata": {
        "colab": {
          "base_uri": "https://localhost:8080/"
        },
        "id": "ozgeX2BLmrE3",
        "outputId": "c2d02453-8a2a-43c1-b342-ed306f6aca8a"
      },
      "execution_count": null,
      "outputs": [
        {
          "output_type": "stream",
          "name": "stdout",
          "text": [
            "[[3 1 2]\n",
            " [4 1 3]\n",
            " [2 0 1]] \n",
            "\n",
            "[[2 0 3]\n",
            " [1 1 1]\n",
            " [0 2 4]] \n",
            "\n",
            "[[ 7  5 18]\n",
            " [ 9  7 25]\n",
            " [ 4  2 10]] \n",
            "\n",
            "[[12  2  7]\n",
            " [ 9  2  6]\n",
            " [16  2 10]] \n",
            "\n",
            "[[False False False]\n",
            " [ True False False]\n",
            " [False  True  True]] \n",
            "\n",
            "Como se puede ver el resultado de arriba da False donde no son igualespor tanto podemos decir que no son iguales \n",
            "\n",
            "[[6 2 4]\n",
            " [8 2 6]\n",
            " [4 0 2]] \n",
            "\n",
            "[[6]] \n",
            "\n",
            "[[6]] \n",
            "\n"
          ]
        }
      ]
    },
    {
      "cell_type": "markdown",
      "source": [
        "## Ejercicio 5\n",
        "\n",
        "Usando la matriz A del ejercicio anterior, calcula:\n",
        "\n",
        "A^3\n",
        "\n",
        "El determinante de A\n",
        "\n",
        "Resuelve la ecuación Ax = y, siendo *y* el array [3,2,5]"
      ],
      "metadata": {
        "id": "z6y9znnnrr4f"
      }
    },
    {
      "cell_type": "code",
      "source": [
        "# Matriz Ejercicio 4\n",
        "matriz_a = np.matrix(\"3, 1, 2 ; 4 1 3 ; 2 0 1\", dtype = np.int8)\n",
        "\n",
        "# Elevamos la matriz a 3\n",
        "\n",
        "matriz_elevada_3 = np.linalg.matrix_power(matriz_a, 3)\n",
        "print(matriz_elevada_3, \"\\n\")\n",
        "\n",
        "# Sacamos el derminante de matriz_a\n",
        "\n",
        "matriz_det = np.linalg.det(matriz_elevada_3)\n",
        "print(matriz_det, \"\\n\")\n",
        "\n",
        "# Resolvemos la ecuaión Ax = y siendo y = [3, 2, 5]\n",
        "# Declaramos y:\n",
        "y = np.array([3, 2, 5], dtype = np.int8)\n",
        "\n",
        "calculate = np.linalg.solve(matriz_a, y)\n",
        "print(calculate)\n",
        "\n"
      ],
      "metadata": {
        "colab": {
          "base_uri": "https://localhost:8080/"
        },
        "id": "4cN5dSYWryKh",
        "outputId": "e492c9cb-3006-4d15-ea7b-9b70a443e691"
      },
      "execution_count": null,
      "outputs": [
        {
          "output_type": "stream",
          "name": "stdout",
          "text": [
            "[[ 89  21  57]\n",
            " [114  27  73]\n",
            " [ 42  10  27]] \n",
            "\n",
            "1.000000000000012 \n",
            "\n",
            "[ 6. -1. -7.]\n"
          ]
        }
      ]
    },
    {
      "cell_type": "markdown",
      "source": [
        "## Parte 3\n",
        "\n",
        "### Ejercicio 1\n",
        "\n",
        "Usando el array que encontráis a continuación.\n",
        "\n",
        "`a = np.array([2, 5, 4, 2, 49, 34, 59, 21, 45, 6, 105])`\n",
        "\n",
        "¿Hay algún valor múltiplo de 7?\n",
        "\n",
        "Devuelve un array con todos los nº menores de 40 o que sean múltiplos de 7"
      ],
      "metadata": {
        "id": "xLVCPFYN4uB5"
      }
    },
    {
      "cell_type": "code",
      "source": [
        "a = np.array([2, 5, 4, 2, 49, 34, 59, 21, 45, 6, 105], dtype = np.int8)\n",
        "\n",
        "# Sacamos los valores que sean multiplos de 7\n",
        "\n",
        "multi_7 = np.any(a % 7 == 0)\n",
        "print(multi_7)\n",
        "\n",
        "# Array con n < 40 y a % 7 == 0 (multiplos de 7)\n",
        "\n",
        "new_array = a[np.logical_or(a < 40, a % 7 == 0)]\n",
        "print([new_array])"
      ],
      "metadata": {
        "colab": {
          "base_uri": "https://localhost:8080/"
        },
        "id": "r06i57Rq45Id",
        "outputId": "5e42019d-d43b-4211-bea2-bbf2e66e9fca"
      },
      "execution_count": null,
      "outputs": [
        {
          "output_type": "stream",
          "name": "stdout",
          "text": [
            "True\n",
            "[array([  2,   5,   4,   2,  49,  34,  21,   6, 105], dtype=int8)]\n"
          ]
        }
      ]
    },
    {
      "cell_type": "markdown",
      "source": [
        "## Ejercicio 2\n",
        "\n",
        "Usando el array resultado del ejercicio anterior, calcula:\n",
        "\n",
        "El producto de todos sus valores\n",
        "\n",
        "Convierte el array el una matriz 3x3 y realiza la suma por filas\n",
        "\n",
        "Calcula el log10 de cada elemento de la matriz que acabas de crear"
      ],
      "metadata": {
        "id": "Wpl3FIiX45dJ"
      }
    },
    {
      "cell_type": "code",
      "source": [
        "# Calculamos el producto del array resultante del ejercicio 1\n",
        "\n",
        "new_array_product = np.prod(new_array)\n",
        "print(new_array_product)\n",
        "# Convertir new_array en matriz 3x3\n",
        "new_array_matrix = new_array.reshape(3, 3)\n",
        "print(new_array_matrix, \"\\n\")\n",
        "\n",
        "# Realizamoa la suma por filas\n",
        "\n",
        "new_array_sum = np.sum(new_array_matrix, axis = 1)\n",
        "print(new_array_sum, \"\\n\")\n",
        "\n",
        "# Calculamos el log10 del último array creado\n",
        "\n",
        "new_array_log = np.log10(new_array_matrix)\n",
        "print(new_array_log)"
      ],
      "metadata": {
        "colab": {
          "base_uri": "https://localhost:8080/"
        },
        "id": "e5SX00es4-RJ",
        "outputId": "35dbf8a6-724f-458d-e793-9fb6ed7808fe"
      },
      "execution_count": null,
      "outputs": [
        {
          "output_type": "stream",
          "name": "stdout",
          "text": [
            "1763294400\n",
            "[[  2   5   4]\n",
            " [  2  49  34]\n",
            " [ 21   6 105]] \n",
            "\n",
            "[ 11  85 132] \n",
            "\n",
            "[[0.301  0.6987 0.602 ]\n",
            " [0.301  1.69   1.531 ]\n",
            " [1.322  0.7783 2.021 ]]\n"
          ]
        }
      ]
    },
    {
      "cell_type": "markdown",
      "source": [
        "## Ejercicio 3\n",
        "\n",
        "Haciendo uso de la matriz 3x3 creada en el ejercicio anterior y del siguiente array a, calcule:\n",
        "\n",
        "![image.png](data:image/png;base64,iVBORw0KGgoAAAANSUhEUgAAAGsAAAAfCAYAAADgDDPbAAAAAXNSR0IArs4c6QAAAARnQU1BAACxjwv8YQUAAAAJcEhZcwAADsMAAA7DAcdvqGQAAAVtSURBVGhD7Zp/TBNnHMafzWWY/XGEJSUuoTGNF410GsFYV0K0xsR2P6ITlroFcGFxEwbJVBKs6GSaiWyTbGOgCzAyYWxQjYP+YVoTR5ct7bLNkmwcifNIkJJI2kxDFwlNNO/eu75IC2gJraan90n63r3fa+76vs/7fp97X3iKUKCiCJ5mRxUFoIqlIFSxFIQqloJQxVIQqlgKQhVLQahiKYiUEys8bIet2g5xkgUeW/xwVJWjbSjM6vFJrR2MW27UFvRifecX2J7FYpMiHI11sI/zyHlWhDfNgvpDVvDPsesJEh7qRO3nArhsYMglYsWeetS8wSONXU+E8LgA4bYW+hWcfL/wLRHCWDr0azSR+0vttXRAb2+HdbkUiIMkVmowRTwnDaT022v0bJpIzHDESSai6rpD0/UEudlPjhoKSdMfkbtNuA4SnU5HyhwBuZ4oAUeZfL97H0MROeUajWofIaPnSomuoo8s5Impkwav96G1JRevb40a1SEvnC1B5BpywcmBNOg3WIDuXrjH5UBijAlwBn1oOO2kSQngNFo57BJELDw5PRj9zgrU2GpQ//V5XHJ+h6pt2phZq926C9aLrXD+wwIPIGXE8nsdcOfnIXs6/UkMC+ikB21GRCoJ7vlMWrowKCahO9eUoKurC102CySZQjcDcti8KiumQxMhfYMVe97bA+u2XPAZLBhNRjbyzLSdvwoscH/mFSs87EBdZTnN5XUoL7Sh+WwbOr1BdvVhEKK6eIBsXu60aYJjg+xsLkNjkY5NDA680QjjSmkw+OH+sRMaYwV2m6J/RWIE/nKg+cN9sNGXCVuLF8G77MI9tMiifin6hhGvh59hx3uEB5pRVNgPY0c7avI5hHNqsfqdOpi/3IES9p0Yxt1oaHTGfZDM2hLUv6lnlWj8EAeAvLeY8T5SQvCeqUOPzwfvZAkO11bCON8MWAxL0sBl6GE9UAHNkiBc1Rux8d16/NxujRmUmiwz4AhAGn6aSGh+mHcxBknrq9QIqeGNskjEJEtJzwgLPBSukCZqwEU/TD81wrRBn/glypJ9TXJs9neTwYTnFHlNZyBl55J/b4l520OJxE8QT2x4DrFp8E8n6oYAU34OUz4E4XcXTU/rwS+TA48UTdaL7Gwu2VmSdyVKGKHQjPdxxi0w0Rzhqm6DO8SCi0aEvboYxV9557ysLDaFx4gVvCHSMg95a1lHhAV4umin5VNzpD5mH5inBVIarLHBtpBP9/1MVEOfAUzdndWsF7SgCQLi+Ezjgjeu0dIEXptowgzBfWwT1q1bjX0XZ5L4UrkMIJToojw0BuG8B9dG/AiwZk3d/o+WeuTwsQNt6g4tstPjWwCbYRFoijHoCkmHGKmOXviA1nXkoCtAPJ+WklYhzjxdNBOk/whNvyc9MWuQuesqtu46MJOmE2Hwm0KiKzhK+kT2VLGDFNH2bvqoPwnrOKlNm2ZS3h1qMQU6+tt7yOisbrzSGLGeeGutWTsYYfhayrHflQnTqilwuS8j09eApquZMOZX4Ph+I1vvJB9/dzE2XzDjkr0EPIvJ3PXD9VktWsd4GDkRAmdB1V4r9El5CQjBd7YBHb9NIH35Uvj/BvidFpS8YoI2GTskkzQVfmyD/Tqdr/8GwJkqUfP+dvAxneiHo3wzel+6hDNvx9k5kSVLBUZ6SKmujPT5Wf1J4aaTHKQvcB1X42et1NnBWG7B7iIfWi9Lvvnk4L/cg/6iXdixMr4Hp45YNMGaKo5jxekGOJKxlaQEbrnR1szh8F7zguwlhcSiLDPjk++34Kdjdnmv7vGGetVJJ/jG4zN/YYiD+k+eCiK1ZpbKA1HFUhCqWApCFUtBqGIpBuB/7y6maD3N6XUAAAAASUVORK5CYII=)\n",
        "\n",
        "La suma de la matriz más el vector\n",
        "\n",
        "La división de ambos. \n",
        "\n",
        "¿qué ocurre? Modifique el valor extraño por 0.\n",
        "\n",
        "El valor máximo de la matriz resultado de la división. \n",
        "\n",
        "¿y por filas? \n",
        "\n",
        "¿y por columnas?"
      ],
      "metadata": {
        "id": "UBMgoFG04-hO"
      }
    },
    {
      "cell_type": "code",
      "source": [
        "# Definimos el array a \n",
        "\n",
        "a = np.asarray([0, 3, 5], dtype = np.int8)\n",
        "print(a, \"\\n\")\n",
        "\n",
        "# Sumamos la new_array_matrix con el array a\n",
        "\n",
        "\n",
        "sum_arrays = np.add(new_array_matrix, a)\n",
        "print(sum_arrays, \"\\n\")\n",
        "\n",
        "division_array = np.divide(new_array_matrix, a)\n",
        "print(division_array, \"\\n\")\n",
        "\n",
        "# Reemplazamos inf por 0\n",
        "\n",
        "division_array[np.isinf(division_array)] = 0\n",
        "print(division_array, \"\\n\")\n",
        "\n",
        "# Valor maximo de division_array\n",
        "\n",
        "max_value = np.max(division_array)\n",
        "print(max_value, \"\\n\")\n",
        "\n",
        "# Valor máximo por filas\n",
        "\n",
        "row_max = np.max(division_array, axis = 0)\n",
        "print(row_max, \"\\n\")\n",
        "\n",
        "# Valor máximo por columnas\n",
        "\n",
        "max_column = np.max(division_array, axis = 1)\n",
        "print(max_column, \"\\n\")"
      ],
      "metadata": {
        "colab": {
          "base_uri": "https://localhost:8080/"
        },
        "id": "hR_IH7N35DXE",
        "outputId": "cfd9be71-0bba-48d7-a4d7-356ce99370ac"
      },
      "execution_count": null,
      "outputs": [
        {
          "output_type": "stream",
          "name": "stdout",
          "text": [
            "[0 3 5] \n",
            "\n",
            "[[  2   8   9]\n",
            " [  2  52  39]\n",
            " [ 21   9 110]] \n",
            "\n",
            "[[        inf  1.66666667  0.8       ]\n",
            " [        inf 16.33333333  6.8       ]\n",
            " [        inf  2.         21.        ]] \n",
            "\n",
            "[[ 0.          1.66666667  0.8       ]\n",
            " [ 0.         16.33333333  6.8       ]\n",
            " [ 0.          2.         21.        ]] \n",
            "\n",
            "21.0 \n",
            "\n",
            "[ 0.         16.33333333 21.        ] \n",
            "\n",
            "[ 1.66666667 16.33333333 21.        ] \n",
            "\n"
          ]
        },
        {
          "output_type": "stream",
          "name": "stderr",
          "text": [
            "/usr/local/lib/python3.7/dist-packages/ipykernel_launcher.py:12: RuntimeWarning: divide by zero encountered in true_divide\n",
            "  if sys.path[0] == '':\n"
          ]
        }
      ]
    },
    {
      "cell_type": "markdown",
      "source": [
        "## Ejercicio 4\n",
        "\n",
        "```python\n",
        "array = np.array([44, 28,  8, 34, 34, 26, 32, 12, 28,  6, 19, 12, 46, 20, 20, 49, 18,\n",
        "       19, 15, 15, 43,  3, 17, 33, 27, 10, 18,  2,  3,  3, 35, 35, 21, 17,\n",
        "       36, 31, 16, 27,  6, 46, 29, 25, 26, 48, 30, 19, 18,  1, 43, 10, 32,\n",
        "       15, 32, 30, 40, 41, 11, 46, 39,  5, 40,  1, 26, 10, 18, 26, 25, 25,\n",
        "       21, 30, 12, 46,  1, 43,  1,  3, 26, 24,  0, 36, 34,  7, 26, 25, 41,\n",
        "       22,  1, 16, 43,  1, 46, 14, 17, 39, 12,  9, 42, 48,  9, 45, 47, 32,\n",
        "       15,  6, 40, 18,  6, 13, 35,  8, 46, 48, 26, 23, 12, 29, 21,  6,  3,\n",
        "       22, 27, 16, 27, 10, 28, 23,  5, 24, 17, 43, 25, 11, 38, 40, 32, 42,\n",
        "       27, 32,  6, 16, 18, 10, 18, 34, 34,  3,  4,  5,  4,  0, 35, 30,  9,\n",
        "       16, 32, 46,  7, 10, 20, 13, 48,  8, 27, 27, 27, 16, 17, 12, 35, 31,\n",
        "       21, 29, 15, 49, 14, 22, 18,  0, 13, 14, 39, 30,  4, 48,  1, 19, 33,\n",
        "       39,  9,  0, 24,  6, 12, 24, 29, 16, 11, 12, 13, 11])\n",
        "\n",
        "array\n",
        "array([44, 28,  8, 34, 34, 26, 32, 12, 28,  6, 19, 12, 46, 20, 20, 49, 18,\n",
        "       19, 15, 15, 43,  3, 17, 33, 27, 10, 18,  2,  3,  3, 35, 35, 21, 17,\n",
        "       36, 31, 16, 27,  6, 46, 29, 25, 26, 48, 30, 19, 18,  1, 43, 10, 32,\n",
        "       15, 32, 30, 40, 41, 11, 46, 39,  5, 40,  1, 26, 10, 18, 26, 25, 25,\n",
        "       21, 30, 12, 46,  1, 43,  1,  3, 26, 24,  0, 36, 34,  7, 26, 25, 41,\n",
        "       22,  1, 16, 43,  1, 46, 14, 17, 39, 12,  9, 42, 48,  9, 45, 47, 32,\n",
        "       15,  6, 40, 18,  6, 13, 35,  8, 46, 48, 26, 23, 12, 29, 21,  6,  3,\n",
        "       22, 27, 16, 27, 10, 28, 23,  5, 24, 17, 43, 25, 11, 38, 40, 32, 42,\n",
        "       27, 32,  6, 16, 18, 10, 18, 34, 34,  3,  4,  5,  4,  0, 35, 30,  9,\n",
        "       16, 32, 46,  7, 10, 20, 13, 48,  8, 27, 27, 27, 16, 17, 12, 35, 31,\n",
        "       21, 29, 15, 49, 14, 22, 18,  0, 13, 14, 39, 30,  4, 48,  1, 19, 33,\n",
        "       39,  9,  0, 24,  6, 12, 24, 29, 16, 11, 12, 13, 11])\n",
        "```\n",
        "\n",
        "Considerando el array de números que podéis encontrar justo arriba, calcula:\n",
        "\n",
        "Valor medio y mediano\n",
        "\n",
        "¿Qué valor se encuentra en el tercer cuártil?\n",
        "\n",
        "¿Qué valor se encuentra en el percentil 25? \n",
        "\n",
        "¿y en el 50? \n",
        "\n",
        "¿con qué valor coincide este último?\n",
        "\n",
        "¿Cuál es la desviación estándar y la varianza del conjunto de datos?"
      ],
      "metadata": {
        "id": "1mJcR3-j5Do4"
      }
    },
    {
      "cell_type": "code",
      "source": [
        "# Definimos el array\n",
        "\n",
        "array = np.array([44, 28,  8, 34, 34, 26, 32, 12, 28, 6, 19, 12, 46, 20, 20, 49, 18,\n",
        "       19, 15, 15, 43, 3, 17, 33, 27, 10, 18, 2,  3, 3, 35, 35, 21, 17,\n",
        "       36, 31, 16, 27, 6, 46, 29, 25, 26, 48, 30, 19, 18, 1, 43, 10, 32,\n",
        "       15, 32, 30, 40, 41, 11, 46, 39, 5, 40, 1, 26, 10, 18, 26, 25, 25,\n",
        "       21, 30, 12, 46, 1, 43, 1, 3, 26, 24, 0, 36, 34, 7, 26, 25, 41,\n",
        "       22, 1, 16, 43, 1, 46, 14, 17, 39, 12, 9, 42, 48, 9, 45, 47, 32,\n",
        "       15, 6, 40, 18, 6, 13, 35, 8, 46, 48, 26, 23, 12, 29, 21, 6, 3,\n",
        "       22, 27, 16, 27, 10, 28, 23, 5, 24, 17, 43, 25, 11, 38, 40, 32, 42,\n",
        "       27, 32, 6, 16, 18, 10, 18, 34, 34, 3, 4, 5, 4, 0, 35, 30, 9,\n",
        "       16, 32, 46, 7, 10, 20, 13, 48, 8, 27, 27, 27, 16, 17, 12, 35, 31,\n",
        "       21, 29, 15, 49, 14, 22, 18, 0, 13, 14, 39, 30, 4, 48, 1, 19, 33,\n",
        "       39, 9, 0, 24, 6, 12, 24, 29, 16, 11, 12, 13, 11])\n",
        "\n",
        "# Valor medio\n",
        "\n",
        "array_mean = np.mean(array)\n",
        "print(array_mean, \"\\n\")\n",
        "\n",
        "# Valor mediano\n",
        "\n",
        "array_median = np.median(array)\n",
        "print(array_median, \"\\n\")\n",
        "\n",
        "# Percentil en la posicion 25\n",
        "\n",
        "array_percentil_25 = np.percentile(array, 25)\n",
        "print(array_percentil_25, \"\\n\")\n",
        "\n",
        "# Percentil en la posicion 50\n",
        "\n",
        "array_percentil_50 = np.percentile(array, 50)\n",
        "print(array_percentil_50, \"\\n\")\n",
        "\n",
        "# Con que valor corresponde el percentile de 50\n",
        "\n",
        "print(f\"El valor de percentile 50: {array_percentil_50} es\\\n",
        "igual que el de la mediana que hemos sacado antes que es: {array_median} \\n\")\n",
        "\n",
        "# Desviacion estandar de array\n",
        "\n",
        "std_array = np.std(array)\n",
        "print(f\"La desviacion estandar de array en {std_array} \\n\")\n",
        "\n",
        "# Varianza de array\n",
        "\n",
        "vari_array = np.var(array)\n",
        "print(f\"La varianza de array es {vari_array} \\n\")\n",
        "\n",
        "# Podemos comprobar la varianza usando el metodo .sqtr\n",
        "\n",
        "print(f\"Comprobacion de que la varianza es correcta {np.sqrt(vari_array)}\")\n"
      ],
      "metadata": {
        "colab": {
          "base_uri": "https://localhost:8080/"
        },
        "id": "etcYRgbb5m9h",
        "outputId": "e3f284ff-ffde-4fe9-b13b-c8e97c0d360a"
      },
      "execution_count": null,
      "outputs": [
        {
          "output_type": "stream",
          "name": "stdout",
          "text": [
            "22.405 \n",
            "\n",
            "21.0 \n",
            "\n",
            "11.75 \n",
            "\n",
            "21.0 \n",
            "\n",
            "El valor de percentile 50: 21.0 esigual que el de la mediana que hemos sacado antes que es: 21.0 \n",
            "\n",
            "La desviacion estandar de array en 13.66934435150421 \n",
            "\n",
            "La varianza de array es 186.85097500000003 \n",
            "\n",
            "Comprobacion de que la varianza es correcta 13.66934435150421\n"
          ]
        }
      ]
    },
    {
      "cell_type": "markdown",
      "source": [
        "## Preguntas del examen"
      ],
      "metadata": {
        "id": "i-ay4Qz11mU3"
      }
    },
    {
      "cell_type": "code",
      "source": [
        "np.datetime64('2020-03-14T11') == np.datetime64('2020-03-14T11:00:00.00')"
      ],
      "metadata": {
        "colab": {
          "base_uri": "https://localhost:8080/"
        },
        "id": "KIWK7s1VpuTU",
        "outputId": "ce38a7ac-afbb-4549-c1bc-ca0b593be3e1"
      },
      "execution_count": null,
      "outputs": [
        {
          "output_type": "execute_result",
          "data": {
            "text/plain": [
              "True"
            ]
          },
          "metadata": {},
          "execution_count": 148
        }
      ]
    },
    {
      "cell_type": "code",
      "source": [
        "a = np.array([0,1,2,3,4,5,6,7,8,9])\n",
        "print(a[0:8:3])\n"
      ],
      "metadata": {
        "colab": {
          "base_uri": "https://localhost:8080/"
        },
        "id": "RvYhd7uPtGaq",
        "outputId": "3c55b0f5-ea26-49fa-f7e6-44b36dfbe600"
      },
      "execution_count": null,
      "outputs": [
        {
          "output_type": "stream",
          "name": "stdout",
          "text": [
            "[0 3 6]\n"
          ]
        }
      ]
    },
    {
      "cell_type": "code",
      "source": [
        "np.datetime64('2020-08-01') + np.timedelta64(10, 'D')"
      ],
      "metadata": {
        "colab": {
          "base_uri": "https://localhost:8080/"
        },
        "id": "UDwwAt6_tHIq",
        "outputId": "6a2a37fe-148d-47cd-b6aa-8702b783b24c"
      },
      "execution_count": null,
      "outputs": [
        {
          "output_type": "execute_result",
          "data": {
            "text/plain": [
              "numpy.datetime64('2020-08-11')"
            ]
          },
          "metadata": {},
          "execution_count": 150
        }
      ]
    },
    {
      "cell_type": "code",
      "source": [
        "a = np.array([0,1,2,3,4,5,6,7,8,9])\n",
        "b = np.array([False, False, False, False, False,  True,  True,  True,  True, True])\n",
        "\n",
        "a * b"
      ],
      "metadata": {
        "colab": {
          "base_uri": "https://localhost:8080/"
        },
        "id": "1QIKsJLhuF3c",
        "outputId": "8a1af49d-3faa-46a9-bf6b-5894d9fb72f7"
      },
      "execution_count": null,
      "outputs": [
        {
          "output_type": "execute_result",
          "data": {
            "text/plain": [
              "array([0, 0, 0, 0, 0, 5, 6, 7, 8, 9])"
            ]
          },
          "metadata": {},
          "execution_count": 151
        }
      ]
    },
    {
      "cell_type": "code",
      "source": [
        "np.datetime64('2020') == np.datetime64('2020-01-01')\n"
      ],
      "metadata": {
        "colab": {
          "base_uri": "https://localhost:8080/"
        },
        "id": "cWXCAznTuzZ5",
        "outputId": "5b092c49-b2c1-4950-e50a-52bb584c13bf"
      },
      "execution_count": null,
      "outputs": [
        {
          "output_type": "execute_result",
          "data": {
            "text/plain": [
              "True"
            ]
          },
          "metadata": {},
          "execution_count": 152
        }
      ]
    },
    {
      "cell_type": "code",
      "source": [
        "a = np.array([0,1,2,3,4,5,6,7,8,9])\n",
        "a[9::-1]"
      ],
      "metadata": {
        "colab": {
          "base_uri": "https://localhost:8080/"
        },
        "id": "IYSvB5Hfvedl",
        "outputId": "e77f087f-dec8-43e9-eb48-65f472891d9d"
      },
      "execution_count": null,
      "outputs": [
        {
          "output_type": "execute_result",
          "data": {
            "text/plain": [
              "array([9, 8, 7, 6, 5, 4, 3, 2, 1, 0])"
            ]
          },
          "metadata": {},
          "execution_count": 153
        }
      ]
    },
    {
      "cell_type": "code",
      "source": [
        "np.matrix('1 2 3 ; 4 5 6')"
      ],
      "metadata": {
        "colab": {
          "base_uri": "https://localhost:8080/"
        },
        "id": "UOo3uzM6v836",
        "outputId": "c164eebd-7fba-4365-c81e-ce244b66a6a1"
      },
      "execution_count": null,
      "outputs": [
        {
          "output_type": "execute_result",
          "data": {
            "text/plain": [
              "matrix([[1, 2, 3],\n",
              "        [4, 5, 6]])"
            ]
          },
          "metadata": {},
          "execution_count": 155
        }
      ]
    },
    {
      "cell_type": "code",
      "source": [
        "a = np.arange(10)\n",
        "a.reshape((2,5))\n"
      ],
      "metadata": {
        "colab": {
          "base_uri": "https://localhost:8080/"
        },
        "id": "NJIFgJacxT9M",
        "outputId": "40b8b065-59a9-4810-c638-2dfc214cc7c4"
      },
      "execution_count": null,
      "outputs": [
        {
          "output_type": "execute_result",
          "data": {
            "text/plain": [
              "array([[0, 1, 2, 3, 4],\n",
              "       [5, 6, 7, 8, 9]])"
            ]
          },
          "metadata": {},
          "execution_count": 156
        }
      ]
    }
  ]
}