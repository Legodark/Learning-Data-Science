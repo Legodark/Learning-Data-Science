{
  "nbformat": 4,
  "nbformat_minor": 0,
  "metadata": {
    "colab": {
      "provenance": [],
      "collapsed_sections": [],
      "authorship_tag": "ABX9TyOIZrCRtGTJwttYruJJfr3s",
      "include_colab_link": true
    },
    "kernelspec": {
      "name": "python3",
      "display_name": "Python 3"
    },
    "language_info": {
      "name": "python"
    }
  },
  "cells": [
    {
      "cell_type": "markdown",
      "metadata": {
        "id": "view-in-github",
        "colab_type": "text"
      },
      "source": [
        "<a href=\"https://colab.research.google.com/github/Legodark/Learning-Data-Science/blob/import_colab/colab_notebooks/Python/Filter_Exercices.ipynb\" target=\"_parent\"><img src=\"https://colab.research.google.com/assets/colab-badge.svg\" alt=\"Open In Colab\"/></a>"
      ]
    },
    {
      "cell_type": "markdown",
      "source": [
        "# ***Filter Exercices***\n",
        "\n",
        "[Map Exercices Link](https://holypython.com/intermediate-python-exercises/exercise-14-python-filter-function/)"
      ],
      "metadata": {
        "id": "QIcHRg269lr5"
      }
    },
    {
      "cell_type": "markdown",
      "source": [
        "## Exercices 1 - Using filter() function filter the list so that only negative numbers are left."
      ],
      "metadata": {
        "id": "Jhzxc3ve9vti"
      }
    },
    {
      "cell_type": "code",
      "source": [
        "lst1 = [12, -1, 9, 8, -0.5, -0.2, -100]\n",
        "\n",
        "lst2 = list(filter(lambda n: n <= 0, lst1))\n",
        "\n",
        "\n",
        "print(lst2)"
      ],
      "metadata": {
        "colab": {
          "base_uri": "https://localhost:8080/"
        },
        "id": "IifTG9xV9zqp",
        "outputId": "da4ba3f5-6ae1-433b-e1f8-429fa41cc438"
      },
      "execution_count": null,
      "outputs": [
        {
          "output_type": "stream",
          "name": "stdout",
          "text": [
            "[-1, -0.5, -0.2, -100]\n"
          ]
        }
      ]
    },
    {
      "cell_type": "markdown",
      "source": [
        "## Exercices 2 - Using filter function, filter the even numbers so that only odd numbers are passed to the new list."
      ],
      "metadata": {
        "id": "L5gwiRl790C7"
      }
    },
    {
      "cell_type": "code",
      "source": [
        "lst1 = [22, 100, 19, 13, 11, 1, 4, 66]\n",
        "\n",
        "lst2 = list(filter(lambda n: n % 2, lst1))\n",
        "\n",
        "print(lst2)"
      ],
      "metadata": {
        "colab": {
          "base_uri": "https://localhost:8080/"
        },
        "id": "zYLE6xZN94u8",
        "outputId": "b4f3a2cb-eb12-486c-9dc5-35e3a87c5c34"
      },
      "execution_count": null,
      "outputs": [
        {
          "output_type": "stream",
          "name": "stdout",
          "text": [
            "[19, 13, 11, 1]\n"
          ]
        }
      ]
    },
    {
      "cell_type": "markdown",
      "source": [
        "## Exercices 3 - Using filter() and list() functions and .lower() method filter all the vowels in a given string."
      ],
      "metadata": {
        "id": "OoR07rmy95QA"
      }
    },
    {
      "cell_type": "code",
      "source": [
        "str1 = \"Winter Olympics in 2022 will take place in Beijing China\"\n",
        "\n",
        "lst = list(filter(lambda letter: True if letter.lower() in \"aeiou\" else False, str1))\n",
        "\n",
        "print(lst)"
      ],
      "metadata": {
        "colab": {
          "base_uri": "https://localhost:8080/"
        },
        "id": "xNXeTmcs98iP",
        "outputId": "356af449-9869-4d83-d9c0-31e51cc0f179"
      },
      "execution_count": null,
      "outputs": [
        {
          "output_type": "stream",
          "name": "stdout",
          "text": [
            "['i', 'e', 'O', 'i', 'i', 'i', 'a', 'e', 'a', 'e', 'i', 'e', 'i', 'i', 'i', 'a']\n"
          ]
        }
      ]
    },
    {
      "cell_type": "markdown",
      "source": [
        "## Exercices 4 - This time using filter() and list() functions filter all the positive integers in the string."
      ],
      "metadata": {
        "id": "jIPp8sTL98xn"
      }
    },
    {
      "cell_type": "code",
      "source": [
        "str1 = \"Winter Olympics in 2022 will take place in Beijing China\"\n",
        "\n",
        "lst = list(filter(lambda n : True if n in \"0123456789\" else False,str1))\n",
        "\n",
        "print(lst)"
      ],
      "metadata": {
        "colab": {
          "base_uri": "https://localhost:8080/"
        },
        "id": "pM2QuVRz9_z3",
        "outputId": "ec51db90-3e93-46d2-9204-b0cb8cdfd140"
      },
      "execution_count": null,
      "outputs": [
        {
          "output_type": "stream",
          "name": "stdout",
          "text": [
            "['2', '0', '2', '2']\n"
          ]
        }
      ]
    },
    {
      "cell_type": "markdown",
      "source": [
        "## Exercices 5 - Using map() and filter() functions add 2000 to the values below 8000."
      ],
      "metadata": {
        "id": "aLmSj3n_9__E"
      }
    },
    {
      "cell_type": "code",
      "source": [
        "lst1 = [1000, 500, 600, 700, 5000, 90000, 17500]\n",
        "\n",
        "lst2 = list(map(lambda n : n + 2000, filter(lambda n: n < 8000, lst1)))\n",
        "\n",
        "print(lst2)\n"
      ],
      "metadata": {
        "colab": {
          "base_uri": "https://localhost:8080/"
        },
        "id": "i7Ee9jO6-EQz",
        "outputId": "0f4dd40f-4b2f-4a9d-834e-d2c5560b5073"
      },
      "execution_count": null,
      "outputs": [
        {
          "output_type": "stream",
          "name": "stdout",
          "text": [
            "[3000, 2500, 2600, 2700, 7000]\n"
          ]
        }
      ]
    },
    {
      "cell_type": "markdown",
      "source": [
        "## Exercices 6 - This time swap the map() and filter() functions so that map() function is inside filter() function. Convert a number to positive if it's negative in the list. Only pass those that are converted from negative to positive to the new list."
      ],
      "metadata": {
        "id": "NnwaPLWy-Eq3"
      }
    },
    {
      "cell_type": "code",
      "source": [
        "lst1 = [-1000, 500, -600, 700, 5000, -90000, -17500]\n",
        "\n",
        "lst2 = list(map(abs, filter(lambda n: n < 0, lst1)))\n",
        "\n",
        "print(lst2)"
      ],
      "metadata": {
        "colab": {
          "base_uri": "https://localhost:8080/"
        },
        "id": "x0VRCp5z-IZR",
        "outputId": "d47aeebf-c1e1-436e-abea-eb9b54f5af57"
      },
      "execution_count": null,
      "outputs": [
        {
          "output_type": "stream",
          "name": "stdout",
          "text": [
            "[1000, 600, 90000, 17500]\n"
          ]
        }
      ]
    }
  ]
}