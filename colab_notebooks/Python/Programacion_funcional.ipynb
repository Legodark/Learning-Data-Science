{
  "nbformat": 4,
  "nbformat_minor": 0,
  "metadata": {
    "colab": {
      "provenance": [],
      "collapsed_sections": [],
      "authorship_tag": "ABX9TyNFqFY6bCvsm3xjZ4Ix94Eh",
      "include_colab_link": true
    },
    "kernelspec": {
      "name": "python3",
      "display_name": "Python 3"
    },
    "language_info": {
      "name": "python"
    }
  },
  "cells": [
    {
      "cell_type": "markdown",
      "metadata": {
        "id": "view-in-github",
        "colab_type": "text"
      },
      "source": [
        "<a href=\"https://colab.research.google.com/github/Legodark/Learning-Data-Science/blob/import_colab/colab_notebooks/Python/Programacion_funcional.ipynb\" target=\"_parent\"><img src=\"https://colab.research.google.com/assets/colab-badge.svg\" alt=\"Open In Colab\"/></a>"
      ]
    },
    {
      "cell_type": "markdown",
      "source": [
        "# Functional Programing\n",
        "\n",
        "## Map, filter and reduce\n",
        "\n",
        "### Map\n",
        "\n",
        "Functions `map()`, `filter()` and `reduce()` are very poweful and help us maintain our code clean.\n",
        "\n",
        "Use this functions on iterables objets, for examples list, dictionarys, "
      ],
      "metadata": {
        "id": "VK_xaHkuVsBx"
      }
    },
    {
      "cell_type": "markdown",
      "source": [
        "## Higher-order functions \n",
        "\n",
        "O funciones que aceptan otra función como parametro"
      ],
      "metadata": {
        "id": "uhVftlPuYOHo"
      }
    },
    {
      "cell_type": "code",
      "source": [
        "def put_starts(text):\n",
        "  return f\"⭐⭐⭐{text}⭐⭐⭐\"\n",
        "\n",
        "\n",
        "def triple(text):\n",
        "  return f\"{text}, \" * 3\n",
        "\n",
        "\n",
        "def do_nothing(text):\n",
        "  pass\n",
        "\n",
        "\n",
        "def greet(name):\n",
        "  print(f\"Hi, {name}!\")\n",
        "\n",
        "\n",
        "def inter_function(my_function, name):\n",
        "  print(my_function(f\"Hi, {name}!\"))"
      ],
      "metadata": {
        "id": "qMsxN65VYX3m"
      },
      "execution_count": null,
      "outputs": []
    },
    {
      "cell_type": "code",
      "source": [
        "# Call the funtions\n",
        "\n",
        "greet(\"Peter\")\n",
        "\n",
        "# Call a function with an another function as a parameter\n",
        "inter_function(put_starts, \"juan\")\n",
        "inter_function(triple, \"Hola\")\n",
        "inter_function(do_nothing, \"Hi!\") # This function return None because call pass in the function\n",
        "\n",
        "\n"
      ],
      "metadata": {
        "colab": {
          "base_uri": "https://localhost:8080/"
        },
        "id": "KGoZVrk0ZUC3",
        "outputId": "a386f729-2daf-44e1-cf7f-de0cb278431c"
      },
      "execution_count": null,
      "outputs": [
        {
          "output_type": "stream",
          "name": "stdout",
          "text": [
            "Hi, Peter!\n",
            "⭐⭐⭐Hi, juan!⭐⭐⭐\n",
            "Hi, Hola!, Hi, Hola!, Hi, Hola!, \n",
            "None\n"
          ]
        }
      ]
    },
    {
      "cell_type": "markdown",
      "source": [
        "## Lambda functions\n",
        "\n",
        "Expressions in a shorter format than \"normal\" functions and they are also anonymous."
      ],
      "metadata": {
        "id": "6xnEe576bqB8"
      }
    },
    {
      "cell_type": "code",
      "source": [
        "def even(n):\n",
        "  return(n % 2) == 0\n",
        "\n",
        "\n",
        "print(even(7))\n",
        "print(even(22))"
      ],
      "metadata": {
        "colab": {
          "base_uri": "https://localhost:8080/"
        },
        "id": "wXmRoyUScL07",
        "outputId": "30bb6ef8-7cb2-42b7-f2f9-a6d37015d9c8"
      },
      "execution_count": null,
      "outputs": [
        {
          "output_type": "stream",
          "name": "stdout",
          "text": [
            "False\n",
            "True\n"
          ]
        }
      ]
    },
    {
      "cell_type": "code",
      "source": [
        "even = lambda n: (n % 2) == 0 # This is a lambda function, is tipicaly use this type for a small calculate problems\n",
        "\n",
        "\n",
        "print(even(7))\n",
        "print(even(22))"
      ],
      "metadata": {
        "colab": {
          "base_uri": "https://localhost:8080/"
        },
        "id": "z4cDH2BgcftH",
        "outputId": "3cca0420-a09d-43d7-aa28-680e3adf4b61"
      },
      "execution_count": null,
      "outputs": [
        {
          "output_type": "stream",
          "name": "stdout",
          "text": [
            "False\n",
            "True\n"
          ]
        }
      ]
    },
    {
      "cell_type": "markdown",
      "source": [
        "## Function Map()\n",
        "\n",
        "`map()` function transforms each element in an iterable (list, dicctionary, set...)"
      ],
      "metadata": {
        "id": "dZuHuO1jdUw6"
      }
    },
    {
      "cell_type": "code",
      "source": [
        "def cube(n):\n",
        "  return n ** 3\n",
        "\n",
        "\n",
        "numbers = [7, 34, 56, 12, 64, 143, 78, 121, 431]\n",
        "\n",
        "cube_numbres = list(map(cube, numbers)) # Primero se pasa la funccion y despues el iterable, en este caso es una lista, necesitamos usar la función list() para que combierta el resultado del map a lista\n",
        "\n",
        "print(numbers)\n",
        "print(cube_numbres)"
      ],
      "metadata": {
        "colab": {
          "base_uri": "https://localhost:8080/"
        },
        "id": "_feguw7odkwL",
        "outputId": "bcf9cfc1-6d70-40f5-e42c-d62fd8267188"
      },
      "execution_count": null,
      "outputs": [
        {
          "output_type": "stream",
          "name": "stdout",
          "text": [
            "[7, 34, 56, 12, 64, 143, 78, 121, 431]\n",
            "[343, 39304, 175616, 1728, 262144, 2924207, 474552, 1771561, 80062991]\n"
          ]
        }
      ]
    },
    {
      "cell_type": "code",
      "source": [
        "numbers = [7, 34, 56, 12, 64, 143, 78, 121, 431, 58]\n",
        "\n",
        "cube_numbres = list(map(lambda n: n ** 3, numbers)) # Primero se pasa la funccion y despues el iterable, en este caso es una lista, necesitamos usar la función list() para que combierta el resultado del map a lista\n",
        "\n",
        "print(numbers)\n",
        "print(cube_numbres)"
      ],
      "metadata": {
        "colab": {
          "base_uri": "https://localhost:8080/"
        },
        "id": "ptgjZUcke8ps",
        "outputId": "ef69fadf-6536-4072-aa99-7f77bbf245d1"
      },
      "execution_count": null,
      "outputs": [
        {
          "output_type": "stream",
          "name": "stdout",
          "text": [
            "[7, 34, 56, 12, 64, 143, 78, 121, 431, 58]\n",
            "[343, 39304, 175616, 1728, 262144, 2924207, 474552, 1771561, 80062991, 195112]\n"
          ]
        }
      ]
    },
    {
      "cell_type": "markdown",
      "source": [
        "## Exercise 1\n",
        "\n",
        "Use the `map()`function to write a uppercase mode the words of the followings list\n",
        "\n",
        "```python\n",
        "words = [\"hello\", \"computer\", \"usb\", \"mouse\", \"keyboard\", \"monitor\"]\n",
        "```"
      ],
      "metadata": {
        "id": "Kh42PcW2fMRq"
      }
    },
    {
      "cell_type": "code",
      "source": [
        "words = [\"hello\", \"computer\", \"usb\", \"mouse\", \"keyboard\", \"monitor\"]\n",
        "\n",
        "upper_words = list(map(str.upper, words))\n",
        "\n",
        "print(upper_words)"
      ],
      "metadata": {
        "colab": {
          "base_uri": "https://localhost:8080/"
        },
        "id": "PnW7vwHJfrgH",
        "outputId": "1b0b29d6-2253-4c6c-e729-32775f158e80"
      },
      "execution_count": null,
      "outputs": [
        {
          "output_type": "stream",
          "name": "stdout",
          "text": [
            "['HELLO', 'COMPUTER', 'USB', 'MOUSE', 'KEYBOARD', 'MONITOR']\n"
          ]
        }
      ]
    },
    {
      "cell_type": "markdown",
      "source": [
        "## Exercise 2\n",
        "\n",
        "Use `map()` to get point in a hand in the game of brisca\n",
        "\n",
        "```Python\n",
        "cards = [\"sota de bastos\", \"caballo de espadas\", \"tres de oros\", \"cuatro de copas\", \"seis de oros\", \"as de copas\"]\n",
        "\n",
        "```"
      ],
      "metadata": {
        "id": "URal8M7IittN"
      }
    },
    {
      "cell_type": "code",
      "source": [
        "cards = [\"sota de bastos\", \"caballo de espadas\", \"tres de oros\", \"cuatro de copas\", \"seis de oros\", \"as de copas\"]\n",
        "\n",
        "# Primero sacamos las palabras con las que vamos a comparar dentro de la función para hacer la busqueda\n",
        "\n",
        "extrad_cars_words = [car.split(' ', 1)[0] for car in cards]\n",
        "\n",
        "def comparate(extrad_cars_words):\n",
        "  \"\"\"\n",
        "  Esta función nos permite sacar los puntos totales de la brisca, según unas cartas dadas\n",
        "  \n",
        "  \"\"\"\n",
        "  deskofcars = {\n",
        "    \"as\" : 11,\n",
        "    \"dos\" : 0,\n",
        "    \"tres\" : 10,\n",
        "    \"cuatro\" : 0,\n",
        "    \"cinco\" : 0,\n",
        "    \"seis\" : 0,\n",
        "    \"siete\" : 0,\n",
        "    \"sota\" : 2,\n",
        "    \"caballo\" : 3,\n",
        "    \"rey\" : 4\n",
        "  }\n",
        "\n",
        "  calculate = 0\n",
        "\n",
        "  for card in deskofcars:\n",
        "    if card == extrad_cars_words:\n",
        "      calculate = deskofcars[card]\n",
        "  return calculate\n",
        "\n",
        "total_points = sum(map(comparate, extrad_cars_words))\n",
        "\n",
        "print(total_points)"
      ],
      "metadata": {
        "colab": {
          "base_uri": "https://localhost:8080/"
        },
        "id": "nZqMQkp9jLDV",
        "outputId": "0a540209-754e-4a8e-bc4d-9c859e07950b"
      },
      "execution_count": null,
      "outputs": [
        {
          "output_type": "stream",
          "name": "stdout",
          "text": [
            "26\n"
          ]
        }
      ]
    },
    {
      "cell_type": "markdown",
      "source": [
        "## Filter\n",
        "\n",
        "La función `filter()` filtra los elementos de una lista(o cualquier otro iterable) en función de si sus elementos cumplen o no."
      ],
      "metadata": {
        "id": "RzRJX9rrTixd"
      }
    },
    {
      "cell_type": "code",
      "source": [
        "numbers = [-1, 5, -7, 22, 97, 0, 54, 62, -77, 23, 73, -61]\n",
        "\n",
        "print(numbers)\n",
        "print(list(filter(lambda n: n >= 0,numbers)))\n",
        "print(list(filter(lambda n: n <= 0,numbers)))"
      ],
      "metadata": {
        "colab": {
          "base_uri": "https://localhost:8080/"
        },
        "id": "O7FPG14-UEsj",
        "outputId": "9b1ad4d5-2959-450b-be3a-e70f9de05990"
      },
      "execution_count": null,
      "outputs": [
        {
          "output_type": "stream",
          "name": "stdout",
          "text": [
            "[-1, 5, -7, 22, 97, 0, 54, 62, -77, 23, 73, -61]\n",
            "[5, 22, 97, 0, 54, 62, 23, 73]\n",
            "[-1, -7, 0, -77, -61]\n"
          ]
        }
      ]
    },
    {
      "cell_type": "markdown",
      "source": [
        "## Exercice 3\n",
        "\n",
        "Utiliza la función `filter()` extraer los para extraer los palindromos de la siguiente lista de palabras.\n",
        "\n",
        "```python\n",
        "words = [\"casa\", \"asa\", \"mesa\", \"PHP\", \"COBOL\", \"ADA\", \"ser\", \"somos\"]\n",
        "```\n"
      ],
      "metadata": {
        "id": "GfsGE8UpVBb5"
      }
    },
    {
      "cell_type": "code",
      "source": [
        "words = [\"casa\", \"asa\", \"mesa\", \"PHP\", \"COBOL\", \"ADA\", \"ser\", \"somos\"]\n",
        "\n",
        "palindromo = list(filter(lambda world: world == world[::-1], words)) # En este ejemplo en particular, la sentencia slice [::-1] significa comenzar en el final de la cadena y terminar en la posición 0, moverse con el paso -1, negativo uno, que significa un paso hacia atrás. \n",
        "\n",
        "print(palindromo)"
      ],
      "metadata": {
        "id": "kCYSWxQFVo1u",
        "colab": {
          "base_uri": "https://localhost:8080/"
        },
        "outputId": "b8256ece-3c68-4a5b-929c-a323546523bc"
      },
      "execution_count": null,
      "outputs": [
        {
          "output_type": "stream",
          "name": "stdout",
          "text": [
            "['asa', 'PHP', 'ADA', 'somos']\n"
          ]
        }
      ]
    },
    {
      "cell_type": "markdown",
      "source": [
        "## Reduce\n",
        "\n",
        "La función `reduce()` sirve para consumir los elementos de una lista (o cualquier otro iterable) mediante una determinada función y obtener un valor.\n",
        "\n",
        "La función que se utiliza para consumir elementos tiene dos parámetros, el primero es el acumulado de lo que se lleva consumiendo y el segundo es el elemento que se va sacando."
      ],
      "metadata": {
        "id": "DNZA1FcKw6ns"
      }
    },
    {
      "cell_type": "code",
      "source": [
        "numeros_enteros = [1, 5, 7, 22, 97, 0, 54, 62, 77, 23, 73, 61]\n",
        "\n",
        "def sumapares(lista_enteros):\n",
        "\n",
        "  suma = 0\n",
        "\n",
        "  for num in numeros_enteros:\n",
        "    if num % 2 == 0:\n",
        "      suma += num\n",
        "    else:\n",
        "      None\n",
        "  return suma\n",
        "\n",
        "print(sumapares(numeros_enteros))\n"
      ],
      "metadata": {
        "colab": {
          "base_uri": "https://localhost:8080/"
        },
        "id": "PXSKhBXq1dAd",
        "outputId": "1d4588f9-8b9e-4a53-8b09-6700a04afafe"
      },
      "execution_count": null,
      "outputs": [
        {
          "output_type": "stream",
          "name": "stdout",
          "text": [
            "138\n",
            "138\n"
          ]
        }
      ]
    },
    {
      "cell_type": "code",
      "source": [
        "# Importante para el reduce(), hay que importarla de una libreria\n",
        "\n",
        "from functools import reduce\n",
        "\n",
        "# Al usar reduce no hace falta list(), ya que devuelve una lista de por si.\n",
        "\n",
        "print(reduce(lambda acumulado, elemento: (elemento if elemento % 2 == 0 else 0) + acumulado, numeros_enteros, 0))"
      ],
      "metadata": {
        "id": "XiFzV68P-jvA"
      },
      "execution_count": null,
      "outputs": []
    }
  ]
}