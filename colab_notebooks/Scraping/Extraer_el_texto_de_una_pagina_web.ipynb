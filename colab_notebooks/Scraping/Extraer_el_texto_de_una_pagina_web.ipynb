{
  "cells": [
    {
      "cell_type": "markdown",
      "metadata": {
        "id": "view-in-github",
        "colab_type": "text"
      },
      "source": [
        "<a href=\"https://colab.research.google.com/github/Legodark/Learning-Data-Science/blob/import_colab/colab_notebooks/Scraping/Extraer_el_texto_de_una_pagina_web.ipynb\" target=\"_parent\"><img src=\"https://colab.research.google.com/assets/colab-badge.svg\" alt=\"Open In Colab\"/></a>"
      ]
    },
    {
      "cell_type": "markdown",
      "metadata": {
        "id": "AEjcKYdz0lNL"
      },
      "source": [
        "# Extraer texto de una web\n",
        "\n",
        "Para ello he usado la libreria [***Beautiful Soup***](https://beautiful-soup-4.readthedocs.io/en/latest/#)"
      ]
    },
    {
      "cell_type": "code",
      "execution_count": null,
      "metadata": {
        "id": "u-AyNwEY0kWc"
      },
      "outputs": [],
      "source": [
        "# Importación de BeautifulSoup y el metodo de petición\n",
        "\n",
        "from bs4 import BeautifulSoup\n",
        "import urllib.request"
      ]
    },
    {
      "cell_type": "code",
      "execution_count": null,
      "metadata": {
        "colab": {
          "background_save": true
        },
        "id": "B_rcTeKY9sJK"
      },
      "outputs": [],
      "source": [
        "# Primero recogermos la url en una variable, en mi caso la he llamado \"url\".\n",
        "\n",
        "url = \"https://twitter.com/WWFespana/status/1580494274734563334\"\n",
        "\n",
        "# A continuación guardamos en una variable la petición de la página web.\n",
        "\n",
        "url_open = urllib.request.urlopen(url)\n",
        "\n",
        "# Una vez realizada la petición guardamos en otra variable la extracción de la url en formato html\n",
        "\n",
        "extract_content = BeautifulSoup(url_open, \"html.parser\")\n",
        "\n",
        "# A continuación con prettify() formateamos la extract_content para que nos salga de forma estructurada y entendible\n",
        "\n",
        "informacion = extract_content.prettify()\n",
        "\n",
        "# Por último lo volvamos al fichero ambient_web.txt la información de la variable \"informacion\"\n",
        "\n",
        "fichero = open(\"ambient_web.txt\", \"w\")\n",
        "\n",
        "fichero.write(informacion)\n",
        "\n",
        "fichero.close()"
      ]
    }
  ],
  "metadata": {
    "colab": {
      "collapsed_sections": [],
      "provenance": [],
      "authorship_tag": "ABX9TyO+yiW4rH0cfgWG1eYHXY2M",
      "include_colab_link": true
    },
    "kernelspec": {
      "display_name": "Python 3",
      "name": "python3"
    },
    "language_info": {
      "name": "python"
    }
  },
  "nbformat": 4,
  "nbformat_minor": 0
}