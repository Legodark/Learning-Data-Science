{
  "metadata": {
    "kernelspec": {
      "display_name": "Python 3",
      "language": "python",
      "name": "python3"
    },
    "language_info": {
      "name": "python",
      "version": "3.7.12",
      "mimetype": "text/x-python",
      "codemirror_mode": {
        "name": "ipython",
        "version": 3
      },
      "pygments_lexer": "ipython3",
      "nbconvert_exporter": "python",
      "file_extension": ".py"
    },
    "colab": {
      "provenance": [],
      "include_colab_link": true
    }
  },
  "nbformat_minor": 0,
  "nbformat": 4,
  "cells": [
    {
      "cell_type": "markdown",
      "metadata": {
        "id": "view-in-github",
        "colab_type": "text"
      },
      "source": [
        "<a href=\"https://colab.research.google.com/github/Legodark/Learning-Data-Science/blob/import_colab/colab_notebooks/Seaborn/exercise_final_project.ipynb\" target=\"_parent\"><img src=\"https://colab.research.google.com/assets/colab-badge.svg\" alt=\"Open In Colab\"/></a>"
      ]
    },
    {
      "cell_type": "markdown",
      "source": [
        "**This notebook is an exercise in the [Data Visualization](https://www.kaggle.com/learn/data-visualization) course.  You can reference the tutorial at [this link](https://www.kaggle.com/alexisbcook/final-project).**\n",
        "\n",
        "---\n"
      ],
      "metadata": {
        "id": "TMO3dXXf2Dik"
      }
    },
    {
      "cell_type": "markdown",
      "source": [
        "Now it's time for you to demonstrate your new skills with a project of your own!\n",
        "\n",
        "In this exercise, you will work with a dataset of your choosing.  Once you've selected a dataset, you'll design and create your own plot to tell interesting stories behind the data!\n",
        "\n",
        "## Setup\n",
        "\n",
        "Run the next cell to import and configure the Python libraries that you need to complete the exercise."
      ],
      "metadata": {
        "id": "DRfZn4z-2Dim"
      }
    },
    {
      "cell_type": "code",
      "source": [
        "import pandas as pd\n",
        "pd.plotting.register_matplotlib_converters()\n",
        "import matplotlib.pyplot as plt\n",
        "%matplotlib inline\n",
        "import seaborn as sns\n",
        "print(\"Setup Complete\")"
      ],
      "metadata": {
        "execution": {
          "iopub.status.busy": "2022-11-08T16:18:12.076002Z",
          "iopub.execute_input": "2022-11-08T16:18:12.076867Z",
          "iopub.status.idle": "2022-11-08T16:18:12.084635Z",
          "shell.execute_reply.started": "2022-11-08T16:18:12.076826Z",
          "shell.execute_reply": "2022-11-08T16:18:12.083766Z"
        },
        "trusted": true,
        "id": "9o62J--p2Dim",
        "outputId": "30ceb8fd-0c4b-4ba3-85a9-c974dbeee433"
      },
      "execution_count": null,
      "outputs": [
        {
          "name": "stdout",
          "text": "Setup Complete\n",
          "output_type": "stream"
        }
      ]
    },
    {
      "cell_type": "markdown",
      "source": [
        "The questions below will give you feedback on your work. Run the following cell to set up the feedback system."
      ],
      "metadata": {
        "id": "tgaZHyRO2Din"
      }
    },
    {
      "cell_type": "code",
      "source": [
        "# Set up code checking\n",
        "from learntools.core import binder\n",
        "binder.bind(globals())\n",
        "from learntools.data_viz_to_coder.ex7 import *\n",
        "print(\"Setup Complete\")"
      ],
      "metadata": {
        "execution": {
          "iopub.status.busy": "2022-11-08T16:18:13.431199Z",
          "iopub.execute_input": "2022-11-08T16:18:13.431861Z",
          "iopub.status.idle": "2022-11-08T16:18:13.464561Z",
          "shell.execute_reply.started": "2022-11-08T16:18:13.431824Z",
          "shell.execute_reply": "2022-11-08T16:18:13.463612Z"
        },
        "trusted": true,
        "id": "rKb9vV1T2Din",
        "outputId": "bfe1c105-eb8c-46c2-a3bd-88f1edab4f5c"
      },
      "execution_count": null,
      "outputs": [
        {
          "name": "stdout",
          "text": "Setup Complete\n",
          "output_type": "stream"
        }
      ]
    },
    {
      "cell_type": "markdown",
      "source": [
        "## Step 1: Attach a dataset to the notebook\n",
        "\n",
        "Begin by selecting a CSV dataset from [Kaggle Datasets](https://www.kaggle.com/datasets).  If you're unsure how to do this, please revisit the instructions in the previous tutorial.\n",
        "\n",
        "Once you have selected a dataset, click on the **[+ Add data]** option in the top right corner.  This will generate a pop-up window that you can use to search for your chosen dataset.  \n",
        "\n",
        "![ex6_search_dataset](https://i.imgur.com/cIIWPUS.png)\n",
        "\n",
        "Once you have found the dataset, click on the **[Add]** button to attach it to the notebook.  You can check that it was successful by looking at the **Data** dropdown menu to the right of the notebook -- look for an **input** folder containing a subfolder that matches the name of the dataset.\n",
        "\n",
        "<center>\n",
        "<img src=\"https://i.imgur.com/nMYc1Nu.png\" width=30%><br/>\n",
        "</center>\n",
        "\n",
        "You can click on the carat to the left of the name of the dataset to double-check that it contains a CSV file.  For instance, the image below shows that the example dataset contains two CSV files: (1) **dc-wikia-data.csv**, and (2) **marvel-wikia-data.csv**.\n",
        "\n",
        "<center>\n",
        "<img src=\"https://i.imgur.com/B4sJkVA.png\" width=30%><br/>\n",
        "</center>\n",
        "\n",
        "Once you've uploaded a dataset with a CSV file, run the code cell below **without changes** to receive credit for your work!"
      ],
      "metadata": {
        "id": "PwYPx8mk2Din"
      }
    },
    {
      "cell_type": "code",
      "source": [
        "# Check for a dataset with a CSV file\n",
        "step_1.check()"
      ],
      "metadata": {
        "execution": {
          "iopub.status.busy": "2022-11-08T16:28:04.284892Z",
          "iopub.execute_input": "2022-11-08T16:28:04.285335Z",
          "iopub.status.idle": "2022-11-08T16:28:04.307341Z",
          "shell.execute_reply.started": "2022-11-08T16:28:04.285302Z",
          "shell.execute_reply": "2022-11-08T16:28:04.306489Z"
        },
        "trusted": true,
        "id": "7pgoUp_Q2Din",
        "outputId": "85aae4cd-71f0-49de-d412-187fbb03f6a5"
      },
      "execution_count": null,
      "outputs": [
        {
          "output_type": "display_data",
          "data": {
            "text/plain": "<IPython.core.display.Javascript object>",
            "application/javascript": "parent.postMessage({\"jupyterEvent\": \"custom.exercise_interaction\", \"data\": {\"outcomeType\": 1, \"valueTowardsCompletion\": 0.25, \"interactionType\": 1, \"questionType\": 2, \"questionId\": \"1_AttachData\", \"learnToolsVersion\": \"0.3.4\", \"failureMessage\": \"\", \"exceptionClass\": \"\", \"trace\": \"\"}}, \"*\")"
          },
          "metadata": {}
        },
        {
          "output_type": "display_data",
          "data": {
            "text/plain": "Correct: \n",
            "text/markdown": "<span style=\"color:#33cc33\">Correct:</span> \n\n"
          },
          "metadata": {}
        }
      ]
    },
    {
      "cell_type": "markdown",
      "source": [
        "## Step 2: Specify the filepath\n",
        "\n",
        "Now that the dataset is attached to the notebook, you can find its filepath.  To do this, begin by clicking on the CSV file you'd like to use.  This will open the CSV file in a tab below the notebook.  You can find the filepath towards the top of this new tab.  \n",
        "\n",
        "![ex6_filepath](https://i.imgur.com/fgXQV47.png)\n",
        "\n",
        "After you find the filepath corresponding to your dataset, fill it in as the value for `my_filepath` in the code cell below, and run the code cell to check that you've provided a valid filepath.  For instance, in the case of this example dataset, we would set\n",
        "```\n",
        "my_filepath = \"../input/fivethirtyeight-comic-characters-dataset/dc-wikia-data.csv\"\n",
        "```  \n",
        "Note that **you must enclose the filepath in quotation marks**; otherwise, the code will return an error.\n",
        "\n",
        "Once you've entered the filepath, you can close the tab below the notebook by clicking on the **[X]** at the top of the tab."
      ],
      "metadata": {
        "id": "5i6yc5512Dio"
      }
    },
    {
      "cell_type": "code",
      "source": [
        "# Fill in the line below: Specify the path of the CSV file to read\n",
        "my_filepath = \"../input/fivethirtyeight-comic-characters-dataset/dc-wikia-data.csv\"\n",
        "\n",
        "# Check for a valid filepath to a CSV file in a dataset\n",
        "step_2.check()"
      ],
      "metadata": {
        "execution": {
          "iopub.status.busy": "2022-11-08T16:31:06.780365Z",
          "iopub.execute_input": "2022-11-08T16:31:06.780776Z",
          "iopub.status.idle": "2022-11-08T16:31:06.792510Z",
          "shell.execute_reply.started": "2022-11-08T16:31:06.780744Z",
          "shell.execute_reply": "2022-11-08T16:31:06.791213Z"
        },
        "trusted": true,
        "id": "_47fNRv92Dio",
        "outputId": "84f33361-d404-4f98-e916-2895db3af875"
      },
      "execution_count": null,
      "outputs": [
        {
          "output_type": "display_data",
          "data": {
            "text/plain": "<IPython.core.display.Javascript object>",
            "application/javascript": "parent.postMessage({\"jupyterEvent\": \"custom.exercise_interaction\", \"data\": {\"outcomeType\": 1, \"valueTowardsCompletion\": 0.25, \"interactionType\": 1, \"questionType\": 2, \"questionId\": \"2_Filepath\", \"learnToolsVersion\": \"0.3.4\", \"failureMessage\": \"\", \"exceptionClass\": \"\", \"trace\": \"\"}}, \"*\")"
          },
          "metadata": {}
        },
        {
          "output_type": "display_data",
          "data": {
            "text/plain": "Correct: \n",
            "text/markdown": "<span style=\"color:#33cc33\">Correct:</span> \n\n"
          },
          "metadata": {}
        }
      ]
    },
    {
      "cell_type": "markdown",
      "source": [
        "## Step 3: Load the data\n",
        "\n",
        "Use the next code cell to load your data file into `my_data`.  Use the filepath that you specified in the previous step."
      ],
      "metadata": {
        "id": "TV6kKdO72Dio"
      }
    },
    {
      "cell_type": "code",
      "source": [
        "# Fill in the line below: Read the file into a variable my_data\n",
        "my_data = pd.read_csv(my_filepath)\n",
        "\n",
        "# Check that a dataset has been uploaded into my_data\n",
        "step_3.check()"
      ],
      "metadata": {
        "execution": {
          "iopub.status.busy": "2022-11-08T16:33:20.323945Z",
          "iopub.execute_input": "2022-11-08T16:33:20.324342Z",
          "iopub.status.idle": "2022-11-08T16:33:20.363060Z",
          "shell.execute_reply.started": "2022-11-08T16:33:20.324309Z",
          "shell.execute_reply": "2022-11-08T16:33:20.361799Z"
        },
        "trusted": true,
        "id": "FgrBE6zV2Dio",
        "outputId": "0a73435a-6e6d-433e-b105-324dc4a012dd"
      },
      "execution_count": null,
      "outputs": [
        {
          "output_type": "display_data",
          "data": {
            "text/plain": "<IPython.core.display.Javascript object>",
            "application/javascript": "parent.postMessage({\"jupyterEvent\": \"custom.exercise_interaction\", \"data\": {\"outcomeType\": 1, \"valueTowardsCompletion\": 0.25, \"interactionType\": 1, \"questionType\": 2, \"questionId\": \"3_LoadData\", \"learnToolsVersion\": \"0.3.4\", \"failureMessage\": \"\", \"exceptionClass\": \"\", \"trace\": \"\"}}, \"*\")"
          },
          "metadata": {}
        },
        {
          "output_type": "display_data",
          "data": {
            "text/plain": "Correct: \n",
            "text/markdown": "<span style=\"color:#33cc33\">Correct:</span> \n\n"
          },
          "metadata": {}
        }
      ]
    },
    {
      "cell_type": "markdown",
      "source": [
        "**_After the code cell above is marked correct_**, run the code cell below without changes to view the first five rows of the data."
      ],
      "metadata": {
        "id": "oW-2bp_M2Dio"
      }
    },
    {
      "cell_type": "code",
      "source": [
        "# Print the first five rows of the data\n",
        "my_data.head()"
      ],
      "metadata": {
        "execution": {
          "iopub.status.busy": "2022-11-08T16:33:23.078951Z",
          "iopub.execute_input": "2022-11-08T16:33:23.079620Z",
          "iopub.status.idle": "2022-11-08T16:33:23.105399Z",
          "shell.execute_reply.started": "2022-11-08T16:33:23.079585Z",
          "shell.execute_reply": "2022-11-08T16:33:23.104323Z"
        },
        "trusted": true,
        "id": "8uVpHhOT2Dip",
        "outputId": "a4ac80df-f84b-4c80-e8fa-05b4f9c0d6f3"
      },
      "execution_count": null,
      "outputs": [
        {
          "execution_count": 17,
          "output_type": "execute_result",
          "data": {
            "text/plain": "   page_id                         name                              urlslug  \\\n0     1422         Batman (Bruce Wayne)         \\/wiki\\/Batman_(Bruce_Wayne)   \n1    23387        Superman (Clark Kent)        \\/wiki\\/Superman_(Clark_Kent)   \n2     1458   Green Lantern (Hal Jordan)   \\/wiki\\/Green_Lantern_(Hal_Jordan)   \n3     1659     James Gordon (New Earth)     \\/wiki\\/James_Gordon_(New_Earth)   \n4     1576  Richard Grayson (New Earth)  \\/wiki\\/Richard_Grayson_(New_Earth)   \n\n                ID            ALIGN         EYE        HAIR              SEX  \\\n0  Secret Identity  Good Characters   Blue Eyes  Black Hair  Male Characters   \n1  Secret Identity  Good Characters   Blue Eyes  Black Hair  Male Characters   \n2  Secret Identity  Good Characters  Brown Eyes  Brown Hair  Male Characters   \n3  Public Identity  Good Characters  Brown Eyes  White Hair  Male Characters   \n4  Secret Identity  Good Characters   Blue Eyes  Black Hair  Male Characters   \n\n   GSM              ALIVE  APPEARANCES FIRST APPEARANCE    YEAR  \n0  NaN  Living Characters       3093.0        1939, May  1939.0  \n1  NaN  Living Characters       2496.0    1986, October  1986.0  \n2  NaN  Living Characters       1565.0    1959, October  1959.0  \n3  NaN  Living Characters       1316.0   1987, February  1987.0  \n4  NaN  Living Characters       1237.0      1940, April  1940.0  ",
            "text/html": "<div>\n<style scoped>\n    .dataframe tbody tr th:only-of-type {\n        vertical-align: middle;\n    }\n\n    .dataframe tbody tr th {\n        vertical-align: top;\n    }\n\n    .dataframe thead th {\n        text-align: right;\n    }\n</style>\n<table border=\"1\" class=\"dataframe\">\n  <thead>\n    <tr style=\"text-align: right;\">\n      <th></th>\n      <th>page_id</th>\n      <th>name</th>\n      <th>urlslug</th>\n      <th>ID</th>\n      <th>ALIGN</th>\n      <th>EYE</th>\n      <th>HAIR</th>\n      <th>SEX</th>\n      <th>GSM</th>\n      <th>ALIVE</th>\n      <th>APPEARANCES</th>\n      <th>FIRST APPEARANCE</th>\n      <th>YEAR</th>\n    </tr>\n  </thead>\n  <tbody>\n    <tr>\n      <th>0</th>\n      <td>1422</td>\n      <td>Batman (Bruce Wayne)</td>\n      <td>\\/wiki\\/Batman_(Bruce_Wayne)</td>\n      <td>Secret Identity</td>\n      <td>Good Characters</td>\n      <td>Blue Eyes</td>\n      <td>Black Hair</td>\n      <td>Male Characters</td>\n      <td>NaN</td>\n      <td>Living Characters</td>\n      <td>3093.0</td>\n      <td>1939, May</td>\n      <td>1939.0</td>\n    </tr>\n    <tr>\n      <th>1</th>\n      <td>23387</td>\n      <td>Superman (Clark Kent)</td>\n      <td>\\/wiki\\/Superman_(Clark_Kent)</td>\n      <td>Secret Identity</td>\n      <td>Good Characters</td>\n      <td>Blue Eyes</td>\n      <td>Black Hair</td>\n      <td>Male Characters</td>\n      <td>NaN</td>\n      <td>Living Characters</td>\n      <td>2496.0</td>\n      <td>1986, October</td>\n      <td>1986.0</td>\n    </tr>\n    <tr>\n      <th>2</th>\n      <td>1458</td>\n      <td>Green Lantern (Hal Jordan)</td>\n      <td>\\/wiki\\/Green_Lantern_(Hal_Jordan)</td>\n      <td>Secret Identity</td>\n      <td>Good Characters</td>\n      <td>Brown Eyes</td>\n      <td>Brown Hair</td>\n      <td>Male Characters</td>\n      <td>NaN</td>\n      <td>Living Characters</td>\n      <td>1565.0</td>\n      <td>1959, October</td>\n      <td>1959.0</td>\n    </tr>\n    <tr>\n      <th>3</th>\n      <td>1659</td>\n      <td>James Gordon (New Earth)</td>\n      <td>\\/wiki\\/James_Gordon_(New_Earth)</td>\n      <td>Public Identity</td>\n      <td>Good Characters</td>\n      <td>Brown Eyes</td>\n      <td>White Hair</td>\n      <td>Male Characters</td>\n      <td>NaN</td>\n      <td>Living Characters</td>\n      <td>1316.0</td>\n      <td>1987, February</td>\n      <td>1987.0</td>\n    </tr>\n    <tr>\n      <th>4</th>\n      <td>1576</td>\n      <td>Richard Grayson (New Earth)</td>\n      <td>\\/wiki\\/Richard_Grayson_(New_Earth)</td>\n      <td>Secret Identity</td>\n      <td>Good Characters</td>\n      <td>Blue Eyes</td>\n      <td>Black Hair</td>\n      <td>Male Characters</td>\n      <td>NaN</td>\n      <td>Living Characters</td>\n      <td>1237.0</td>\n      <td>1940, April</td>\n      <td>1940.0</td>\n    </tr>\n  </tbody>\n</table>\n</div>"
          },
          "metadata": {}
        }
      ]
    },
    {
      "cell_type": "markdown",
      "source": [
        "## Step 4: Visualize the data\n",
        "\n",
        "Use the next code cell to create a figure that tells a story behind your dataset.  You can use any chart type (_line chart, bar chart, heatmap, etc_) of your choosing!"
      ],
      "metadata": {
        "id": "rkVp7u3T2Dip"
      }
    },
    {
      "cell_type": "code",
      "source": [
        "# Create a plot\n",
        "# Hacemos la grafica mas grande\n",
        "plt.figure(figsize=(12,6))\n",
        "# Le ponemos un fondo oscuro\n",
        "sns.set_style(\"dark\")\n",
        "# Creamos la grafica\n",
        "sns.lineplot(x = 'YEAR', y = 'APPEARANCES', data = my_data) # Your code here\n",
        "\n",
        "# Check that a figure appears below\n",
        "step_4.check()"
      ],
      "metadata": {
        "execution": {
          "iopub.status.busy": "2022-11-08T16:53:48.807227Z",
          "iopub.execute_input": "2022-11-08T16:53:48.807623Z",
          "iopub.status.idle": "2022-11-08T16:53:50.777163Z",
          "shell.execute_reply.started": "2022-11-08T16:53:48.807590Z",
          "shell.execute_reply": "2022-11-08T16:53:50.776044Z"
        },
        "trusted": true,
        "id": "Gzg7vE_R2Dip",
        "outputId": "f9da3a97-0b0d-427b-c5c4-12e751460a82"
      },
      "execution_count": null,
      "outputs": [
        {
          "output_type": "display_data",
          "data": {
            "text/plain": "<IPython.core.display.Javascript object>",
            "application/javascript": "parent.postMessage({\"jupyterEvent\": \"custom.exercise_interaction\", \"data\": {\"outcomeType\": 1, \"valueTowardsCompletion\": 0.25, \"interactionType\": 1, \"questionType\": 2, \"questionId\": \"4_CreatePlot\", \"learnToolsVersion\": \"0.3.4\", \"failureMessage\": \"\", \"exceptionClass\": \"\", \"trace\": \"\"}}, \"*\")"
          },
          "metadata": {}
        },
        {
          "output_type": "display_data",
          "data": {
            "text/plain": "Correct: \n",
            "text/markdown": "<span style=\"color:#33cc33\">Correct:</span> \n\n"
          },
          "metadata": {}
        },
        {
          "output_type": "display_data",
          "data": {
            "text/plain": "<Figure size 864x432 with 1 Axes>",
            "image/png": "[encoded data removed]"
          },
          "metadata": {}
        }
      ]
    },
    {
      "cell_type": "markdown",
      "source": [
        "## Keep going\n",
        "\n",
        "Learn how to use your skills after completing the micro-course to create data visualizations in a **[final tutorial](https://www.kaggle.com/alexisbcook/creating-your-own-notebooks)**."
      ],
      "metadata": {
        "id": "H8Wt1uE02Dip"
      }
    },
    {
      "cell_type": "markdown",
      "source": [
        "---\n",
        "\n",
        "\n",
        "\n",
        "\n",
        "*Have questions or comments? Visit the [course discussion forum](https://www.kaggle.com/learn/data-visualization/discussion) to chat with other learners.*"
      ],
      "metadata": {
        "id": "y0sb-Ex62Dip"
      }
    }
  ]
}